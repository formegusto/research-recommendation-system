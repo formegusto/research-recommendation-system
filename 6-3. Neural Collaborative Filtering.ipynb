{
 "cells": [
  {
   "cell_type": "code",
   "execution_count": 1,
   "id": "eed894f7",
   "metadata": {},
   "outputs": [],
   "source": [
    "%load_ext autoreload\n",
    "%autoreload 2\n",
    "%reload_ext autoreload"
   ]
  },
  {
   "cell_type": "code",
   "execution_count": 2,
   "id": "7012434a",
   "metadata": {},
   "outputs": [
    {
     "name": "stderr",
     "output_type": "stream",
     "text": [
      "2023-01-16 23:08:30.071509: I tensorflow/core/platform/cpu_feature_guard.cc:193] This TensorFlow binary is optimized with oneAPI Deep Neural Network Library (oneDNN) to use the following CPU instructions in performance-critical operations:  AVX2 FMA\n",
      "To enable them in other operations, rebuild TensorFlow with the appropriate compiler flags.\n"
     ]
    }
   ],
   "source": [
    "from datetime import datetime as dt\n",
    "\n",
    "import tensorflow as tf\n",
    "from tensorflow import keras\n",
    "\n",
    "from module import DataLoader\n",
    "import matplotlib.pyplot as plt\n",
    "import pandas as pd"
   ]
  },
  {
   "cell_type": "markdown",
   "id": "23040f11",
   "metadata": {},
   "source": [
    "# 1. Data\n",
    "- 해당의 데이터는 movielens 데이터이며, train_test_split 으로 나누어져 훈련용, 시험용 데이터로 나누어진다.\n",
    "- generate_trainset, generate_testset 으로 인해 반환되는 값은 numpy array의 형식으로 X, y 로 반환된다."
   ]
  },
  {
   "cell_type": "code",
   "execution_count": 3,
   "id": "55b23e8c",
   "metadata": {},
   "outputs": [
    {
     "name": "stdout",
     "output_type": "stream",
     "text": [
      "훈련 데이터 shape : (80003, 2), 훈련 라벨 갯수 : 80003\n",
      "테스트 데이터 shape : (19259, 2), 테스트 라벨 갯수 : 19259\n"
     ]
    }
   ],
   "source": [
    "loader = DataLoader()\n",
    "\n",
    "X_train, y_train = loader.generate_trainset()\n",
    "X_test, y_test = loader.generate_testset()\n",
    "\n",
    "print(\"훈련 데이터 shape : {}, 훈련 라벨 갯수 : {}\".format(X_train.shape, y_train.size))\n",
    "print(\"테스트 데이터 shape : {}, 테스트 라벨 갯수 : {}\".format(X_test.shape, y_test.size))"
   ]
  },
  {
   "cell_type": "markdown",
   "id": "09213923",
   "metadata": {},
   "source": [
    "# 2. Neural Collaborative Filtering (Neural CF)"
   ]
  },
  {
   "cell_type": "markdown",
   "id": "354f80bc",
   "metadata": {},
   "source": [
    "## 1. Generate Neural CF Model Process"
   ]
  },
  {
   "cell_type": "code",
   "execution_count": 13,
   "id": "bc90730f",
   "metadata": {},
   "outputs": [],
   "source": [
    "# 1. Setting Value\n",
    "\n",
    "# Global\n",
    "num_users = loader.num_users\n",
    "num_items = loader.num_items\n",
    "regs = 0\n",
    "\n",
    "# GMF Setting\n",
    "latent_features = 8\n",
    "\n",
    "# MLP Setting\n",
    "layers = list(map(int, [64,32,16,8]))\n",
    "num_layers = len(layers)"
   ]
  },
  {
   "cell_type": "code",
   "execution_count": 14,
   "id": "be465582",
   "metadata": {},
   "outputs": [],
   "source": [
    "# 2. 입력 층 생성\n",
    "user_input = keras.Input(shape=(1,), dtype='int32')\n",
    "item_input = keras.Input(shape=(1,), dtype='int32')"
   ]
  },
  {
   "cell_type": "code",
   "execution_count": 15,
   "id": "f0affe11",
   "metadata": {},
   "outputs": [
    {
     "name": "stdout",
     "output_type": "stream",
     "text": [
      "---- 사용자 X 아이템 ----\n",
      "입력 값: 0 0\n",
      "GMF 출력 값: [ 0.00132061 -0.00094719  0.00154065 -0.00035883 -0.00054394  0.00052732\n",
      " -0.00064469  0.00016438]\n",
      "훈련 데이터 shape: (80003, 8)\n",
      "\n"
     ]
    }
   ],
   "source": [
    "# 3-1. GMF Layer Group 생성 (embedding -> flatten -> multiply)\n",
    "user_model_gmf = keras.Sequential()\n",
    "item_model_gmf = keras.Sequential()\n",
    "\n",
    "user_model_gmf.add(user_input)\n",
    "item_model_gmf.add(item_input)\n",
    "\n",
    "# 3-1-1. embedding\n",
    "user_embedding_gmf = keras.layers.Embedding(\n",
    "                    num_users,\n",
    "                    latent_features,\n",
    "                    embeddings_regularizer=keras.regularizers.l2(regs),\n",
    "                    name='user_emebedding')\n",
    "item_embedding_gmf = keras.layers.Embedding(\n",
    "                    num_items,\n",
    "                    latent_features,\n",
    "                    embeddings_regularizer=keras.regularizers.l2(regs),\n",
    "                    name='item_emebedding')\n",
    "user_model_gmf.add(user_embedding_gmf)\n",
    "item_model_gmf.add(item_embedding_gmf)\n",
    "\n",
    "\n",
    "# 3-1-2. flatten\n",
    "user_latent_gmf = keras.layers.Flatten()\n",
    "item_latent_gmf = keras.layers.Flatten()\n",
    "user_model_gmf.add(user_latent_gmf)\n",
    "item_model_gmf.add(item_latent_gmf)\n",
    "\n",
    "# 3-1-3. multiply\n",
    "user_output_gmf = user_model_gmf(X_train[:, 0])\n",
    "item_output_gmf = item_model_gmf(X_train[:, 1])\n",
    "concat = keras.layers.Multiply()\n",
    "gmf_result = concat([user_output_gmf, item_output_gmf])\n",
    "\n",
    "print(\"---- 사용자 X 아이템 ----\")\n",
    "print(\"입력 값: {} {}\".format(X_train[0, 0], X_train[0, 1]))\n",
    "print(\"GMF 출력 값: {}\".format(gmf_result[0].numpy()))\n",
    "print(\"훈련 데이터 shape: {}\\n\".format(gmf_result.shape))"
   ]
  },
  {
   "cell_type": "code",
   "execution_count": 16,
   "id": "f603002d",
   "metadata": {},
   "outputs": [
    {
     "name": "stdout",
     "output_type": "stream",
     "text": [
      "---- 사용자 X 아이템 ----\n",
      "입력 값: 0\n",
      "MLP 출력 값: [0.         0.         0.02590442 0.01074686 0.03258268 0.\n",
      " 0.02817096 0.03529551]\n",
      "훈련 데이터 shape: (80003, 8)\n",
      "\n"
     ]
    }
   ],
   "source": [
    "# 3-2. MLP Layer Group 생성 (embedding -> flatten -> concatenate -> hidden layers)\n",
    "user_model_mlp = keras.Sequential()\n",
    "item_model_mlp = keras.Sequential()\n",
    "\n",
    "user_model_mlp.add(user_input)\n",
    "item_model_mlp.add(item_input)\n",
    "\n",
    "# 3-2-1. embedding\n",
    "user_embedding_mlp = keras.layers.Embedding(\n",
    "                    num_users,\n",
    "                    int(layers[0] / 2),\n",
    "                    embeddings_regularizer=keras.regularizers.l2(regs),\n",
    "                    name='user_emebedding')\n",
    "item_embedding_mlp = keras.layers.Embedding(\n",
    "                    num_items,\n",
    "                    int(layers[0] / 2),\n",
    "                    embeddings_regularizer=keras.regularizers.l2(regs),\n",
    "                    name='item_emebedding')\n",
    "user_model_mlp.add(user_embedding_mlp)\n",
    "item_model_mlp.add(item_embedding_mlp)\n",
    "\n",
    "# 3-2-2. flatten\n",
    "user_latent_mlp = keras.layers.Flatten()\n",
    "item_latent_mlp = keras.layers.Flatten()\n",
    "user_model_mlp.add(user_latent_mlp)\n",
    "item_model_mlp.add(item_latent_mlp)\n",
    "\n",
    "# 3-2-3. concatenate\n",
    "user_output_mlp = user_model_mlp(X_train[:, 0])\n",
    "item_output_mlp = item_model_mlp(X_train[:, 1])\n",
    "vector = keras.layers.Concatenate()\n",
    "concatenates_output = vector([user_output_mlp, item_output_mlp])\n",
    "\n",
    "# 3-2-4. hidden layers\n",
    "hidden_model = keras.Sequential()\n",
    "for index in range(num_layers):\n",
    "    hidden_layer = keras.layers.Dense(\n",
    "                    layers[index],\n",
    "                    kernel_regularizer=keras.regularizers.l2(regs),\n",
    "                    activation = keras.activations.relu,\n",
    "                    name = \"layer_{}\".format(index)\n",
    "                   )\n",
    "    hidden_model.add(hidden_layer)\n",
    "mlp_result = hidden_model(concatenates_output)\n",
    "\n",
    "print(\"---- 사용자 X 아이템 ----\")\n",
    "print(\"입력 값: {}\".format(X_train[0, 0], X_train[0, 1]))\n",
    "print(\"MLP 출력 값: {}\".format(mlp_result[0].numpy()))\n",
    "print(\"훈련 데이터 shape: {}\\n\".format(mlp_result.shape))"
   ]
  },
  {
   "cell_type": "code",
   "execution_count": 21,
   "id": "ab6241cc",
   "metadata": {},
   "outputs": [
    {
     "name": "stdout",
     "output_type": "stream",
     "text": [
      "---- GMF X MLP ----\n",
      "입력 값: 0 0\n",
      "GMF X MLP 출력 값: [ 0.00132061 -0.00094719  0.00154065 -0.00035883 -0.00054394  0.00052732\n",
      " -0.00064469  0.00016438  0.          0.          0.02590442  0.01074686\n",
      "  0.03258268  0.          0.02817096  0.03529551]\n",
      "훈련 데이터 shape: (80003, 16)\n",
      "\n"
     ]
    }
   ],
   "source": [
    "# 4. concat GMF output and MLP output\n",
    "concat_neural = keras.layers.Concatenate()\n",
    "concat_neural = concat_neural([gmf_result, mlp_result])\n",
    "\n",
    "print(\"---- GMF X MLP ----\")\n",
    "print(\"입력 값: {} {}\".format(X_train[0, 0], X_train[0, 1]))\n",
    "print(\"GMF X MLP 출력 값: {}\".format(concat_neural[0].numpy()))\n",
    "print(\"훈련 데이터 shape: {}\\n\".format(concat_neural.shape))"
   ]
  },
  {
   "cell_type": "code",
   "execution_count": 25,
   "id": "043adbee",
   "metadata": {},
   "outputs": [
    {
     "name": "stdout",
     "output_type": "stream",
     "text": [
      "---- Neural CF 는 GMF가 학습하는 선형적 관계와 MLP가 학습하는 비선형적 관계를 이용하여 학습한다. ----\n",
      "---- Neural CF ----\n",
      "입력 값: 0 0 / 정답 값: 4.5\n",
      "Neural CF 출력 값: [0.02524006]\n",
      "훈련 데이터 shape: (80003, 1)\n",
      "\n"
     ]
    }
   ],
   "source": [
    "# 5. Dense Layer\n",
    "output = keras.layers.Dense(1, kernel_initializer=keras.initializers.lecun_uniform(),name='output')\n",
    "result = output(concat_neural)\n",
    "\n",
    "print(\"---- Neural CF 는 GMF가 학습하는 선형적 관계와 MLP가 학습하는 비선형적 관계를 이용하여 학습한다. ----\")\n",
    "print(\"---- Neural CF ----\")\n",
    "print(\"입력 값: {} {} / 정답 값: {}\".format(X_train[0, 0], X_train[0, 1], y_train[0]))\n",
    "print(\"Neural CF 출력 값: {}\".format(result[0].numpy()))\n",
    "print(\"훈련 데이터 shape: {}\\n\".format(result.shape))"
   ]
  },
  {
   "cell_type": "markdown",
   "id": "c3ea44ac",
   "metadata": {},
   "source": [
    "## 2. Use"
   ]
  },
  {
   "cell_type": "code",
   "execution_count": 26,
   "id": "42c8f12b",
   "metadata": {},
   "outputs": [],
   "source": [
    "# 1. model setting\n",
    "from model import NeuralMF\n",
    "model = NeuralMF(loader.num_users, loader.num_items).get_model()"
   ]
  },
  {
   "cell_type": "code",
   "execution_count": 27,
   "id": "609d0a8e",
   "metadata": {},
   "outputs": [],
   "source": [
    "# 2. Callbacks\n",
    "early_stop_cb = keras.callbacks.EarlyStopping(patience=10, restore_best_weights=True)\n",
    "# model_out_file = 'Pretrain/GMF_%s.h5' % (datetime.now().strftime('%Y-%m-%d-%h-%m-%s'))\n",
    "# model_check_cb = keras.callbacks.ModelCheckpoint(model_out_file, save_best_only=True)"
   ]
  },
  {
   "cell_type": "code",
   "execution_count": 28,
   "id": "da1a6639",
   "metadata": {},
   "outputs": [],
   "source": [
    "# 3. Compile\n",
    "learner = \"adam\"\n",
    "learning_rate = 0.001\n",
    "\n",
    "if learner == \"adagrad\":\n",
    "    model.compile(optimizer=keras.optimizers.Adagrad(learning_rate=learning_rate), loss='mse')\n",
    "elif learner == \"rmsprop\":\n",
    "    model.compile(optimizer=keras.optimizers.RMSprop(learning_rate=learning_rate), loss='mse')\n",
    "elif learner == \"adam\":\n",
    "    model.compile(optimizer=keras.optimizers.Adam(learning_rate=learning_rate), loss='mse')\n",
    "else:\n",
    "    model.compile(optimizer=keras.optimizers.SGD(learning_rate=learning_rate), loss='mse')"
   ]
  },
  {
   "cell_type": "code",
   "execution_count": 29,
   "id": "8f6077b9",
   "metadata": {},
   "outputs": [
    {
     "name": "stdout",
     "output_type": "stream",
     "text": [
      "Epoch 1/20\n",
      "313/313 [==============================] - 3s 6ms/step - loss: 3.0852 - val_loss: 0.8125\n",
      "Epoch 2/20\n",
      "313/313 [==============================] - 2s 6ms/step - loss: 0.7680 - val_loss: 0.7947\n",
      "Epoch 3/20\n",
      "313/313 [==============================] - 2s 7ms/step - loss: 0.7244 - val_loss: 0.7951\n",
      "Epoch 4/20\n",
      "313/313 [==============================] - 2s 8ms/step - loss: 0.6622 - val_loss: 0.7919\n",
      "Epoch 5/20\n",
      "313/313 [==============================] - 3s 9ms/step - loss: 0.5752 - val_loss: 0.8019\n",
      "Epoch 6/20\n",
      "313/313 [==============================] - 3s 11ms/step - loss: 0.5040 - val_loss: 0.8264\n",
      "Epoch 7/20\n",
      "313/313 [==============================] - 3s 10ms/step - loss: 0.4595 - val_loss: 0.8479\n",
      "Epoch 8/20\n",
      "313/313 [==============================] - 3s 9ms/step - loss: 0.4270 - val_loss: 0.8783\n",
      "Epoch 9/20\n",
      "313/313 [==============================] - 3s 8ms/step - loss: 0.4042 - val_loss: 0.8898\n",
      "Epoch 10/20\n",
      "313/313 [==============================] - 3s 9ms/step - loss: 0.3849 - val_loss: 0.9109\n",
      "Epoch 11/20\n",
      "313/313 [==============================] - 3s 9ms/step - loss: 0.3696 - val_loss: 0.9275\n",
      "Epoch 12/20\n",
      "313/313 [==============================] - 4s 14ms/step - loss: 0.3538 - val_loss: 0.9330\n",
      "Epoch 13/20\n",
      "313/313 [==============================] - 3s 10ms/step - loss: 0.3400 - val_loss: 0.9490\n",
      "Epoch 14/20\n",
      "313/313 [==============================] - 3s 9ms/step - loss: 0.3264 - val_loss: 0.9589\n"
     ]
    }
   ],
   "source": [
    "# 4. Train\n",
    "epochs = 20\n",
    "batch_size = 256\n",
    "\n",
    "history = model.fit(\n",
    "            [X_train[:, 0], X_train[:, 1]], y_train,\n",
    "            epochs=epochs,\n",
    "            batch_size=batch_size,\n",
    "            validation_data=([X_test[:, 0], X_test[:, 1]], y_test),\n",
    "            callbacks=[early_stop_cb]\n",
    "        )"
   ]
  },
  {
   "cell_type": "code",
   "execution_count": 32,
   "id": "8fb0546e",
   "metadata": {},
   "outputs": [
    {
     "data": {
      "image/png": "[encoded data removed]",
      "text/plain": [
       "<Figure size 800x500 with 1 Axes>"
      ]
     },
     "metadata": {},
     "output_type": "display_data"
    },
    {
     "name": "stdout",
     "output_type": "stream",
     "text": [
      "1/1 [==============================] - 0s 22ms/step\n",
      "[4.2299156 3.4171631 3.652168  3.2907884 4.238387  3.5569942 3.9587076\n",
      " 3.5760942 3.678002  1.9445953]\n",
      "[5. 3. 4. 4. 5. 5. 5. 3. 4. 2.]\n"
     ]
    }
   ],
   "source": [
    "# 5. Result\n",
    "pd.DataFrame(history.history).plot(figsize= (8,5))\n",
    "plt.xlabel(\"epochs\")\n",
    "plt.ylabel(\"mean squared error\")\n",
    "plt.show()\n",
    "test_sample = X_test[:10]\n",
    "test_sample_label = y_test[:10]\n",
    "print(model.predict([test_sample[:, 0], test_sample[:, 1]]).flatten())\n",
    "print(test_sample_label)"
   ]
  },
  {
   "cell_type": "code",
   "execution_count": 33,
   "id": "7b2fa9f7",
   "metadata": {},
   "outputs": [
    {
     "data": {
      "text/plain": [
       "{'loss': [3.085163116455078,\n",
       "  0.7680258750915527,\n",
       "  0.7243986129760742,\n",
       "  0.6622155904769897,\n",
       "  0.5752027034759521,\n",
       "  0.5039938688278198,\n",
       "  0.4594922363758087,\n",
       "  0.42704999446868896,\n",
       "  0.40419501066207886,\n",
       "  0.38494783639907837,\n",
       "  0.36961865425109863,\n",
       "  0.35378098487854004,\n",
       "  0.3399602770805359,\n",
       "  0.32639041543006897],\n",
       " 'val_loss': [0.8125192523002625,\n",
       "  0.794663667678833,\n",
       "  0.7951484322547913,\n",
       "  0.7919329404830933,\n",
       "  0.8018991351127625,\n",
       "  0.8264184594154358,\n",
       "  0.8479171991348267,\n",
       "  0.8782544732093811,\n",
       "  0.8898159265518188,\n",
       "  0.9108707904815674,\n",
       "  0.9275127649307251,\n",
       "  0.9330037236213684,\n",
       "  0.9490031599998474,\n",
       "  0.958888053894043]}"
      ]
     },
     "execution_count": 33,
     "metadata": {},
     "output_type": "execute_result"
    }
   ],
   "source": [
    "history.history"
   ]
  }
 ],
 "metadata": {
  "kernelspec": {
   "display_name": "Python 3 (ipykernel)",
   "language": "python",
   "name": "python3"
  },
  "language_info": {
   "codemirror_mode": {
    "name": "ipython",
    "version": 3
   },
   "file_extension": ".py",
   "mimetype": "text/x-python",
   "name": "python",
   "nbconvert_exporter": "python",
   "pygments_lexer": "ipython3",
   "version": "3.8.12"
  }
 },
 "nbformat": 4,
 "nbformat_minor": 5
}

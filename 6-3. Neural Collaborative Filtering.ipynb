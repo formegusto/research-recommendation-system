{
 "cells": [
  {
   "cell_type": "code",
   "execution_count": 6,
   "id": "eed894f7",
   "metadata": {},
   "outputs": [
    {
     "name": "stdout",
     "output_type": "stream",
     "text": [
      "The autoreload extension is already loaded. To reload it, use:\n",
      "  %reload_ext autoreload\n"
     ]
    }
   ],
   "source": [
    "%load_ext autoreload\n",
    "%autoreload 2\n",
    "%reload_ext autoreload"
   ]
  },
  {
   "cell_type": "code",
   "execution_count": 7,
   "id": "7012434a",
   "metadata": {},
   "outputs": [],
   "source": [
    "from datetime import datetime as dt\n",
    "\n",
    "import tensorflow as tf\n",
    "from tensorflow import keras\n",
    "\n",
    "from module import DataLoader\n",
    "import matplotlib.pyplot as plt\n",
    "import pandas as pd"
   ]
  },
  {
   "cell_type": "markdown",
   "id": "23040f11",
   "metadata": {},
   "source": [
    "# 1. Data\n",
    "- 해당의 데이터는 movielens 데이터이며, train_test_split 으로 나누어져 훈련용, 시험용 데이터로 나누어진다.\n",
    "- generate_trainset, generate_testset 으로 인해 반환되는 값은 numpy array의 형식으로 X, y 로 반환된다."
   ]
  },
  {
   "cell_type": "code",
   "execution_count": 8,
   "id": "55b23e8c",
   "metadata": {},
   "outputs": [
    {
     "name": "stdout",
     "output_type": "stream",
     "text": [
      "훈련 데이터 shape : (80003, 2), 훈련 라벨 갯수 : 80003\n",
      "테스트 데이터 shape : (19259, 2), 테스트 라벨 갯수 : 19259\n"
     ]
    }
   ],
   "source": [
    "loader = DataLoader()\n",
    "\n",
    "X_train, y_train = loader.generate_trainset()\n",
    "X_test, y_test = loader.generate_testset()\n",
    "\n",
    "print(\"훈련 데이터 shape : {}, 훈련 라벨 갯수 : {}\".format(X_train.shape, y_train.size))\n",
    "print(\"테스트 데이터 shape : {}, 테스트 라벨 갯수 : {}\".format(X_test.shape, y_test.size))"
   ]
  },
  {
   "cell_type": "code",
   "execution_count": 9,
   "id": "6ea8c540",
   "metadata": {},
   "outputs": [
    {
     "data": {
      "text/plain": [
       "array([[   0,    0],\n",
       "       [   1,    1],\n",
       "       [   2,    2],\n",
       "       ...,\n",
       "       [ 528,   74],\n",
       "       [ 482,  213],\n",
       "       [  45, 1947]])"
      ]
     },
     "execution_count": 9,
     "metadata": {},
     "output_type": "execute_result"
    }
   ],
   "source": [
    "X_train"
   ]
  },
  {
   "cell_type": "markdown",
   "id": "09213923",
   "metadata": {},
   "source": [
    "# 2. Neural Collaborative Filtering (Neural CF)"
   ]
  },
  {
   "cell_type": "markdown",
   "id": "354f80bc",
   "metadata": {},
   "source": [
    "## 1. Generate Neural CF Model Process"
   ]
  },
  {
   "cell_type": "code",
   "execution_count": 10,
   "id": "bc90730f",
   "metadata": {},
   "outputs": [],
   "source": [
    "# 1. Setting Value\n",
    "\n",
    "# Global\n",
    "num_users = loader.num_users\n",
    "num_items = loader.num_items\n",
    "regs = 0\n",
    "\n",
    "# GMF Setting\n",
    "latent_features = 8\n",
    "\n",
    "# MLP Setting\n",
    "layers = list(map(int, [64,32,16,8]))\n",
    "num_layers = len(layers)"
   ]
  },
  {
   "cell_type": "code",
   "execution_count": 11,
   "id": "be465582",
   "metadata": {},
   "outputs": [],
   "source": [
    "# 2. 입력 층 생성\n",
    "user_input = keras.Input(shape=(1,), dtype='int32')\n",
    "item_input = keras.Input(shape=(1,), dtype='int32')"
   ]
  },
  {
   "cell_type": "code",
   "execution_count": 22,
   "id": "f0affe11",
   "metadata": {},
   "outputs": [
    {
     "name": "stdout",
     "output_type": "stream",
     "text": [
      "---- 사용자 X 아이템 ----\n",
      "입력 값: 0 0\n",
      "GMF 출력 값: [-2.3793892e-04 -6.8533799e-04  4.1407096e-04  1.4961743e-03\n",
      "  7.7074401e-05  3.1779302e-04 -1.7738257e-05  1.2518260e-05]\n",
      "훈련 데이터 shape: (80003, 8)\n",
      "\n"
     ]
    }
   ],
   "source": [
    "# 3-1. GMF Layer Group 생성 (embedding -> flatten -> multiply)\n",
    "user_model_gmf = keras.Sequential()\n",
    "item_model_gmf = keras.Sequential()\n",
    "\n",
    "user_model_gmf.add(user_input)\n",
    "item_model_gmf.add(item_input)\n",
    "\n",
    "# 3-1-1. embedding\n",
    "user_embedding_gmf = keras.layers.Embedding(\n",
    "                    num_users,\n",
    "                    latent_features,\n",
    "                    embeddings_regularizer=keras.regularizers.l2(regs),\n",
    "                    name='user_emebedding')\n",
    "item_embedding_gmf = keras.layers.Embedding(\n",
    "                    num_items,\n",
    "                    latent_features,\n",
    "                    embeddings_regularizer=keras.regularizers.l2(regs),\n",
    "                    name='item_emebedding')\n",
    "user_model_gmf.add(user_embedding_gmf)\n",
    "item_model_gmf.add(item_embedding_gmf)\n",
    "\n",
    "\n",
    "# 3-1-2. flatten\n",
    "user_latent_gmf = keras.layers.Flatten()\n",
    "item_latent_gmf = keras.layers.Flatten()\n",
    "user_model_gmf.add(user_latent_gmf)\n",
    "item_model_gmf.add(item_latent_gmf)\n",
    "\n",
    "# 3-1-3. multiply\n",
    "user_output_gmf = user_model_gmf(X_train[:, 0])\n",
    "item_output_gmf = item_model_gmf(X_train[:, 1])\n",
    "concat = keras.layers.Multiply()\n",
    "gmf_result = concat([user_output_gmf, item_output_gmf])\n",
    "\n",
    "print(\"---- 사용자 X 아이템 ----\")\n",
    "print(\"입력 값: {} {}\".format(X_train[0, 0], X_train[0, 1]))\n",
    "print(\"GMF 출력 값: {}\".format(gmf_result[0].numpy()))\n",
    "print(\"훈련 데이터 shape: {}\\n\".format(gmf_result.shape))"
   ]
  },
  {
   "cell_type": "code",
   "execution_count": 13,
   "id": "f603002d",
   "metadata": {},
   "outputs": [
    {
     "name": "stdout",
     "output_type": "stream",
     "text": [
      "---- 사용자 X 아이템 ----\n",
      "입력 값: 0\n",
      "MLP 출력 값: [0.02710895 0.         0.         0.         0.02210737 0.\n",
      " 0.         0.01459829]\n",
      "훈련 데이터 shape: (80003, 8)\n",
      "\n"
     ]
    }
   ],
   "source": [
    "# 3-2. MLP Layer Group 생성 (embedding -> flatten -> concatenate -> hidden layers)\n",
    "user_model_mlp = keras.Sequential()\n",
    "item_model_mlp = keras.Sequential()\n",
    "\n",
    "user_model_mlp.add(user_input)\n",
    "item_model_mlp.add(item_input)\n",
    "\n",
    "# 3-2-1. embedding\n",
    "user_embedding_mlp = keras.layers.Embedding(\n",
    "                    num_users,\n",
    "                    int(layers[0] / 2),\n",
    "                    embeddings_regularizer=keras.regularizers.l2(regs),\n",
    "                    name='user_emebedding')\n",
    "item_embedding_mlp = keras.layers.Embedding(\n",
    "                    num_items,\n",
    "                    int(layers[0] / 2),\n",
    "                    embeddings_regularizer=keras.regularizers.l2(regs),\n",
    "                    name='item_emebedding')\n",
    "user_model_mlp.add(user_embedding_mlp)\n",
    "item_model_mlp.add(item_embedding_mlp)\n",
    "\n",
    "# 3-2-2. flatten\n",
    "user_latent_mlp = keras.layers.Flatten()\n",
    "item_latent_mlp = keras.layers.Flatten()\n",
    "user_model_mlp.add(user_latent_mlp)\n",
    "item_model_mlp.add(item_latent_mlp)\n",
    "\n",
    "# 3-2-3. concatenate\n",
    "user_output_mlp = user_model_mlp(X_train[:, 0])\n",
    "item_output_mlp = item_model_mlp(X_train[:, 1])\n",
    "vector = keras.layers.Concatenate()\n",
    "concatenates_output = vector([user_output_mlp, item_output_mlp])\n",
    "\n",
    "# 3-2-4. hidden layers\n",
    "hidden_model = keras.Sequential()\n",
    "for index in range(num_layers):\n",
    "    hidden_layer = keras.layers.Dense(\n",
    "                    layers[index],\n",
    "                    kernel_regularizer=keras.regularizers.l2(regs),\n",
    "                    activation = keras.activations.relu,\n",
    "                    name = \"layer_{}\".format(index)\n",
    "                   )\n",
    "    hidden_model.add(hidden_layer)\n",
    "mlp_result = hidden_model(concatenates_output)\n",
    "\n",
    "print(\"---- 사용자 X 아이템 ----\")\n",
    "print(\"입력 값: {}\".format(X_train[0, 0], X_train[0, 1]))\n",
    "print(\"MLP 출력 값: {}\".format(mlp_result[0].numpy()))\n",
    "print(\"훈련 데이터 shape: {}\\n\".format(mlp_result.shape))"
   ]
  },
  {
   "cell_type": "code",
   "execution_count": 14,
   "id": "ab6241cc",
   "metadata": {},
   "outputs": [
    {
     "name": "stdout",
     "output_type": "stream",
     "text": [
      "---- GMF X MLP ----\n",
      "입력 값: 0\n",
      "MLP 출력 값: [ 0.00032712 -0.00135056 -0.00010354  0.00015622  0.00028058  0.00019379\n",
      " -0.00111528  0.00117042  0.02710895  0.          0.          0.\n",
      "  0.02210737  0.          0.          0.01459829]\n",
      "훈련 데이터 shape: (80003, 16)\n",
      "\n"
     ]
    }
   ],
   "source": [
    "# 4. concat GMF output and MLP output\n",
    "concat_neural = keras.layers.Concatenate()\n",
    "concat_neural = concat_neural([gmf_result, mlp_result])\n",
    "\n",
    "print(\"---- GMF X MLP ----\")\n",
    "print(\"입력 값: {}\".format(X_train[0, 0], X_train[0, 1]))\n",
    "print(\"MLP 출력 값: {}\".format(concat_neural[0].numpy()))\n",
    "print(\"훈련 데이터 shape: {}\\n\".format(concat_neural.shape))"
   ]
  },
  {
   "cell_type": "code",
   "execution_count": 15,
   "id": "043adbee",
   "metadata": {},
   "outputs": [
    {
     "name": "stdout",
     "output_type": "stream",
     "text": [
      "---- Neural CF 는 GMF가 학습하는 선형적 관계와 MLP가 학습하는 비선형적 관계를 이용하여 학습한다. ----\n",
      "[[ 0.00792304]\n",
      " [-0.00519471]\n",
      " [-0.00110551]\n",
      " ...\n",
      " [ 0.00118696]\n",
      " [-0.00274327]\n",
      " [ 0.00766929]]\n"
     ]
    }
   ],
   "source": [
    "# 5. Dense Layer\n",
    "output = keras.layers.Dense(1, kernel_initializer=keras.initializers.lecun_uniform(),name='output')\n",
    "result = output(concat_neural)\n",
    "\n",
    "print(\"---- Neural CF 는 GMF가 학습하는 선형적 관계와 MLP가 학습하는 비선형적 관계를 이용하여 학습한다. ----\")\n",
    "print(result.numpy())"
   ]
  },
  {
   "cell_type": "markdown",
   "id": "c3ea44ac",
   "metadata": {},
   "source": [
    "## 2. Use"
   ]
  },
  {
   "cell_type": "code",
   "execution_count": 16,
   "id": "42c8f12b",
   "metadata": {},
   "outputs": [],
   "source": [
    "# 1. model setting\n",
    "from model import NeuralMF\n",
    "model = NeuralMF(loader.num_users, loader.num_items).get_model()"
   ]
  },
  {
   "cell_type": "code",
   "execution_count": 17,
   "id": "609d0a8e",
   "metadata": {},
   "outputs": [],
   "source": [
    "# 2. Callbacks\n",
    "early_stop_cb = keras.callbacks.EarlyStopping(patience=10, restore_best_weights=True)\n",
    "# model_out_file = 'Pretrain/GMF_%s.h5' % (datetime.now().strftime('%Y-%m-%d-%h-%m-%s'))\n",
    "# model_check_cb = keras.callbacks.ModelCheckpoint(model_out_file, save_best_only=True)"
   ]
  },
  {
   "cell_type": "code",
   "execution_count": 19,
   "id": "da1a6639",
   "metadata": {},
   "outputs": [],
   "source": [
    "# 3. Compile\n",
    "learner = \"adam\"\n",
    "learning_rate = 0.001\n",
    "\n",
    "if learner == \"adagrad\":\n",
    "    model.compile(optimizer=keras.optimizers.Adagrad(learning_rate=learning_rate), loss='mse')\n",
    "elif learner == \"rmsprop\":\n",
    "    model.compile(optimizer=keras.optimizers.RMSprop(learning_rate=learning_rate), loss='mse')\n",
    "elif learner == \"adam\":\n",
    "    model.compile(optimizer=keras.optimizers.Adam(learning_rate=learning_rate), loss='mse')\n",
    "else:\n",
    "    model.compile(optimizer=keras.optimizers.SGD(learning_rate=learning_rate), loss='mse')"
   ]
  },
  {
   "cell_type": "code",
   "execution_count": 21,
   "id": "773c44d8",
   "metadata": {},
   "outputs": [
    {
     "data": {
      "text/plain": [
       "array([[   0,    0],\n",
       "       [   1,    1],\n",
       "       [   2,    2],\n",
       "       ...,\n",
       "       [ 528,   74],\n",
       "       [ 482,  213],\n",
       "       [  45, 1947]])"
      ]
     },
     "execution_count": 21,
     "metadata": {},
     "output_type": "execute_result"
    }
   ],
   "source": []
  },
  {
   "cell_type": "code",
   "execution_count": 37,
   "id": "8f6077b9",
   "metadata": {},
   "outputs": [
    {
     "name": "stdout",
     "output_type": "stream",
     "text": [
      "Epoch 1/20\n",
      "313/313 [==============================] - 2s 4ms/step - loss: 2.4469 - val_loss: 0.8103\n",
      "Epoch 2/20\n",
      "313/313 [==============================] - 1s 3ms/step - loss: 0.7629 - val_loss: 0.7966\n",
      "Epoch 3/20\n",
      "313/313 [==============================] - 1s 3ms/step - loss: 0.7145 - val_loss: 0.7891\n",
      "Epoch 4/20\n",
      "313/313 [==============================] - 1s 3ms/step - loss: 0.6361 - val_loss: 0.7778\n",
      "Epoch 5/20\n",
      "313/313 [==============================] - 1s 3ms/step - loss: 0.5429 - val_loss: 0.8062\n",
      "Epoch 6/20\n",
      "313/313 [==============================] - 1s 4ms/step - loss: 0.4784 - val_loss: 0.8177\n",
      "Epoch 7/20\n",
      "313/313 [==============================] - 1s 4ms/step - loss: 0.4336 - val_loss: 0.8443\n",
      "Epoch 8/20\n",
      "313/313 [==============================] - 1s 4ms/step - loss: 0.3998 - val_loss: 0.8686\n",
      "Epoch 9/20\n",
      "313/313 [==============================] - 1s 5ms/step - loss: 0.3727 - val_loss: 0.8889\n",
      "Epoch 10/20\n",
      "313/313 [==============================] - 1s 4ms/step - loss: 0.3489 - val_loss: 0.9097\n",
      "Epoch 11/20\n",
      "313/313 [==============================] - 2s 5ms/step - loss: 0.3263 - val_loss: 0.9299\n",
      "Epoch 12/20\n",
      "313/313 [==============================] - 1s 5ms/step - loss: 0.3051 - val_loss: 0.9471\n",
      "Epoch 13/20\n",
      "313/313 [==============================] - 2s 5ms/step - loss: 0.2853 - val_loss: 0.9591\n",
      "Epoch 14/20\n",
      "313/313 [==============================] - 2s 5ms/step - loss: 0.2674 - val_loss: 0.9800\n"
     ]
    }
   ],
   "source": [
    "# 4. Train\n",
    "epochs = 20\n",
    "batch_size = 256\n",
    "\n",
    "history = model.fit(\n",
    "            [X_train[:, 0], X_train[:, 1]], y_train,\n",
    "            epochs=epochs,\n",
    "            batch_size=batch_size,\n",
    "            validation_data=([X_test[:, 0], X_test[:, 1]], y_test),\n",
    "            callbacks=[early_stop_cb]\n",
    "        )"
   ]
  },
  {
   "cell_type": "code",
   "execution_count": 38,
   "id": "8fb0546e",
   "metadata": {},
   "outputs": [
    {
     "data": {
      "image/png": "[encoded data removed]",
      "text/plain": [
       "<Figure size 576x360 with 1 Axes>"
      ]
     },
     "metadata": {
      "needs_background": "light"
     },
     "output_type": "display_data"
    },
    {
     "name": "stdout",
     "output_type": "stream",
     "text": [
      "[4.2739635 3.3085968 3.4045603 3.4682746 4.165092  3.7340648 3.7352898\n",
      " 3.1309288 3.597696  2.2557669]\n",
      "[5. 3. 4. 4. 5. 5. 5. 3. 4. 2.]\n"
     ]
    }
   ],
   "source": [
    "# 5. Result\n",
    "pd.DataFrame(history.history).plot(figsize= (8,5))\n",
    "plt.show()\n",
    "test_sample = X_test[:10]\n",
    "test_sample_label = y_test[:10]\n",
    "print(model.predict([test_sample[:, 0], test_sample[:, 1]]).flatten())\n",
    "print(test_sample_label)"
   ]
  }
 ],
 "metadata": {
  "kernelspec": {
   "display_name": "Python 3 (ipykernel)",
   "language": "python",
   "name": "python3"
  },
  "language_info": {
   "codemirror_mode": {
    "name": "ipython",
    "version": 3
   },
   "file_extension": ".py",
   "mimetype": "text/x-python",
   "name": "python",
   "nbconvert_exporter": "python",
   "pygments_lexer": "ipython3",
   "version": "3.8.12"
  }
 },
 "nbformat": 4,
 "nbformat_minor": 5
}

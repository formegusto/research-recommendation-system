{
 "cells": [
  {
   "cell_type": "code",
   "execution_count": 125,
   "id": "5e0a5af6",
   "metadata": {},
   "outputs": [
    {
     "name": "stdout",
     "output_type": "stream",
     "text": [
      "The autoreload extension is already loaded. To reload it, use:\n",
      "  %reload_ext autoreload\n"
     ]
    }
   ],
   "source": [
    "%load_ext autoreload\n",
    "%autoreload 2\n",
    "%reload_ext autoreload"
   ]
  },
  {
   "cell_type": "code",
   "execution_count": 126,
   "id": "175d5285",
   "metadata": {},
   "outputs": [],
   "source": [
    "import pandas as pd\n",
    "\n",
    "import tensorflow as tf\n",
    "from tensorflow import keras\n",
    "\n",
    "import matplotlib.pyplot as plt"
   ]
  },
  {
   "cell_type": "markdown",
   "id": "e21787ee",
   "metadata": {},
   "source": [
    "# 1. Data\n",
    "- 일반적인 Latent Model들이 아이템과 사용자의 정보를 복합적으로 이용하는 것과 다르게 AutoRec는 아이템, 사용자 중 하나에 대한 임베딩만을 진행한다.\n",
    "- 아이템을 임베딩하는 Item-based 구조를 I-AutoRec, 사용자를 임베딩하는 User-based 구조를 U-AutoRec으로 명명한다. 해당의 예제에서는 Item-based 구조인 I-AutoRec을 기준으로 진행된다."
   ]
  },
  {
   "cell_type": "code",
   "execution_count": 127,
   "id": "3a309079",
   "metadata": {},
   "outputs": [
    {
     "name": "stdout",
     "output_type": "stream",
     "text": [
      "사용자 수 : 671 명\n",
      "아이템 수 : 9066 개\n"
     ]
    },
    {
     "data": {
      "text/html": [
       "<div>\n",
       "<style scoped>\n",
       "    .dataframe tbody tr th:only-of-type {\n",
       "        vertical-align: middle;\n",
       "    }\n",
       "\n",
       "    .dataframe tbody tr th {\n",
       "        vertical-align: top;\n",
       "    }\n",
       "\n",
       "    .dataframe thead th {\n",
       "        text-align: right;\n",
       "    }\n",
       "</style>\n",
       "<table border=\"1\" class=\"dataframe\">\n",
       "  <thead>\n",
       "    <tr style=\"text-align: right;\">\n",
       "      <th></th>\n",
       "      <th>userId</th>\n",
       "      <th>movieId</th>\n",
       "      <th>rating</th>\n",
       "      <th>timestamp</th>\n",
       "    </tr>\n",
       "  </thead>\n",
       "  <tbody>\n",
       "    <tr>\n",
       "      <th>0</th>\n",
       "      <td>1</td>\n",
       "      <td>31</td>\n",
       "      <td>2.5</td>\n",
       "      <td>1260759144</td>\n",
       "    </tr>\n",
       "    <tr>\n",
       "      <th>1</th>\n",
       "      <td>1</td>\n",
       "      <td>1029</td>\n",
       "      <td>3.0</td>\n",
       "      <td>1260759179</td>\n",
       "    </tr>\n",
       "    <tr>\n",
       "      <th>2</th>\n",
       "      <td>1</td>\n",
       "      <td>1061</td>\n",
       "      <td>3.0</td>\n",
       "      <td>1260759182</td>\n",
       "    </tr>\n",
       "    <tr>\n",
       "      <th>3</th>\n",
       "      <td>1</td>\n",
       "      <td>1129</td>\n",
       "      <td>2.0</td>\n",
       "      <td>1260759185</td>\n",
       "    </tr>\n",
       "    <tr>\n",
       "      <th>4</th>\n",
       "      <td>1</td>\n",
       "      <td>1172</td>\n",
       "      <td>4.0</td>\n",
       "      <td>1260759205</td>\n",
       "    </tr>\n",
       "  </tbody>\n",
       "</table>\n",
       "</div>"
      ],
      "text/plain": [
       "   userId  movieId  rating   timestamp\n",
       "0       1       31     2.5  1260759144\n",
       "1       1     1029     3.0  1260759179\n",
       "2       1     1061     3.0  1260759182\n",
       "3       1     1129     2.0  1260759185\n",
       "4       1     1172     4.0  1260759205"
      ]
     },
     "execution_count": 127,
     "metadata": {},
     "output_type": "execute_result"
    }
   ],
   "source": [
    "datas = pd.read_csv(\"datas/movielens_small/ratings.csv\")\n",
    "num_user = datas['userId'].unique().size\n",
    "num_item = datas['movieId'].unique().size\n",
    "\n",
    "print(\"사용자 수 : {} 명\".format(num_user))\n",
    "print(\"아이템 수 : {} 개\".format(num_item))\n",
    "datas.head()"
   ]
  },
  {
   "cell_type": "code",
   "execution_count": 128,
   "id": "d213c4c5",
   "metadata": {},
   "outputs": [
    {
     "name": "stdout",
     "output_type": "stream",
     "text": [
      "item-based data shape : (9066, 671)\n"
     ]
    },
    {
     "data": {
      "text/html": [
       "<div>\n",
       "<style scoped>\n",
       "    .dataframe tbody tr th:only-of-type {\n",
       "        vertical-align: middle;\n",
       "    }\n",
       "\n",
       "    .dataframe tbody tr th {\n",
       "        vertical-align: top;\n",
       "    }\n",
       "\n",
       "    .dataframe thead th {\n",
       "        text-align: right;\n",
       "    }\n",
       "</style>\n",
       "<table border=\"1\" class=\"dataframe\">\n",
       "  <thead>\n",
       "    <tr style=\"text-align: right;\">\n",
       "      <th>userId</th>\n",
       "      <th>1</th>\n",
       "      <th>2</th>\n",
       "      <th>3</th>\n",
       "      <th>4</th>\n",
       "      <th>5</th>\n",
       "      <th>6</th>\n",
       "      <th>7</th>\n",
       "      <th>8</th>\n",
       "      <th>9</th>\n",
       "      <th>10</th>\n",
       "      <th>...</th>\n",
       "      <th>662</th>\n",
       "      <th>663</th>\n",
       "      <th>664</th>\n",
       "      <th>665</th>\n",
       "      <th>666</th>\n",
       "      <th>667</th>\n",
       "      <th>668</th>\n",
       "      <th>669</th>\n",
       "      <th>670</th>\n",
       "      <th>671</th>\n",
       "    </tr>\n",
       "    <tr>\n",
       "      <th>movieId</th>\n",
       "      <th></th>\n",
       "      <th></th>\n",
       "      <th></th>\n",
       "      <th></th>\n",
       "      <th></th>\n",
       "      <th></th>\n",
       "      <th></th>\n",
       "      <th></th>\n",
       "      <th></th>\n",
       "      <th></th>\n",
       "      <th></th>\n",
       "      <th></th>\n",
       "      <th></th>\n",
       "      <th></th>\n",
       "      <th></th>\n",
       "      <th></th>\n",
       "      <th></th>\n",
       "      <th></th>\n",
       "      <th></th>\n",
       "      <th></th>\n",
       "      <th></th>\n",
       "    </tr>\n",
       "  </thead>\n",
       "  <tbody>\n",
       "    <tr>\n",
       "      <th>1</th>\n",
       "      <td>0.0</td>\n",
       "      <td>0.0</td>\n",
       "      <td>0.0</td>\n",
       "      <td>0.0</td>\n",
       "      <td>0.0</td>\n",
       "      <td>0.0</td>\n",
       "      <td>3.0</td>\n",
       "      <td>0.0</td>\n",
       "      <td>4.0</td>\n",
       "      <td>0.0</td>\n",
       "      <td>...</td>\n",
       "      <td>0.0</td>\n",
       "      <td>4.0</td>\n",
       "      <td>3.5</td>\n",
       "      <td>0.0</td>\n",
       "      <td>0.0</td>\n",
       "      <td>0.0</td>\n",
       "      <td>0.0</td>\n",
       "      <td>0.0</td>\n",
       "      <td>4.0</td>\n",
       "      <td>5.0</td>\n",
       "    </tr>\n",
       "    <tr>\n",
       "      <th>2</th>\n",
       "      <td>0.0</td>\n",
       "      <td>0.0</td>\n",
       "      <td>0.0</td>\n",
       "      <td>0.0</td>\n",
       "      <td>0.0</td>\n",
       "      <td>0.0</td>\n",
       "      <td>0.0</td>\n",
       "      <td>0.0</td>\n",
       "      <td>0.0</td>\n",
       "      <td>0.0</td>\n",
       "      <td>...</td>\n",
       "      <td>5.0</td>\n",
       "      <td>0.0</td>\n",
       "      <td>0.0</td>\n",
       "      <td>3.0</td>\n",
       "      <td>0.0</td>\n",
       "      <td>0.0</td>\n",
       "      <td>0.0</td>\n",
       "      <td>0.0</td>\n",
       "      <td>0.0</td>\n",
       "      <td>0.0</td>\n",
       "    </tr>\n",
       "    <tr>\n",
       "      <th>3</th>\n",
       "      <td>0.0</td>\n",
       "      <td>0.0</td>\n",
       "      <td>0.0</td>\n",
       "      <td>0.0</td>\n",
       "      <td>4.0</td>\n",
       "      <td>0.0</td>\n",
       "      <td>0.0</td>\n",
       "      <td>0.0</td>\n",
       "      <td>0.0</td>\n",
       "      <td>0.0</td>\n",
       "      <td>...</td>\n",
       "      <td>0.0</td>\n",
       "      <td>0.0</td>\n",
       "      <td>0.0</td>\n",
       "      <td>3.0</td>\n",
       "      <td>0.0</td>\n",
       "      <td>0.0</td>\n",
       "      <td>0.0</td>\n",
       "      <td>0.0</td>\n",
       "      <td>0.0</td>\n",
       "      <td>0.0</td>\n",
       "    </tr>\n",
       "    <tr>\n",
       "      <th>4</th>\n",
       "      <td>0.0</td>\n",
       "      <td>0.0</td>\n",
       "      <td>0.0</td>\n",
       "      <td>0.0</td>\n",
       "      <td>0.0</td>\n",
       "      <td>0.0</td>\n",
       "      <td>0.0</td>\n",
       "      <td>0.0</td>\n",
       "      <td>0.0</td>\n",
       "      <td>0.0</td>\n",
       "      <td>...</td>\n",
       "      <td>0.0</td>\n",
       "      <td>0.0</td>\n",
       "      <td>0.0</td>\n",
       "      <td>0.0</td>\n",
       "      <td>0.0</td>\n",
       "      <td>0.0</td>\n",
       "      <td>0.0</td>\n",
       "      <td>0.0</td>\n",
       "      <td>0.0</td>\n",
       "      <td>0.0</td>\n",
       "    </tr>\n",
       "    <tr>\n",
       "      <th>5</th>\n",
       "      <td>0.0</td>\n",
       "      <td>0.0</td>\n",
       "      <td>0.0</td>\n",
       "      <td>0.0</td>\n",
       "      <td>0.0</td>\n",
       "      <td>0.0</td>\n",
       "      <td>0.0</td>\n",
       "      <td>0.0</td>\n",
       "      <td>0.0</td>\n",
       "      <td>0.0</td>\n",
       "      <td>...</td>\n",
       "      <td>0.0</td>\n",
       "      <td>0.0</td>\n",
       "      <td>0.0</td>\n",
       "      <td>3.0</td>\n",
       "      <td>0.0</td>\n",
       "      <td>0.0</td>\n",
       "      <td>0.0</td>\n",
       "      <td>0.0</td>\n",
       "      <td>0.0</td>\n",
       "      <td>0.0</td>\n",
       "    </tr>\n",
       "  </tbody>\n",
       "</table>\n",
       "<p>5 rows × 671 columns</p>\n",
       "</div>"
      ],
      "text/plain": [
       "userId   1    2    3    4    5    6    7    8    9    10   ...  662  663  664  \\\n",
       "movieId                                                    ...                  \n",
       "1        0.0  0.0  0.0  0.0  0.0  0.0  3.0  0.0  4.0  0.0  ...  0.0  4.0  3.5   \n",
       "2        0.0  0.0  0.0  0.0  0.0  0.0  0.0  0.0  0.0  0.0  ...  5.0  0.0  0.0   \n",
       "3        0.0  0.0  0.0  0.0  4.0  0.0  0.0  0.0  0.0  0.0  ...  0.0  0.0  0.0   \n",
       "4        0.0  0.0  0.0  0.0  0.0  0.0  0.0  0.0  0.0  0.0  ...  0.0  0.0  0.0   \n",
       "5        0.0  0.0  0.0  0.0  0.0  0.0  0.0  0.0  0.0  0.0  ...  0.0  0.0  0.0   \n",
       "\n",
       "userId   665  666  667  668  669  670  671  \n",
       "movieId                                     \n",
       "1        0.0  0.0  0.0  0.0  0.0  4.0  5.0  \n",
       "2        3.0  0.0  0.0  0.0  0.0  0.0  0.0  \n",
       "3        3.0  0.0  0.0  0.0  0.0  0.0  0.0  \n",
       "4        0.0  0.0  0.0  0.0  0.0  0.0  0.0  \n",
       "5        3.0  0.0  0.0  0.0  0.0  0.0  0.0  \n",
       "\n",
       "[5 rows x 671 columns]"
      ]
     },
     "execution_count": 128,
     "metadata": {},
     "output_type": "execute_result"
    }
   ],
   "source": [
    "# User-based Data Setting Example\n",
    "# user_df = datas.pivot_table(\"rating\", index=\"userId\", columns=\"movieId\")\n",
    "\n",
    "# Item-based Data Structure\n",
    "item_df = datas.pivot_table(\"rating\", index=\"movieId\", columns=\"userId\")\n",
    "item_df.fillna(0, inplace=True)\n",
    "\n",
    "print(\"item-based data shape : {}\".format(item_df.shape))\n",
    "item_df.head()"
   ]
  },
  {
   "cell_type": "code",
   "execution_count": 129,
   "id": "7e6deac0",
   "metadata": {},
   "outputs": [
    {
     "name": "stdout",
     "output_type": "stream",
     "text": [
      "num features (item은 user가 feature 갯수, user는 item이 features 갯수) : 671\n",
      "train dataset shape : (8159, 671)\n",
      "test dataset shape : (907, 671)\n"
     ]
    }
   ],
   "source": [
    "# data split\n",
    "from sklearn.model_selection import train_test_split\n",
    "\n",
    "train_df, test_df = train_test_split(item_df, test_size=0.1)\n",
    "num_features = num_user\n",
    "\n",
    "print(\"num features (item은 user가 feature 갯수, user는 item이 features 갯수) : {}\".format(num_features))\n",
    "print(\"train dataset shape : {}\".format(train_df.shape))\n",
    "print(\"test dataset shape : {}\".format(test_df.shape))"
   ]
  },
  {
   "cell_type": "markdown",
   "id": "c06b555d",
   "metadata": {},
   "source": [
    "# 2. AutoRec"
   ]
  },
  {
   "cell_type": "markdown",
   "id": "061b95fa",
   "metadata": {},
   "source": [
    "## 1. AutoRec Process"
   ]
  },
  {
   "cell_type": "code",
   "execution_count": 130,
   "id": "83b62013",
   "metadata": {},
   "outputs": [],
   "source": [
    "# 1. setting value\n",
    "layers = [300, 100, 300]\n",
    "reg = 0.01\n",
    "\n",
    "num_layers = len(layers)\n",
    "num_neuron = layers"
   ]
  },
  {
   "cell_type": "code",
   "execution_count": 131,
   "id": "38414987",
   "metadata": {},
   "outputs": [],
   "source": [
    "# 2. setting layers\n",
    "layers_list = []\n",
    "\n",
    "for index in range(num_layers):\n",
    "    layer = keras.layers.Dense(\n",
    "                    num_neuron[index],\n",
    "                    kernel_regularizer=keras.regularizers.l2(reg),\n",
    "                    activation='relu',\n",
    "                    name='layer{}'.format(index)\n",
    "                )\n",
    "    layers_list.append(layer)\n",
    "\n",
    "output_layer = keras.layers.Dense(\n",
    "                    num_features,\n",
    "                    kernel_regularizer=keras.regularizers.l2(reg)\n",
    "                )\n",
    "layers_list.append(output_layer)"
   ]
  },
  {
   "cell_type": "code",
   "execution_count": 132,
   "id": "28033d8b",
   "metadata": {},
   "outputs": [],
   "source": [
    "# 3. model setting\n",
    "model = keras.models.Sequential()\n",
    "\n",
    "for layer in layers_list:\n",
    "    model.add(layer)"
   ]
  },
  {
   "cell_type": "code",
   "execution_count": 133,
   "id": "1ffc70eb",
   "metadata": {},
   "outputs": [],
   "source": [
    "# 4. predict, keras.Model call\n",
    "# def predict(inputs):\n",
    "#     result = inputs\n",
    "#     for layer in layers_list:\n",
    "#         result = layer(result)\n",
    "#     return result\n",
    "\n",
    "# 같은의미\n",
    "def predict(inputs):\n",
    "    return model(inputs)"
   ]
  },
  {
   "cell_type": "code",
   "execution_count": 134,
   "id": "b03510f8",
   "metadata": {},
   "outputs": [],
   "source": [
    "# 4. loss function\n",
    "def MaskedMSELoss(y_true, y_pred):\n",
    "    mask = y_true != 0\n",
    "    \n",
    "    # mask : 관측 데이터에는 1, 관측 되지 않은 데이터는 0\n",
    "    mask_float = tf.cast(mask, tf.float32)\n",
    "    masked_error = tf.reduce_mean(tf.pow(tf.subtract(mask_float * y_pred, y_true), 2))\n",
    "    \n",
    "    return masked_error"
   ]
  },
  {
   "cell_type": "code",
   "execution_count": 135,
   "id": "dac7e695",
   "metadata": {},
   "outputs": [],
   "source": [
    "# 5. set optimizer, and metrics\n",
    "learner = \"SGD\"\n",
    "learning_rate = 0.01\n",
    "\n",
    "if learner == \"adagrad\":\n",
    "    optimizer = keras.optimizers.Adagrad(learning_rate=learning_rate)\n",
    "elif learner == \"rmsprop\":\n",
    "    optimizer = keras.optimizers.RMSprop(learning_rate=learning_rate)\n",
    "elif learner == \"adam\":\n",
    "    optimizer = keras.optimizers.Adam(learning_rate=learning_rate)\n",
    "else:\n",
    "    optimizer = keras.optimizers.SGD(learning_rate=learning_rate)\n",
    "    \n",
    "metrics = [keras.metrics.RootMeanSquaredError()]"
   ]
  },
  {
   "cell_type": "code",
   "execution_count": 139,
   "id": "431a8c59",
   "metadata": {},
   "outputs": [
    {
     "name": "stdout",
     "output_type": "stream",
     "text": [
      "step : 1/20 ; loss : 0.1579381823539734\n",
      "step : 2/20 ; loss : 0.15789760649204254\n",
      "step : 3/20 ; loss : 0.15785710513591766\n",
      "step : 4/20 ; loss : 0.15781667828559875\n",
      "step : 5/20 ; loss : 0.157776340842247\n",
      "step : 6/20 ; loss : 0.15773600339889526\n",
      "step : 7/20 ; loss : 0.1576956957578659\n",
      "step : 8/20 ; loss : 0.15765537321567535\n",
      "step : 9/20 ; loss : 0.15761496126651764\n",
      "step : 10/20 ; loss : 0.15757456421852112\n",
      "step : 11/20 ; loss : 0.15753419697284698\n",
      "step : 12/20 ; loss : 0.15749382972717285\n",
      "step : 13/20 ; loss : 0.1574534922838211\n",
      "step : 14/20 ; loss : 0.15741316974163055\n",
      "step : 15/20 ; loss : 0.1573728621006012\n",
      "step : 16/20 ; loss : 0.15733253955841064\n",
      "step : 17/20 ; loss : 0.1572922319173813\n",
      "step : 18/20 ; loss : 0.15725189447402954\n",
      "step : 19/20 ; loss : 0.15721164643764496\n",
      "step : 20/20 ; loss : 0.15717145800590515\n"
     ]
    },
    {
     "data": {
      "image/png": "[encoded data removed]",
      "text/plain": [
       "<Figure size 432x288 with 1 Axes>"
      ]
     },
     "metadata": {
      "needs_background": "light"
     },
     "output_type": "display_data"
    }
   ],
   "source": [
    "# 6. Train\n",
    "batch_size = 32\n",
    "X_batch = train_df.to_numpy()[:batch_size]\n",
    "X_test = test_df.to_numpy()\n",
    "steps = 20\n",
    "loss_memory = []\n",
    "\n",
    "for step in range(steps):\n",
    "    with tf.GradientTape() as tape:\n",
    "        _predict = predict(X_batch)\n",
    "        loss_value = MaskedMSELoss(X_batch, _predict)\n",
    "        loss_memory.append(loss_value)\n",
    "    print(\"step : {}/{} ; loss : {}\".format(step + 1,steps,loss_value))\n",
    "    gradients = tape.gradient(loss_value, \n",
    "                  model.trainable_variables,\n",
    "                  unconnected_gradients=tf.UnconnectedGradients.ZERO)\n",
    "\n",
    "    optimizer.apply_gradients(zip(gradients, model.trainable_variables))\n",
    "\n",
    "plt.plot(loss_memory)\n",
    "plt.xticks(range(1, 21))\n",
    "plt.title(\"Loss Value\")\n",
    "\n",
    "plt.show()"
   ]
  },
  {
   "cell_type": "markdown",
   "id": "8907e832",
   "metadata": {},
   "source": [
    "# 2. Use"
   ]
  },
  {
   "cell_type": "code",
   "execution_count": 165,
   "id": "7dd158c9",
   "metadata": {},
   "outputs": [],
   "source": [
    "# 1. model setting\n",
    "from model import AutoRec\n",
    "model = AutoRec(num_features, reg=reg, layers=layers)"
   ]
  },
  {
   "cell_type": "code",
   "execution_count": 166,
   "id": "a0a167a5",
   "metadata": {},
   "outputs": [],
   "source": [
    "# 2. Callbacks\n",
    "early_stop_cb = keras.callbacks.EarlyStopping(patience=10, restore_best_weights=True)\n",
    "# model_out_file = 'Pretrain/GMF_%s.h5' % (datetime.now().strftime('%Y-%m-%d-%h-%m-%s'))\n",
    "# model_check_cb = keras.callbacks.ModelCheckpoint(model_out_file, save_best_only=True)"
   ]
  },
  {
   "cell_type": "code",
   "execution_count": 167,
   "id": "6f00d0ed",
   "metadata": {},
   "outputs": [],
   "source": [
    "# 3. loss function\n",
    "def MaskedMSELoss(y_true, y_pred):\n",
    "    mask = y_true != 0\n",
    "    \n",
    "    # mask : 관측 데이터에는 1, 관측 되지 않은 데이터는 0\n",
    "    mask_float = tf.cast(mask, tf.float32)\n",
    "    masked_error = tf.reduce_mean(tf.pow(tf.subtract(mask_float * y_pred, y_true), 2))\n",
    "    \n",
    "    return masked_error"
   ]
  },
  {
   "cell_type": "code",
   "execution_count": 168,
   "id": "71a33822",
   "metadata": {},
   "outputs": [],
   "source": [
    "# 4. set optimizer, and metrics, model complie\n",
    "learner = \"SGD\"\n",
    "learning_rate = 0.01\n",
    "\n",
    "if learner == \"adagrad\":\n",
    "    optimizer = keras.optimizers.Adagrad(learning_rate=learning_rate)\n",
    "elif learner == \"rmsprop\":\n",
    "    optimizer = keras.optimizers.RMSprop(learning_rate=learning_rate)\n",
    "elif learner == \"adam\":\n",
    "    optimizer = keras.optimizers.Adam(learning_rate=learning_rate)\n",
    "else:\n",
    "    optimizer = keras.optimizers.SGD(learning_rate=learning_rate)\n",
    "    \n",
    "metrics = [keras.metrics.RootMeanSquaredError()]\n",
    "\n",
    "model.compile(optimizer=optimizer, loss=MaskedMSELoss, metrics=metrics)"
   ]
  },
  {
   "cell_type": "code",
   "execution_count": 169,
   "id": "a3259fcb",
   "metadata": {},
   "outputs": [
    {
     "name": "stdout",
     "output_type": "stream",
     "text": [
      "Epoch 1/10\n",
      "255/255 [==============================] - 3s 9ms/step - loss: 10.9693 - root_mean_squared_error: 0.4845 - val_loss: 10.4156 - val_root_mean_squared_error: 0.4686\n",
      "Epoch 2/10\n",
      "255/255 [==============================] - 2s 9ms/step - loss: 9.9247 - root_mean_squared_error: 0.4783 - val_loss: 9.4244 - val_root_mean_squared_error: 0.4639\n",
      "Epoch 3/10\n",
      "255/255 [==============================] - 3s 10ms/step - loss: 8.9825 - root_mean_squared_error: 0.4744 - val_loss: 8.5301 - val_root_mean_squared_error: 0.4608\n",
      "Epoch 4/10\n",
      "255/255 [==============================] - 3s 11ms/step - loss: 8.1322 - root_mean_squared_error: 0.4715 - val_loss: 7.7228 - val_root_mean_squared_error: 0.4584\n",
      "Epoch 5/10\n",
      "255/255 [==============================] - 3s 10ms/step - loss: 7.3646 - root_mean_squared_error: 0.4693 - val_loss: 6.9940 - val_root_mean_squared_error: 0.4564\n",
      "Epoch 6/10\n",
      "255/255 [==============================] - 2s 10ms/step - loss: 6.6715 - root_mean_squared_error: 0.4674 - val_loss: 6.3359 - val_root_mean_squared_error: 0.4546\n",
      "Epoch 7/10\n",
      "255/255 [==============================] - 2s 10ms/step - loss: 6.0456 - root_mean_squared_error: 0.4655 - val_loss: 5.7416 - val_root_mean_squared_error: 0.4528\n",
      "Epoch 8/10\n",
      "255/255 [==============================] - 3s 11ms/step - loss: 5.4803 - root_mean_squared_error: 0.4636 - val_loss: 5.2047 - val_root_mean_squared_error: 0.4508\n",
      "Epoch 9/10\n",
      "255/255 [==============================] - 3s 12ms/step - loss: 4.9696 - root_mean_squared_error: 0.4614 - val_loss: 4.7197 - val_root_mean_squared_error: 0.4486\n",
      "Epoch 10/10\n",
      "255/255 [==============================] - 3s 10ms/step - loss: 4.5080 - root_mean_squared_error: 0.4589 - val_loss: 4.2813 - val_root_mean_squared_error: 0.4460\n"
     ]
    }
   ],
   "source": [
    "# 5. Train\n",
    "epochs = 10\n",
    "batch_size=32\n",
    "\n",
    "history = model.fit(train_df, train_df, batch_size=batch_size, epochs=epochs,\n",
    "                   validation_data=(test_df, test_df), callbacks=[early_stop_cb])"
   ]
  },
  {
   "cell_type": "code",
   "execution_count": 170,
   "id": "0ac3c78c",
   "metadata": {},
   "outputs": [
    {
     "data": {
      "image/png": "[encoded data removed]",
      "text/plain": [
       "<Figure size 432x288 with 1 Axes>"
      ]
     },
     "metadata": {
      "needs_background": "light"
     },
     "output_type": "display_data"
    }
   ],
   "source": [
    "# 6. Result\n",
    "plt.plot(history.history[\"val_root_mean_squared_error\"])\n",
    "plt.show()"
   ]
  }
 ],
 "metadata": {
  "kernelspec": {
   "display_name": "Python 3 (ipykernel)",
   "language": "python",
   "name": "python3"
  },
  "language_info": {
   "codemirror_mode": {
    "name": "ipython",
    "version": 3
   },
   "file_extension": ".py",
   "mimetype": "text/x-python",
   "name": "python",
   "nbconvert_exporter": "python",
   "pygments_lexer": "ipython3",
   "version": "3.8.12"
  }
 },
 "nbformat": 4,
 "nbformat_minor": 5
}

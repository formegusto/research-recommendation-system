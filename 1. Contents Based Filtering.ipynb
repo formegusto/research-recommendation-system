{
 "cells": [
  {
   "cell_type": "code",
   "execution_count": 39,
   "id": "fad73dd5",
   "metadata": {},
   "outputs": [],
   "source": [
    "import pandas as pd"
   ]
  },
  {
   "cell_type": "markdown",
   "id": "31b3337c",
   "metadata": {},
   "source": [
    "# 1. Data"
   ]
  },
  {
   "cell_type": "code",
   "execution_count": 40,
   "id": "8c69e57b",
   "metadata": {},
   "outputs": [
    {
     "name": "stdout",
     "output_type": "stream",
     "text": [
      "[count] rows : 4803, columns : 20\n"
     ]
    },
    {
     "data": {
      "text/html": [
       "<div>\n",
       "<style scoped>\n",
       "    .dataframe tbody tr th:only-of-type {\n",
       "        vertical-align: middle;\n",
       "    }\n",
       "\n",
       "    .dataframe tbody tr th {\n",
       "        vertical-align: top;\n",
       "    }\n",
       "\n",
       "    .dataframe thead th {\n",
       "        text-align: right;\n",
       "    }\n",
       "</style>\n",
       "<table border=\"1\" class=\"dataframe\">\n",
       "  <thead>\n",
       "    <tr style=\"text-align: right;\">\n",
       "      <th></th>\n",
       "      <th>budget</th>\n",
       "      <th>genres</th>\n",
       "      <th>homepage</th>\n",
       "      <th>id</th>\n",
       "      <th>keywords</th>\n",
       "      <th>original_language</th>\n",
       "      <th>original_title</th>\n",
       "      <th>overview</th>\n",
       "      <th>popularity</th>\n",
       "      <th>production_companies</th>\n",
       "      <th>production_countries</th>\n",
       "      <th>release_date</th>\n",
       "      <th>revenue</th>\n",
       "      <th>runtime</th>\n",
       "      <th>spoken_languages</th>\n",
       "      <th>status</th>\n",
       "      <th>tagline</th>\n",
       "      <th>title</th>\n",
       "      <th>vote_average</th>\n",
       "      <th>vote_count</th>\n",
       "    </tr>\n",
       "  </thead>\n",
       "  <tbody>\n",
       "    <tr>\n",
       "      <th>0</th>\n",
       "      <td>237000000</td>\n",
       "      <td>[{\"id\": 28, \"name\": \"Action\"}, {\"id\": 12, \"nam...</td>\n",
       "      <td>http://www.avatarmovie.com/</td>\n",
       "      <td>19995</td>\n",
       "      <td>[{\"id\": 1463, \"name\": \"culture clash\"}, {\"id\":...</td>\n",
       "      <td>en</td>\n",
       "      <td>Avatar</td>\n",
       "      <td>In the 22nd century, a paraplegic Marine is di...</td>\n",
       "      <td>150.437577</td>\n",
       "      <td>[{\"name\": \"Ingenious Film Partners\", \"id\": 289...</td>\n",
       "      <td>[{\"iso_3166_1\": \"US\", \"name\": \"United States o...</td>\n",
       "      <td>2009-12-10</td>\n",
       "      <td>2787965087</td>\n",
       "      <td>162.0</td>\n",
       "      <td>[{\"iso_639_1\": \"en\", \"name\": \"English\"}, {\"iso...</td>\n",
       "      <td>Released</td>\n",
       "      <td>Enter the World of Pandora.</td>\n",
       "      <td>Avatar</td>\n",
       "      <td>7.2</td>\n",
       "      <td>11800</td>\n",
       "    </tr>\n",
       "  </tbody>\n",
       "</table>\n",
       "</div>"
      ],
      "text/plain": [
       "      budget                                             genres  \\\n",
       "0  237000000  [{\"id\": 28, \"name\": \"Action\"}, {\"id\": 12, \"nam...   \n",
       "\n",
       "                      homepage     id  \\\n",
       "0  http://www.avatarmovie.com/  19995   \n",
       "\n",
       "                                            keywords original_language  \\\n",
       "0  [{\"id\": 1463, \"name\": \"culture clash\"}, {\"id\":...                en   \n",
       "\n",
       "  original_title                                           overview  \\\n",
       "0         Avatar  In the 22nd century, a paraplegic Marine is di...   \n",
       "\n",
       "   popularity                               production_companies  \\\n",
       "0  150.437577  [{\"name\": \"Ingenious Film Partners\", \"id\": 289...   \n",
       "\n",
       "                                production_countries release_date     revenue  \\\n",
       "0  [{\"iso_3166_1\": \"US\", \"name\": \"United States o...   2009-12-10  2787965087   \n",
       "\n",
       "   runtime                                   spoken_languages    status  \\\n",
       "0    162.0  [{\"iso_639_1\": \"en\", \"name\": \"English\"}, {\"iso...  Released   \n",
       "\n",
       "                       tagline   title  vote_average  vote_count  \n",
       "0  Enter the World of Pandora.  Avatar           7.2       11800  "
      ]
     },
     "execution_count": 40,
     "metadata": {},
     "output_type": "execute_result"
    }
   ],
   "source": [
    "path = \"datas/tmdb_5000/tmdb_5000_movies.csv\"\n",
    "\n",
    "df = pd.read_csv(path)\n",
    "crow, ccol = df.shape\n",
    "print(\"[count] rows : {}, columns : {}\".format(crow, ccol))\n",
    "df.head(1)"
   ]
  },
  {
   "cell_type": "markdown",
   "id": "a8a3099e",
   "metadata": {},
   "source": [
    "# 2. Data Preprocessing"
   ]
  },
  {
   "cell_type": "markdown",
   "id": "99ff6aca",
   "metadata": {},
   "source": [
    "## 1. Column for using"
   ]
  },
  {
   "cell_type": "code",
   "execution_count": 41,
   "id": "01bcb719",
   "metadata": {},
   "outputs": [
    {
     "name": "stdout",
     "output_type": "stream",
     "text": [
      "[count] rows : 4803, columns : 8\n"
     ]
    },
    {
     "data": {
      "text/html": [
       "<div>\n",
       "<style scoped>\n",
       "    .dataframe tbody tr th:only-of-type {\n",
       "        vertical-align: middle;\n",
       "    }\n",
       "\n",
       "    .dataframe tbody tr th {\n",
       "        vertical-align: top;\n",
       "    }\n",
       "\n",
       "    .dataframe thead th {\n",
       "        text-align: right;\n",
       "    }\n",
       "</style>\n",
       "<table border=\"1\" class=\"dataframe\">\n",
       "  <thead>\n",
       "    <tr style=\"text-align: right;\">\n",
       "      <th></th>\n",
       "      <th>id</th>\n",
       "      <th>genres</th>\n",
       "      <th>vote_average</th>\n",
       "      <th>vote_count</th>\n",
       "      <th>popularity</th>\n",
       "      <th>title</th>\n",
       "      <th>keywords</th>\n",
       "      <th>overview</th>\n",
       "    </tr>\n",
       "  </thead>\n",
       "  <tbody>\n",
       "    <tr>\n",
       "      <th>0</th>\n",
       "      <td>19995</td>\n",
       "      <td>[{\"id\": 28, \"name\": \"Action\"}, {\"id\": 12, \"nam...</td>\n",
       "      <td>7.2</td>\n",
       "      <td>11800</td>\n",
       "      <td>150.437577</td>\n",
       "      <td>Avatar</td>\n",
       "      <td>[{\"id\": 1463, \"name\": \"culture clash\"}, {\"id\":...</td>\n",
       "      <td>In the 22nd century, a paraplegic Marine is di...</td>\n",
       "    </tr>\n",
       "  </tbody>\n",
       "</table>\n",
       "</div>"
      ],
      "text/plain": [
       "      id                                             genres  vote_average  \\\n",
       "0  19995  [{\"id\": 28, \"name\": \"Action\"}, {\"id\": 12, \"nam...           7.2   \n",
       "\n",
       "   vote_count  popularity   title  \\\n",
       "0       11800  150.437577  Avatar   \n",
       "\n",
       "                                            keywords  \\\n",
       "0  [{\"id\": 1463, \"name\": \"culture clash\"}, {\"id\":...   \n",
       "\n",
       "                                            overview  \n",
       "0  In the 22nd century, a paraplegic Marine is di...  "
      ]
     },
     "execution_count": 41,
     "metadata": {},
     "output_type": "execute_result"
    }
   ],
   "source": [
    "cols = ['id', 'genres', 'vote_average', 'vote_count', 'popularity', 'title', 'keywords', 'overview']\n",
    "data = df[cols]\n",
    "\n",
    "crow, ccol = data.shape\n",
    "print(\"[count] rows : {}, columns : {}\".format(crow, ccol))\n",
    "data.head(1)"
   ]
  },
  {
   "cell_type": "markdown",
   "id": "e0467aee",
   "metadata": {},
   "source": [
    "## 2. Vote Preprocessing\n",
    "- 평균평점이 불공정하게 처리되어 있음.\n",
    "- weight rating으로 평점을 다시 처리해주는 작업"
   ]
  },
  {
   "cell_type": "code",
   "execution_count": 42,
   "id": "d519de88",
   "metadata": {},
   "outputs": [
    {
     "name": "stdout",
     "output_type": "stream",
     "text": [
      "vote_count : 1838.4000000000015\n",
      "[count] rows : 481, columns : 8\n"
     ]
    },
    {
     "data": {
      "text/html": [
       "<div>\n",
       "<style scoped>\n",
       "    .dataframe tbody tr th:only-of-type {\n",
       "        vertical-align: middle;\n",
       "    }\n",
       "\n",
       "    .dataframe tbody tr th {\n",
       "        vertical-align: top;\n",
       "    }\n",
       "\n",
       "    .dataframe thead th {\n",
       "        text-align: right;\n",
       "    }\n",
       "</style>\n",
       "<table border=\"1\" class=\"dataframe\">\n",
       "  <thead>\n",
       "    <tr style=\"text-align: right;\">\n",
       "      <th></th>\n",
       "      <th>id</th>\n",
       "      <th>genres</th>\n",
       "      <th>vote_average</th>\n",
       "      <th>vote_count</th>\n",
       "      <th>popularity</th>\n",
       "      <th>title</th>\n",
       "      <th>keywords</th>\n",
       "      <th>overview</th>\n",
       "    </tr>\n",
       "  </thead>\n",
       "  <tbody>\n",
       "    <tr>\n",
       "      <th>0</th>\n",
       "      <td>19995</td>\n",
       "      <td>[{\"id\": 28, \"name\": \"Action\"}, {\"id\": 12, \"nam...</td>\n",
       "      <td>7.2</td>\n",
       "      <td>11800</td>\n",
       "      <td>150.437577</td>\n",
       "      <td>Avatar</td>\n",
       "      <td>[{\"id\": 1463, \"name\": \"culture clash\"}, {\"id\":...</td>\n",
       "      <td>In the 22nd century, a paraplegic Marine is di...</td>\n",
       "    </tr>\n",
       "  </tbody>\n",
       "</table>\n",
       "</div>"
      ],
      "text/plain": [
       "      id                                             genres  vote_average  \\\n",
       "0  19995  [{\"id\": 28, \"name\": \"Action\"}, {\"id\": 12, \"nam...           7.2   \n",
       "\n",
       "   vote_count  popularity   title  \\\n",
       "0       11800  150.437577  Avatar   \n",
       "\n",
       "                                            keywords  \\\n",
       "0  [{\"id\": 1463, \"name\": \"culture clash\"}, {\"id\":...   \n",
       "\n",
       "                                            overview  \n",
       "0  In the 22nd century, a paraplegic Marine is di...  "
      ]
     },
     "execution_count": 42,
     "metadata": {},
     "output_type": "execute_result"
    }
   ],
   "source": [
    "# 500위 안에 데이터가 들어와야 할 때의 vote_count\n",
    "m = data['vote_count'].quantile(0.9)\n",
    "print(\"vote_count : {}\".format(m))\n",
    "\n",
    "data = data.loc[data['vote_count'] >= m]\n",
    "crow, ccol = data.shape\n",
    "print(\"[count] rows : {}, columns : {}\".format(crow, ccol))\n",
    "data.head(1)"
   ]
  },
  {
   "cell_type": "code",
   "execution_count": 43,
   "id": "08bc8720",
   "metadata": {},
   "outputs": [
    {
     "name": "stdout",
     "output_type": "stream",
     "text": [
      "vote_average : 6.9629937629937615\n"
     ]
    }
   ],
   "source": [
    "c = data['vote_average'].mean()\n",
    "print(\"vote_average : {}\".format(c))"
   ]
  },
  {
   "cell_type": "code",
   "execution_count": 44,
   "id": "6fe3a218",
   "metadata": {},
   "outputs": [],
   "source": [
    "def weight_rating(x, m=m, c=c):\n",
    "    v = x['vote_count']\n",
    "    r = x['vote_average']\n",
    "    \n",
    "    return (v / (v + m) * r) + (m / (v + m) * c)"
   ]
  },
  {
   "cell_type": "code",
   "execution_count": 45,
   "id": "2fcd9de9",
   "metadata": {},
   "outputs": [
    {
     "name": "stdout",
     "output_type": "stream",
     "text": [
      "[count] rows : 481, columns : 9\n"
     ]
    },
    {
     "data": {
      "text/html": [
       "<div>\n",
       "<style scoped>\n",
       "    .dataframe tbody tr th:only-of-type {\n",
       "        vertical-align: middle;\n",
       "    }\n",
       "\n",
       "    .dataframe tbody tr th {\n",
       "        vertical-align: top;\n",
       "    }\n",
       "\n",
       "    .dataframe thead th {\n",
       "        text-align: right;\n",
       "    }\n",
       "</style>\n",
       "<table border=\"1\" class=\"dataframe\">\n",
       "  <thead>\n",
       "    <tr style=\"text-align: right;\">\n",
       "      <th></th>\n",
       "      <th>id</th>\n",
       "      <th>genres</th>\n",
       "      <th>vote_average</th>\n",
       "      <th>vote_count</th>\n",
       "      <th>popularity</th>\n",
       "      <th>title</th>\n",
       "      <th>keywords</th>\n",
       "      <th>overview</th>\n",
       "      <th>score</th>\n",
       "    </tr>\n",
       "  </thead>\n",
       "  <tbody>\n",
       "    <tr>\n",
       "      <th>0</th>\n",
       "      <td>19995</td>\n",
       "      <td>[{\"id\": 28, \"name\": \"Action\"}, {\"id\": 12, \"nam...</td>\n",
       "      <td>7.2</td>\n",
       "      <td>11800</td>\n",
       "      <td>150.437577</td>\n",
       "      <td>Avatar</td>\n",
       "      <td>[{\"id\": 1463, \"name\": \"culture clash\"}, {\"id\":...</td>\n",
       "      <td>In the 22nd century, a paraplegic Marine is di...</td>\n",
       "      <td>7.168053</td>\n",
       "    </tr>\n",
       "  </tbody>\n",
       "</table>\n",
       "</div>"
      ],
      "text/plain": [
       "      id                                             genres  vote_average  \\\n",
       "0  19995  [{\"id\": 28, \"name\": \"Action\"}, {\"id\": 12, \"nam...           7.2   \n",
       "\n",
       "   vote_count  popularity   title  \\\n",
       "0       11800  150.437577  Avatar   \n",
       "\n",
       "                                            keywords  \\\n",
       "0  [{\"id\": 1463, \"name\": \"culture clash\"}, {\"id\":...   \n",
       "\n",
       "                                            overview     score  \n",
       "0  In the 22nd century, a paraplegic Marine is di...  7.168053  "
      ]
     },
     "execution_count": 45,
     "metadata": {},
     "output_type": "execute_result"
    }
   ],
   "source": [
    "data['score'] = data.apply(weight_rating, axis=1)\n",
    "crow, ccol = data.shape\n",
    "print(\"[count] rows : {}, columns : {}\".format(crow, ccol))\n",
    "data.head(1)"
   ]
  },
  {
   "cell_type": "markdown",
   "id": "49fab858",
   "metadata": {},
   "source": [
    "## 3. Column Extraction"
   ]
  },
  {
   "cell_type": "code",
   "execution_count": 46,
   "id": "303a546e",
   "metadata": {},
   "outputs": [
    {
     "name": "stdout",
     "output_type": "stream",
     "text": [
      "{'a': 1234, 'b': 'hello'}\n"
     ]
    }
   ],
   "source": [
    "import ast\n",
    "# ast.literal_eval : 문자열로 표현된 실제 식으로 표현해주는 기능\n",
    "exam = ast.literal_eval(\"{'a': 1234, 'b': 'hello'}\")\n",
    "print(exam)"
   ]
  },
  {
   "cell_type": "code",
   "execution_count": 47,
   "id": "16a360a5",
   "metadata": {},
   "outputs": [
    {
     "data": {
      "text/html": [
       "<div>\n",
       "<style scoped>\n",
       "    .dataframe tbody tr th:only-of-type {\n",
       "        vertical-align: middle;\n",
       "    }\n",
       "\n",
       "    .dataframe tbody tr th {\n",
       "        vertical-align: top;\n",
       "    }\n",
       "\n",
       "    .dataframe thead th {\n",
       "        text-align: right;\n",
       "    }\n",
       "</style>\n",
       "<table border=\"1\" class=\"dataframe\">\n",
       "  <thead>\n",
       "    <tr style=\"text-align: right;\">\n",
       "      <th></th>\n",
       "      <th>genres</th>\n",
       "      <th>keywords</th>\n",
       "    </tr>\n",
       "  </thead>\n",
       "  <tbody>\n",
       "    <tr>\n",
       "      <th>0</th>\n",
       "      <td>[{'id': 28, 'name': 'Action'}, {'id': 12, 'nam...</td>\n",
       "      <td>[{'id': 1463, 'name': 'culture clash'}, {'id':...</td>\n",
       "    </tr>\n",
       "  </tbody>\n",
       "</table>\n",
       "</div>"
      ],
      "text/plain": [
       "                                              genres  \\\n",
       "0  [{'id': 28, 'name': 'Action'}, {'id': 12, 'nam...   \n",
       "\n",
       "                                            keywords  \n",
       "0  [{'id': 1463, 'name': 'culture clash'}, {'id':...  "
      ]
     },
     "execution_count": 47,
     "metadata": {},
     "output_type": "execute_result"
    }
   ],
   "source": [
    "ex_col = ['genres', 'keywords']\n",
    "\n",
    "for c in ex_col:\n",
    "    data[c] = data[c].apply(ast.literal_eval)\n",
    "    \n",
    "# 문자열로 정의된 dict를 실제 dict로 바꾸는 작업\n",
    "data[ex_col].head(1)"
   ]
  },
  {
   "cell_type": "code",
   "execution_count": 48,
   "id": "ff58e87c",
   "metadata": {},
   "outputs": [
    {
     "data": {
      "text/html": [
       "<div>\n",
       "<style scoped>\n",
       "    .dataframe tbody tr th:only-of-type {\n",
       "        vertical-align: middle;\n",
       "    }\n",
       "\n",
       "    .dataframe tbody tr th {\n",
       "        vertical-align: top;\n",
       "    }\n",
       "\n",
       "    .dataframe thead th {\n",
       "        text-align: right;\n",
       "    }\n",
       "</style>\n",
       "<table border=\"1\" class=\"dataframe\">\n",
       "  <thead>\n",
       "    <tr style=\"text-align: right;\">\n",
       "      <th></th>\n",
       "      <th>id</th>\n",
       "      <th>genres</th>\n",
       "      <th>vote_average</th>\n",
       "      <th>vote_count</th>\n",
       "      <th>popularity</th>\n",
       "      <th>title</th>\n",
       "      <th>keywords</th>\n",
       "      <th>overview</th>\n",
       "      <th>score</th>\n",
       "    </tr>\n",
       "  </thead>\n",
       "  <tbody>\n",
       "    <tr>\n",
       "      <th>0</th>\n",
       "      <td>19995</td>\n",
       "      <td>Action Adventure Fantasy Science Fiction</td>\n",
       "      <td>7.2</td>\n",
       "      <td>11800</td>\n",
       "      <td>150.437577</td>\n",
       "      <td>Avatar</td>\n",
       "      <td>culture clash future space war space colony so...</td>\n",
       "      <td>In the 22nd century, a paraplegic Marine is di...</td>\n",
       "      <td>7.168053</td>\n",
       "    </tr>\n",
       "    <tr>\n",
       "      <th>1</th>\n",
       "      <td>285</td>\n",
       "      <td>Adventure Fantasy Action</td>\n",
       "      <td>6.9</td>\n",
       "      <td>4500</td>\n",
       "      <td>139.082615</td>\n",
       "      <td>Pirates of the Caribbean: At World's End</td>\n",
       "      <td>ocean drug abuse exotic island east india trad...</td>\n",
       "      <td>Captain Barbossa, long believed to be dead, ha...</td>\n",
       "      <td>6.918271</td>\n",
       "    </tr>\n",
       "    <tr>\n",
       "      <th>2</th>\n",
       "      <td>206647</td>\n",
       "      <td>Action Adventure Crime</td>\n",
       "      <td>6.3</td>\n",
       "      <td>4466</td>\n",
       "      <td>107.376788</td>\n",
       "      <td>Spectre</td>\n",
       "      <td>spy based on novel secret agent sequel mi6 bri...</td>\n",
       "      <td>A cryptic message from Bond’s past sends him o...</td>\n",
       "      <td>6.493333</td>\n",
       "    </tr>\n",
       "    <tr>\n",
       "      <th>3</th>\n",
       "      <td>49026</td>\n",
       "      <td>Action Crime Drama Thriller</td>\n",
       "      <td>7.6</td>\n",
       "      <td>9106</td>\n",
       "      <td>112.312950</td>\n",
       "      <td>The Dark Knight Rises</td>\n",
       "      <td>dc comics crime fighter terrorist secret ident...</td>\n",
       "      <td>Following the death of District Attorney Harve...</td>\n",
       "      <td>7.492998</td>\n",
       "    </tr>\n",
       "    <tr>\n",
       "      <th>4</th>\n",
       "      <td>49529</td>\n",
       "      <td>Action Adventure Science Fiction</td>\n",
       "      <td>6.1</td>\n",
       "      <td>2124</td>\n",
       "      <td>43.926995</td>\n",
       "      <td>John Carter</td>\n",
       "      <td>based on novel mars medallion space travel pri...</td>\n",
       "      <td>John Carter is a war-weary, former military ca...</td>\n",
       "      <td>6.500396</td>\n",
       "    </tr>\n",
       "  </tbody>\n",
       "</table>\n",
       "</div>"
      ],
      "text/plain": [
       "       id                                    genres  vote_average  vote_count  \\\n",
       "0   19995  Action Adventure Fantasy Science Fiction           7.2       11800   \n",
       "1     285                  Adventure Fantasy Action           6.9        4500   \n",
       "2  206647                    Action Adventure Crime           6.3        4466   \n",
       "3   49026               Action Crime Drama Thriller           7.6        9106   \n",
       "4   49529          Action Adventure Science Fiction           6.1        2124   \n",
       "\n",
       "   popularity                                     title  \\\n",
       "0  150.437577                                    Avatar   \n",
       "1  139.082615  Pirates of the Caribbean: At World's End   \n",
       "2  107.376788                                   Spectre   \n",
       "3  112.312950                     The Dark Knight Rises   \n",
       "4   43.926995                               John Carter   \n",
       "\n",
       "                                            keywords  \\\n",
       "0  culture clash future space war space colony so...   \n",
       "1  ocean drug abuse exotic island east india trad...   \n",
       "2  spy based on novel secret agent sequel mi6 bri...   \n",
       "3  dc comics crime fighter terrorist secret ident...   \n",
       "4  based on novel mars medallion space travel pri...   \n",
       "\n",
       "                                            overview     score  \n",
       "0  In the 22nd century, a paraplegic Marine is di...  7.168053  \n",
       "1  Captain Barbossa, long believed to be dead, ha...  6.918271  \n",
       "2  A cryptic message from Bond’s past sends him o...  6.493333  \n",
       "3  Following the death of District Attorney Harve...  7.492998  \n",
       "4  John Carter is a war-weary, former military ca...  6.500396  "
      ]
     },
     "execution_count": 48,
     "metadata": {},
     "output_type": "execute_result"
    }
   ],
   "source": [
    "name_parse = lambda x: [d['name'] for d in x]\n",
    "str_join = lambda x: \" \".join(x)\n",
    "\n",
    "for c in ex_col:\n",
    "    data[c] = data[c].apply(name_parse).apply(str_join)\n",
    "    \n",
    "data.head(5)"
   ]
  },
  {
   "cell_type": "markdown",
   "id": "b36926b7",
   "metadata": {},
   "source": [
    "# 3. Contents Based Filtering"
   ]
  },
  {
   "cell_type": "markdown",
   "id": "4ec585d4",
   "metadata": {},
   "source": [
    "## 1. Genre Vectorization"
   ]
  },
  {
   "cell_type": "markdown",
   "id": "7de76752",
   "metadata": {},
   "source": [
    "### 1. sklearn.feature_extraction.text.CountVectorizer 간단 소개"
   ]
  },
  {
   "cell_type": "code",
   "execution_count": 51,
   "id": "af58c562",
   "metadata": {},
   "outputs": [
    {
     "name": "stdout",
     "output_type": "stream",
     "text": [
      "{'this': 9, 'is': 3, 'the': 7, 'first': 2, 'document': 1, 'second': 6, 'and': 0, 'third': 8, 'one': 5, 'last': 4}\n",
      "[[0 1 0 1 0 0 1 1 0 2]]\n",
      "[[0 0 0 0 0 0 0 0 0 0]]\n"
     ]
    }
   ],
   "source": [
    "from sklearn.feature_extraction.text import CountVectorizer\n",
    "\n",
    "# ngram_range = (1,3)\n",
    "corpus = [\n",
    "    'This is the first document.',\n",
    "    'This is the second second document.',\n",
    "    'And the third one.',\n",
    "    'Is this the first document?',\n",
    "    'The last document?',\n",
    "]\n",
    "vect = CountVectorizer()\n",
    "# 1. 훈련 시키면 문서에 존재하는 각 각의 단어에 토큰을 부여한다.\n",
    "vect.fit(corpus)\n",
    "print(vect.vocabulary_)\n",
    "\n",
    "# 2. 출현빈도 카운트, BoW(Bag of Words) Encoding Vector 반환\n",
    "# This의 토큰(9)에 True(1) 처리, is의 토큰(3)에 True 처리, the의 토큰(7)에 True 처리, second의 토큰(6)에 True 처리\n",
    "# document의 토큰(1)에 True(1) 처리\n",
    "# [0, 1, 2, 3, 4, 5, 6, 7, 8, 9]\n",
    "# [0, 1, 0, 1, 0, 0, 1, 1, 0, 1]\n",
    "print(vect.transform(['This is the second document.']).toarray())\n",
    "print(vect.transform(['i am th']).toarray())"
   ]
  },
  {
   "cell_type": "markdown",
   "id": "015e25b2",
   "metadata": {},
   "source": [
    "### 2. 예제 적용"
   ]
  },
  {
   "cell_type": "code",
   "execution_count": 53,
   "id": "57f8c0a7",
   "metadata": {},
   "outputs": [
    {
     "name": "stdout",
     "output_type": "stream",
     "text": [
      "Input Value : ['Action Adventure Fantasy Science Fiction' 'Adventure Fantasy Action'] ...\n",
      "Genre word by Token : {'action': 0, 'adventure': 48, 'fantasy': 225, 'science': 326, 'fiction': 259, ' ...\n",
      "\n",
      "title | encoding vector\n",
      "Avatar [1 1 0 0 0 1 0 0 0 0 0 0 0 0 0 0 0 0 0 0]\n",
      "Pirates of the Caribbean: At World's End [1 0 0 0 0 0 0 0 0 0 0 0 0 0 0 0 0 0 0 0]\n",
      "Spectre [1 1 0 0 1 0 0 0 0 0 0 0 0 0 0 0 0 0 0 0]\n",
      "The Dark Knight Rises [1 0 0 0 0 0 0 0 0 0 0 0 0 0 0 1 1 0 0 0]\n"
     ]
    }
   ],
   "source": [
    "vect = CountVectorizer(ngram_range=(1,3))\n",
    "\n",
    "print(\"Input Value : {} ...\".format(data['genres'].values[:2]))\n",
    "vect.fit(data['genres'])\n",
    "print(\"Genre word by Token : {} ...\\n\".format(str(vect.vocabulary_)[:80]))\n",
    "\n",
    "# 데이터 적용, BoW(Bag of Words) Encoding Vector 변환\n",
    "genre_vector = vect.transform(data['genres']).toarray()\n",
    "print(\"title | encoding vector\")\n",
    "for idx, title in enumerate(data['title'][:4]):\n",
    "    print(title, genre_vector[idx][:20])"
   ]
  },
  {
   "cell_type": "markdown",
   "id": "eee4089a",
   "metadata": {},
   "source": [
    "## 2. Similarity Value Extraction"
   ]
  },
  {
   "cell_type": "code",
   "execution_count": 54,
   "id": "de95873b",
   "metadata": {},
   "outputs": [
    {
     "name": "stdout",
     "output_type": "stream",
     "text": [
      "[count] rows : 481, columns : 481\n"
     ]
    },
    {
     "data": {
      "text/plain": [
       "array([[  0,  13,  42, ..., 298, 297, 240],\n",
       "       [ 11,   1, 200, ..., 329, 330, 240],\n",
       "       [  2, 376, 216, ..., 314, 304, 240],\n",
       "       ...,\n",
       "       [478, 187,  12, ..., 326, 327,   0],\n",
       "       [479, 466, 383, ..., 220, 224,   0],\n",
       "       [480, 468, 294, ..., 246, 248,   0]])"
      ]
     },
     "execution_count": 54,
     "metadata": {},
     "output_type": "execute_result"
    }
   ],
   "source": [
    "from sklearn.metrics.pairwise import cosine_similarity as cos\n",
    "\n",
    "# argsort 는 각 각의 영화들의 모든 영화들과의 배열안에서 적용되며, 오름차순으로 정렬된다.\n",
    "# cosine_similarity는 높을수록 유사도가 높은 것이기 때문에 ::-1로 모든 행에 대하여 reverse를 적용해준다.\n",
    "# 각 각의 영화는 자신과 장르상으로 유사한 영화들의 인덱스를 순위로 가지고 있게 되는 것\n",
    "sim_genre = cos(genre_vector, genre_vector).argsort()[:,::-1]\n",
    "crow, ccol = sim_genre.shape\n",
    "print(\"[count] rows : {}, columns : {}\".format(crow, ccol))\n",
    "sim_genre"
   ]
  },
  {
   "cell_type": "code",
   "execution_count": 76,
   "id": "898a90e7",
   "metadata": {},
   "outputs": [
    {
     "data": {
      "text/html": [
       "<div>\n",
       "<style scoped>\n",
       "    .dataframe tbody tr th:only-of-type {\n",
       "        vertical-align: middle;\n",
       "    }\n",
       "\n",
       "    .dataframe tbody tr th {\n",
       "        vertical-align: top;\n",
       "    }\n",
       "\n",
       "    .dataframe thead th {\n",
       "        text-align: right;\n",
       "    }\n",
       "</style>\n",
       "<table border=\"1\" class=\"dataframe\">\n",
       "  <thead>\n",
       "    <tr style=\"text-align: right;\">\n",
       "      <th></th>\n",
       "      <th>id</th>\n",
       "      <th>genres</th>\n",
       "      <th>vote_average</th>\n",
       "      <th>vote_count</th>\n",
       "      <th>popularity</th>\n",
       "      <th>title</th>\n",
       "      <th>keywords</th>\n",
       "      <th>overview</th>\n",
       "      <th>score</th>\n",
       "    </tr>\n",
       "  </thead>\n",
       "  <tbody>\n",
       "    <tr>\n",
       "      <th>3</th>\n",
       "      <td>49026</td>\n",
       "      <td>Action Crime Drama Thriller</td>\n",
       "      <td>7.6</td>\n",
       "      <td>9106</td>\n",
       "      <td>112.312950</td>\n",
       "      <td>The Dark Knight Rises</td>\n",
       "      <td>dc comics crime fighter terrorist secret ident...</td>\n",
       "      <td>Following the death of District Attorney Harve...</td>\n",
       "      <td>7.492998</td>\n",
       "    </tr>\n",
       "    <tr>\n",
       "      <th>1850</th>\n",
       "      <td>111</td>\n",
       "      <td>Action Crime Drama Thriller</td>\n",
       "      <td>8.0</td>\n",
       "      <td>2948</td>\n",
       "      <td>70.105981</td>\n",
       "      <td>Scarface</td>\n",
       "      <td>miami corruption capitalism cuba prohibition b...</td>\n",
       "      <td>After getting a green card in exchange for ass...</td>\n",
       "      <td>7.601698</td>\n",
       "    </tr>\n",
       "    <tr>\n",
       "      <th>2091</th>\n",
       "      <td>274</td>\n",
       "      <td>Crime Drama Thriller</td>\n",
       "      <td>8.1</td>\n",
       "      <td>4443</td>\n",
       "      <td>18.174804</td>\n",
       "      <td>The Silence of the Lambs</td>\n",
       "      <td>based on novel psychopath horror suspense seri...</td>\n",
       "      <td>FBI trainee, Clarice Starling ventures into a ...</td>\n",
       "      <td>7.767228</td>\n",
       "    </tr>\n",
       "    <tr>\n",
       "      <th>3234</th>\n",
       "      <td>242582</td>\n",
       "      <td>Crime Drama Thriller</td>\n",
       "      <td>7.6</td>\n",
       "      <td>3395</td>\n",
       "      <td>89.095538</td>\n",
       "      <td>Nightcrawler</td>\n",
       "      <td>journalism underground tv station sociopath ho...</td>\n",
       "      <td>When Lou Bloom, desperate for work, muscles in...</td>\n",
       "      <td>7.376231</td>\n",
       "    </tr>\n",
       "  </tbody>\n",
       "</table>\n",
       "</div>"
      ],
      "text/plain": [
       "          id                       genres  vote_average  vote_count  \\\n",
       "3      49026  Action Crime Drama Thriller           7.6        9106   \n",
       "1850     111  Action Crime Drama Thriller           8.0        2948   \n",
       "2091     274         Crime Drama Thriller           8.1        4443   \n",
       "3234  242582         Crime Drama Thriller           7.6        3395   \n",
       "\n",
       "      popularity                     title  \\\n",
       "3     112.312950     The Dark Knight Rises   \n",
       "1850   70.105981                  Scarface   \n",
       "2091   18.174804  The Silence of the Lambs   \n",
       "3234   89.095538              Nightcrawler   \n",
       "\n",
       "                                               keywords  \\\n",
       "3     dc comics crime fighter terrorist secret ident...   \n",
       "1850  miami corruption capitalism cuba prohibition b...   \n",
       "2091  based on novel psychopath horror suspense seri...   \n",
       "3234  journalism underground tv station sociopath ho...   \n",
       "\n",
       "                                               overview     score  \n",
       "3     Following the death of District Attorney Harve...  7.492998  \n",
       "1850  After getting a green card in exchange for ass...  7.601698  \n",
       "2091  FBI trainee, Clarice Starling ventures into a ...  7.767228  \n",
       "3234  When Lou Bloom, desperate for work, muscles in...  7.376231  "
      ]
     },
     "execution_count": 76,
     "metadata": {},
     "output_type": "execute_result"
    }
   ],
   "source": [
    "data.iloc[sim_genre[3]].head(4)"
   ]
  },
  {
   "cell_type": "markdown",
   "id": "6c0f4585",
   "metadata": {},
   "source": [
    "## 3. Usage"
   ]
  },
  {
   "cell_type": "code",
   "execution_count": 77,
   "id": "e4ed6885",
   "metadata": {},
   "outputs": [],
   "source": [
    "def recommend_movie_list(df, movie_title, top=30):\n",
    "    idx = data[data['title'] == title].index[0]\n",
    "    \n",
    "    # sim_idx : 위에서 구한 장르 유사도 데이터 이용\n",
    "    sim_idx = sim_genre[idx][1:top + 1]\n",
    "    \n",
    "    return data.iloc[sim_idx]"
   ]
  },
  {
   "cell_type": "code",
   "execution_count": 78,
   "id": "2bbdeafc",
   "metadata": {},
   "outputs": [
    {
     "name": "stdout",
     "output_type": "stream",
     "text": [
      "영화 'Ex Machina'에 대한 추천 데이터\n"
     ]
    },
    {
     "data": {
      "text/html": [
       "<div>\n",
       "<style scoped>\n",
       "    .dataframe tbody tr th:only-of-type {\n",
       "        vertical-align: middle;\n",
       "    }\n",
       "\n",
       "    .dataframe tbody tr th {\n",
       "        vertical-align: top;\n",
       "    }\n",
       "\n",
       "    .dataframe thead th {\n",
       "        text-align: right;\n",
       "    }\n",
       "</style>\n",
       "<table border=\"1\" class=\"dataframe\">\n",
       "  <thead>\n",
       "    <tr style=\"text-align: right;\">\n",
       "      <th></th>\n",
       "      <th>id</th>\n",
       "      <th>genres</th>\n",
       "      <th>vote_average</th>\n",
       "      <th>vote_count</th>\n",
       "      <th>popularity</th>\n",
       "      <th>title</th>\n",
       "      <th>keywords</th>\n",
       "      <th>overview</th>\n",
       "      <th>score</th>\n",
       "    </tr>\n",
       "  </thead>\n",
       "  <tbody>\n",
       "    <tr>\n",
       "      <th>65</th>\n",
       "      <td>155</td>\n",
       "      <td>Drama Action Crime Thriller</td>\n",
       "      <td>8.2</td>\n",
       "      <td>12002</td>\n",
       "      <td>187.322927</td>\n",
       "      <td>The Dark Knight</td>\n",
       "      <td>dc comics crime fighter secret identity scarec...</td>\n",
       "      <td>Batman raises the stakes in his war on crime. ...</td>\n",
       "      <td>8.035690</td>\n",
       "    </tr>\n",
       "    <tr>\n",
       "      <th>2091</th>\n",
       "      <td>274</td>\n",
       "      <td>Crime Drama Thriller</td>\n",
       "      <td>8.1</td>\n",
       "      <td>4443</td>\n",
       "      <td>18.174804</td>\n",
       "      <td>The Silence of the Lambs</td>\n",
       "      <td>based on novel psychopath horror suspense seri...</td>\n",
       "      <td>FBI trainee, Clarice Starling ventures into a ...</td>\n",
       "      <td>7.767228</td>\n",
       "    </tr>\n",
       "    <tr>\n",
       "      <th>2760</th>\n",
       "      <td>264644</td>\n",
       "      <td>Drama Thriller</td>\n",
       "      <td>8.1</td>\n",
       "      <td>2757</td>\n",
       "      <td>66.113340</td>\n",
       "      <td>Room</td>\n",
       "      <td>based on novel carpet isolation kidnapping imp...</td>\n",
       "      <td>Jack is a young boy of 5 years old who has liv...</td>\n",
       "      <td>7.645138</td>\n",
       "    </tr>\n",
       "  </tbody>\n",
       "</table>\n",
       "</div>"
      ],
      "text/plain": [
       "          id                       genres  vote_average  vote_count  \\\n",
       "65       155  Drama Action Crime Thriller           8.2       12002   \n",
       "2091     274         Crime Drama Thriller           8.1        4443   \n",
       "2760  264644               Drama Thriller           8.1        2757   \n",
       "\n",
       "      popularity                     title  \\\n",
       "65    187.322927           The Dark Knight   \n",
       "2091   18.174804  The Silence of the Lambs   \n",
       "2760   66.113340                      Room   \n",
       "\n",
       "                                               keywords  \\\n",
       "65    dc comics crime fighter secret identity scarec...   \n",
       "2091  based on novel psychopath horror suspense seri...   \n",
       "2760  based on novel carpet isolation kidnapping imp...   \n",
       "\n",
       "                                               overview     score  \n",
       "65    Batman raises the stakes in his war on crime. ...  8.035690  \n",
       "2091  FBI trainee, Clarice Starling ventures into a ...  7.767228  \n",
       "2760  Jack is a young boy of 5 years old who has liv...  7.645138  "
      ]
     },
     "execution_count": 78,
     "metadata": {},
     "output_type": "execute_result"
    }
   ],
   "source": [
    "# score 내림차순 정렬 수행\n",
    "ran_movie = data.sample().iloc[0]\n",
    "\n",
    "print(\"영화 '{}'에 대한 추천 데이터\".format(ran_movie['title']))\n",
    "reco_data = recommend_movie_list(data, movie_title=ran_movie['title']).sort_values('score', ascending=False)\n",
    "reco_data.head(3)"
   ]
  },
  {
   "cell_type": "markdown",
   "id": "d056694a",
   "metadata": {},
   "source": [
    "## 4. 장르 빈도 확인"
   ]
  },
  {
   "cell_type": "code",
   "execution_count": 79,
   "id": "d7530d71",
   "metadata": {},
   "outputs": [
    {
     "name": "stdout",
     "output_type": "stream",
     "text": [
      "영화 'Ex Machina'의 장르 데이터\n",
      "Drama Science Fiction\n"
     ]
    },
    {
     "data": {
      "text/html": [
       "<div>\n",
       "<style scoped>\n",
       "    .dataframe tbody tr th:only-of-type {\n",
       "        vertical-align: middle;\n",
       "    }\n",
       "\n",
       "    .dataframe tbody tr th {\n",
       "        vertical-align: top;\n",
       "    }\n",
       "\n",
       "    .dataframe thead th {\n",
       "        text-align: right;\n",
       "    }\n",
       "</style>\n",
       "<table border=\"1\" class=\"dataframe\">\n",
       "  <thead>\n",
       "    <tr style=\"text-align: right;\">\n",
       "      <th></th>\n",
       "      <th>genres (1,3)</th>\n",
       "      <th>count</th>\n",
       "    </tr>\n",
       "  </thead>\n",
       "  <tbody>\n",
       "    <tr>\n",
       "      <th>336</th>\n",
       "      <td>thriller</td>\n",
       "      <td>24</td>\n",
       "    </tr>\n",
       "    <tr>\n",
       "      <th>159</th>\n",
       "      <td>drama</td>\n",
       "      <td>22</td>\n",
       "    </tr>\n",
       "    <tr>\n",
       "      <th>143</th>\n",
       "      <td>crime</td>\n",
       "      <td>21</td>\n",
       "    </tr>\n",
       "    <tr>\n",
       "      <th>0</th>\n",
       "      <td>action</td>\n",
       "      <td>19</td>\n",
       "    </tr>\n",
       "    <tr>\n",
       "      <th>193</th>\n",
       "      <td>drama thriller</td>\n",
       "      <td>16</td>\n",
       "    </tr>\n",
       "    <tr>\n",
       "      <th>15</th>\n",
       "      <td>action crime</td>\n",
       "      <td>12</td>\n",
       "    </tr>\n",
       "    <tr>\n",
       "      <th>149</th>\n",
       "      <td>crime drama</td>\n",
       "      <td>9</td>\n",
       "    </tr>\n",
       "    <tr>\n",
       "      <th>152</th>\n",
       "      <td>crime drama thriller</td>\n",
       "      <td>5</td>\n",
       "    </tr>\n",
       "    <tr>\n",
       "      <th>158</th>\n",
       "      <td>crime thriller</td>\n",
       "      <td>5</td>\n",
       "    </tr>\n",
       "    <tr>\n",
       "      <th>18</th>\n",
       "      <td>action crime thriller</td>\n",
       "      <td>5</td>\n",
       "    </tr>\n",
       "  </tbody>\n",
       "</table>\n",
       "</div>"
      ],
      "text/plain": [
       "              genres (1,3) count\n",
       "336               thriller    24\n",
       "159                  drama    22\n",
       "143                  crime    21\n",
       "0                   action    19\n",
       "193         drama thriller    16\n",
       "15            action crime    12\n",
       "149            crime drama     9\n",
       "152   crime drama thriller     5\n",
       "158         crime thriller     5\n",
       "18   action crime thriller     5"
      ]
     },
     "execution_count": 79,
     "metadata": {},
     "output_type": "execute_result"
    }
   ],
   "source": [
    "import numpy as np\n",
    "\n",
    "features = vect.get_feature_names_out()\n",
    "count = vect.transform(reco_data['genres']).toarray().sum(axis=0)\n",
    "\n",
    "count_df = pd.DataFrame(np.column_stack([features, count]),columns=['genres (1,3)', 'count'])\n",
    "\n",
    "print(\"영화 '{}'의 장르 데이터\".format(ran_movie['title']))\n",
    "print(ran_movie['genres'])\n",
    "count_df.sort_values(['count'], ascending=False)[:10]"
   ]
  }
 ],
 "metadata": {
  "kernelspec": {
   "display_name": "Python 3 (ipykernel)",
   "language": "python",
   "name": "python3"
  },
  "language_info": {
   "codemirror_mode": {
    "name": "ipython",
    "version": 3
   },
   "file_extension": ".py",
   "mimetype": "text/x-python",
   "name": "python",
   "nbconvert_exporter": "python",
   "pygments_lexer": "ipython3",
   "version": "3.8.12"
  }
 },
 "nbformat": 4,
 "nbformat_minor": 5
}

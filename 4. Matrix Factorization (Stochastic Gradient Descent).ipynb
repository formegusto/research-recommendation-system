{
 "cells": [
  {
   "cell_type": "code",
   "execution_count": 1,
   "id": "33b2d5fb",
   "metadata": {},
   "outputs": [],
   "source": [
    "%load_ext autoreload\n",
    "%autoreload 2\n",
    "%reload_ext autoreload"
   ]
  },
  {
   "cell_type": "code",
   "execution_count": 2,
   "id": "e7b3321d",
   "metadata": {},
   "outputs": [],
   "source": [
    "import numpy as np\n",
    "import pandas as pd\n",
    "\n",
    "import matplotlib.pyplot as plt\n",
    "import seaborn as sns"
   ]
  },
  {
   "cell_type": "markdown",
   "id": "87b196bd",
   "metadata": {},
   "source": [
    "# 1. Data"
   ]
  },
  {
   "cell_type": "code",
   "execution_count": 3,
   "id": "a96de04b",
   "metadata": {},
   "outputs": [
    {
     "data": {
      "text/html": [
       "<div>\n",
       "<style scoped>\n",
       "    .dataframe tbody tr th:only-of-type {\n",
       "        vertical-align: middle;\n",
       "    }\n",
       "\n",
       "    .dataframe tbody tr th {\n",
       "        vertical-align: top;\n",
       "    }\n",
       "\n",
       "    .dataframe thead th {\n",
       "        text-align: right;\n",
       "    }\n",
       "</style>\n",
       "<table border=\"1\" class=\"dataframe\">\n",
       "  <thead>\n",
       "    <tr style=\"text-align: right;\">\n",
       "      <th></th>\n",
       "      <th>userId</th>\n",
       "      <th>movieId</th>\n",
       "      <th>rating</th>\n",
       "      <th>timestamp</th>\n",
       "    </tr>\n",
       "  </thead>\n",
       "  <tbody>\n",
       "    <tr>\n",
       "      <th>0</th>\n",
       "      <td>1</td>\n",
       "      <td>31</td>\n",
       "      <td>2.5</td>\n",
       "      <td>1260759144</td>\n",
       "    </tr>\n",
       "    <tr>\n",
       "      <th>1</th>\n",
       "      <td>1</td>\n",
       "      <td>1029</td>\n",
       "      <td>3.0</td>\n",
       "      <td>1260759179</td>\n",
       "    </tr>\n",
       "    <tr>\n",
       "      <th>2</th>\n",
       "      <td>1</td>\n",
       "      <td>1061</td>\n",
       "      <td>3.0</td>\n",
       "      <td>1260759182</td>\n",
       "    </tr>\n",
       "    <tr>\n",
       "      <th>3</th>\n",
       "      <td>1</td>\n",
       "      <td>1129</td>\n",
       "      <td>2.0</td>\n",
       "      <td>1260759185</td>\n",
       "    </tr>\n",
       "    <tr>\n",
       "      <th>4</th>\n",
       "      <td>1</td>\n",
       "      <td>1172</td>\n",
       "      <td>4.0</td>\n",
       "      <td>1260759205</td>\n",
       "    </tr>\n",
       "  </tbody>\n",
       "</table>\n",
       "</div>"
      ],
      "text/plain": [
       "   userId  movieId  rating   timestamp\n",
       "0       1       31     2.5  1260759144\n",
       "1       1     1029     3.0  1260759179\n",
       "2       1     1061     3.0  1260759182\n",
       "3       1     1129     2.0  1260759185\n",
       "4       1     1172     4.0  1260759205"
      ]
     },
     "execution_count": 3,
     "metadata": {},
     "output_type": "execute_result"
    }
   ],
   "source": [
    "datas = pd.read_csv(\"datas/movielens_small/ratings.csv\")\n",
    "\n",
    "datas.head()"
   ]
  },
  {
   "cell_type": "markdown",
   "id": "f92f0f80",
   "metadata": {},
   "source": [
    "# 2. Data Analysis"
   ]
  },
  {
   "cell_type": "code",
   "execution_count": 4,
   "id": "e6ec04ec",
   "metadata": {},
   "outputs": [
    {
     "data": {
      "text/html": [
       "<div>\n",
       "<style scoped>\n",
       "    .dataframe tbody tr th:only-of-type {\n",
       "        vertical-align: middle;\n",
       "    }\n",
       "\n",
       "    .dataframe tbody tr th {\n",
       "        vertical-align: top;\n",
       "    }\n",
       "\n",
       "    .dataframe thead th {\n",
       "        text-align: right;\n",
       "    }\n",
       "</style>\n",
       "<table border=\"1\" class=\"dataframe\">\n",
       "  <thead>\n",
       "    <tr style=\"text-align: right;\">\n",
       "      <th></th>\n",
       "      <th>userId</th>\n",
       "      <th>movieId</th>\n",
       "      <th>rating</th>\n",
       "      <th>timestamp</th>\n",
       "    </tr>\n",
       "  </thead>\n",
       "  <tbody>\n",
       "    <tr>\n",
       "      <th>count</th>\n",
       "      <td>100004.000000</td>\n",
       "      <td>100004.000000</td>\n",
       "      <td>100004.000000</td>\n",
       "      <td>1.000040e+05</td>\n",
       "    </tr>\n",
       "    <tr>\n",
       "      <th>mean</th>\n",
       "      <td>347.011310</td>\n",
       "      <td>12548.664363</td>\n",
       "      <td>3.543608</td>\n",
       "      <td>1.129639e+09</td>\n",
       "    </tr>\n",
       "    <tr>\n",
       "      <th>std</th>\n",
       "      <td>195.163838</td>\n",
       "      <td>26369.198969</td>\n",
       "      <td>1.058064</td>\n",
       "      <td>1.916858e+08</td>\n",
       "    </tr>\n",
       "    <tr>\n",
       "      <th>min</th>\n",
       "      <td>1.000000</td>\n",
       "      <td>1.000000</td>\n",
       "      <td>0.500000</td>\n",
       "      <td>7.896520e+08</td>\n",
       "    </tr>\n",
       "    <tr>\n",
       "      <th>25%</th>\n",
       "      <td>182.000000</td>\n",
       "      <td>1028.000000</td>\n",
       "      <td>3.000000</td>\n",
       "      <td>9.658478e+08</td>\n",
       "    </tr>\n",
       "    <tr>\n",
       "      <th>50%</th>\n",
       "      <td>367.000000</td>\n",
       "      <td>2406.500000</td>\n",
       "      <td>4.000000</td>\n",
       "      <td>1.110422e+09</td>\n",
       "    </tr>\n",
       "    <tr>\n",
       "      <th>75%</th>\n",
       "      <td>520.000000</td>\n",
       "      <td>5418.000000</td>\n",
       "      <td>4.000000</td>\n",
       "      <td>1.296192e+09</td>\n",
       "    </tr>\n",
       "    <tr>\n",
       "      <th>max</th>\n",
       "      <td>671.000000</td>\n",
       "      <td>163949.000000</td>\n",
       "      <td>5.000000</td>\n",
       "      <td>1.476641e+09</td>\n",
       "    </tr>\n",
       "  </tbody>\n",
       "</table>\n",
       "</div>"
      ],
      "text/plain": [
       "              userId        movieId         rating     timestamp\n",
       "count  100004.000000  100004.000000  100004.000000  1.000040e+05\n",
       "mean      347.011310   12548.664363       3.543608  1.129639e+09\n",
       "std       195.163838   26369.198969       1.058064  1.916858e+08\n",
       "min         1.000000       1.000000       0.500000  7.896520e+08\n",
       "25%       182.000000    1028.000000       3.000000  9.658478e+08\n",
       "50%       367.000000    2406.500000       4.000000  1.110422e+09\n",
       "75%       520.000000    5418.000000       4.000000  1.296192e+09\n",
       "max       671.000000  163949.000000       5.000000  1.476641e+09"
      ]
     },
     "execution_count": 4,
     "metadata": {},
     "output_type": "execute_result"
    }
   ],
   "source": [
    "# 1. describe (통계 정보 1. value)\n",
    "datas.describe()"
   ]
  },
  {
   "cell_type": "code",
   "execution_count": 5,
   "id": "247ea2b6",
   "metadata": {},
   "outputs": [
    {
     "name": "stdout",
     "output_type": "stream",
     "text": [
      "<class 'pandas.core.frame.DataFrame'>\n",
      "RangeIndex: 100004 entries, 0 to 100003\n",
      "Data columns (total 4 columns):\n",
      " #   Column     Non-Null Count   Dtype  \n",
      "---  ------     --------------   -----  \n",
      " 0   userId     100004 non-null  int64  \n",
      " 1   movieId    100004 non-null  int64  \n",
      " 2   rating     100004 non-null  float64\n",
      " 3   timestamp  100004 non-null  int64  \n",
      "dtypes: float64(1), int64(3)\n",
      "memory usage: 3.1 MB\n"
     ]
    }
   ],
   "source": [
    "# 2. info (통계 정보 2. data structure)\n",
    "datas.info()"
   ]
  },
  {
   "cell_type": "code",
   "execution_count": 6,
   "id": "9c0700eb",
   "metadata": {},
   "outputs": [
    {
     "data": {
      "text/html": [
       "<div>\n",
       "<style scoped>\n",
       "    .dataframe tbody tr th:only-of-type {\n",
       "        vertical-align: middle;\n",
       "    }\n",
       "\n",
       "    .dataframe tbody tr th {\n",
       "        vertical-align: top;\n",
       "    }\n",
       "\n",
       "    .dataframe thead th {\n",
       "        text-align: right;\n",
       "    }\n",
       "</style>\n",
       "<table border=\"1\" class=\"dataframe\">\n",
       "  <thead>\n",
       "    <tr style=\"text-align: right;\">\n",
       "      <th></th>\n",
       "      <th>userId</th>\n",
       "      <th>movieId</th>\n",
       "      <th>rating</th>\n",
       "    </tr>\n",
       "  </thead>\n",
       "  <tbody>\n",
       "    <tr>\n",
       "      <th>0</th>\n",
       "      <td>1</td>\n",
       "      <td>31</td>\n",
       "      <td>2.5</td>\n",
       "    </tr>\n",
       "    <tr>\n",
       "      <th>1</th>\n",
       "      <td>1</td>\n",
       "      <td>1029</td>\n",
       "      <td>3.0</td>\n",
       "    </tr>\n",
       "    <tr>\n",
       "      <th>2</th>\n",
       "      <td>1</td>\n",
       "      <td>1061</td>\n",
       "      <td>3.0</td>\n",
       "    </tr>\n",
       "    <tr>\n",
       "      <th>3</th>\n",
       "      <td>1</td>\n",
       "      <td>1129</td>\n",
       "      <td>2.0</td>\n",
       "    </tr>\n",
       "    <tr>\n",
       "      <th>4</th>\n",
       "      <td>1</td>\n",
       "      <td>1172</td>\n",
       "      <td>4.0</td>\n",
       "    </tr>\n",
       "  </tbody>\n",
       "</table>\n",
       "</div>"
      ],
      "text/plain": [
       "   userId  movieId  rating\n",
       "0       1       31     2.5\n",
       "1       1     1029     3.0\n",
       "2       1     1061     3.0\n",
       "3       1     1129     2.0\n",
       "4       1     1172     4.0"
      ]
     },
     "execution_count": 6,
     "metadata": {},
     "output_type": "execute_result"
    }
   ],
   "source": [
    "# 3. 불필요한 칼럼 제거\n",
    "datas.drop(\"timestamp\", axis=1, inplace=True)\n",
    "datas.head()"
   ]
  },
  {
   "cell_type": "code",
   "execution_count": 7,
   "id": "8997a45e",
   "metadata": {},
   "outputs": [
    {
     "name": "stdout",
     "output_type": "stream",
     "text": [
      "사용자 수 : 671 명\n",
      "평가된 영화 수 : 9066 개\n"
     ]
    }
   ],
   "source": [
    "# 4. unique data set check\n",
    "print(\"사용자 수 : {} 명\".format(datas['userId'].unique().size))\n",
    "print(\"평가된 영화 수 : {} 개\".format(datas['movieId'].unique().size))"
   ]
  },
  {
   "cell_type": "markdown",
   "id": "1fa0340c",
   "metadata": {},
   "source": [
    "# 2. Matrix Factorization"
   ]
  },
  {
   "cell_type": "markdown",
   "id": "55ce383f",
   "metadata": {},
   "source": [
    "## 1. MF Model Process"
   ]
  },
  {
   "cell_type": "code",
   "execution_count": 8,
   "id": "16d1d8be",
   "metadata": {},
   "outputs": [
    {
     "name": "stdout",
     "output_type": "stream",
     "text": [
      "Train dataset shape : (80003, 3)\n",
      "Test dataset shape : (20001, 3)\n"
     ]
    }
   ],
   "source": [
    "# 1. split train and test\n",
    "from sklearn.model_selection import train_test_split\n",
    "\n",
    "train_df, test_df = train_test_split(datas, test_size=0.2, random_state=42)\n",
    "print(\"Train dataset shape : {}\".format(train_df.shape))\n",
    "print(\"Test dataset shape : {}\".format(test_df.shape))"
   ]
  },
  {
   "cell_type": "code",
   "execution_count": 9,
   "id": "a2c04f6b",
   "metadata": {},
   "outputs": [
    {
     "data": {
      "text/html": [
       "<div>\n",
       "<style scoped>\n",
       "    .dataframe tbody tr th:only-of-type {\n",
       "        vertical-align: middle;\n",
       "    }\n",
       "\n",
       "    .dataframe tbody tr th {\n",
       "        vertical-align: top;\n",
       "    }\n",
       "\n",
       "    .dataframe thead th {\n",
       "        text-align: right;\n",
       "    }\n",
       "</style>\n",
       "<table border=\"1\" class=\"dataframe\">\n",
       "  <thead>\n",
       "    <tr style=\"text-align: right;\">\n",
       "      <th>movieId</th>\n",
       "      <th>1</th>\n",
       "      <th>2</th>\n",
       "      <th>3</th>\n",
       "      <th>4</th>\n",
       "      <th>5</th>\n",
       "      <th>6</th>\n",
       "      <th>7</th>\n",
       "      <th>8</th>\n",
       "      <th>9</th>\n",
       "      <th>10</th>\n",
       "      <th>...</th>\n",
       "      <th>160656</th>\n",
       "      <th>160718</th>\n",
       "      <th>161084</th>\n",
       "      <th>161155</th>\n",
       "      <th>161594</th>\n",
       "      <th>161830</th>\n",
       "      <th>161918</th>\n",
       "      <th>161944</th>\n",
       "      <th>162542</th>\n",
       "      <th>163949</th>\n",
       "    </tr>\n",
       "    <tr>\n",
       "      <th>userId</th>\n",
       "      <th></th>\n",
       "      <th></th>\n",
       "      <th></th>\n",
       "      <th></th>\n",
       "      <th></th>\n",
       "      <th></th>\n",
       "      <th></th>\n",
       "      <th></th>\n",
       "      <th></th>\n",
       "      <th></th>\n",
       "      <th></th>\n",
       "      <th></th>\n",
       "      <th></th>\n",
       "      <th></th>\n",
       "      <th></th>\n",
       "      <th></th>\n",
       "      <th></th>\n",
       "      <th></th>\n",
       "      <th></th>\n",
       "      <th></th>\n",
       "      <th></th>\n",
       "    </tr>\n",
       "  </thead>\n",
       "  <tbody>\n",
       "    <tr>\n",
       "      <th>1</th>\n",
       "      <td>0.0</td>\n",
       "      <td>0.0</td>\n",
       "      <td>0.0</td>\n",
       "      <td>0.0</td>\n",
       "      <td>0.0</td>\n",
       "      <td>0.0</td>\n",
       "      <td>0.0</td>\n",
       "      <td>0.0</td>\n",
       "      <td>0.0</td>\n",
       "      <td>0.0</td>\n",
       "      <td>...</td>\n",
       "      <td>0.0</td>\n",
       "      <td>0.0</td>\n",
       "      <td>0.0</td>\n",
       "      <td>0.0</td>\n",
       "      <td>0.0</td>\n",
       "      <td>0.0</td>\n",
       "      <td>0.0</td>\n",
       "      <td>0.0</td>\n",
       "      <td>0.0</td>\n",
       "      <td>0.0</td>\n",
       "    </tr>\n",
       "    <tr>\n",
       "      <th>2</th>\n",
       "      <td>0.0</td>\n",
       "      <td>0.0</td>\n",
       "      <td>0.0</td>\n",
       "      <td>0.0</td>\n",
       "      <td>0.0</td>\n",
       "      <td>0.0</td>\n",
       "      <td>0.0</td>\n",
       "      <td>0.0</td>\n",
       "      <td>0.0</td>\n",
       "      <td>4.0</td>\n",
       "      <td>...</td>\n",
       "      <td>0.0</td>\n",
       "      <td>0.0</td>\n",
       "      <td>0.0</td>\n",
       "      <td>0.0</td>\n",
       "      <td>0.0</td>\n",
       "      <td>0.0</td>\n",
       "      <td>0.0</td>\n",
       "      <td>0.0</td>\n",
       "      <td>0.0</td>\n",
       "      <td>0.0</td>\n",
       "    </tr>\n",
       "    <tr>\n",
       "      <th>3</th>\n",
       "      <td>0.0</td>\n",
       "      <td>0.0</td>\n",
       "      <td>0.0</td>\n",
       "      <td>0.0</td>\n",
       "      <td>0.0</td>\n",
       "      <td>0.0</td>\n",
       "      <td>0.0</td>\n",
       "      <td>0.0</td>\n",
       "      <td>0.0</td>\n",
       "      <td>0.0</td>\n",
       "      <td>...</td>\n",
       "      <td>0.0</td>\n",
       "      <td>0.0</td>\n",
       "      <td>0.0</td>\n",
       "      <td>0.0</td>\n",
       "      <td>0.0</td>\n",
       "      <td>0.0</td>\n",
       "      <td>0.0</td>\n",
       "      <td>0.0</td>\n",
       "      <td>0.0</td>\n",
       "      <td>0.0</td>\n",
       "    </tr>\n",
       "    <tr>\n",
       "      <th>4</th>\n",
       "      <td>0.0</td>\n",
       "      <td>0.0</td>\n",
       "      <td>0.0</td>\n",
       "      <td>0.0</td>\n",
       "      <td>0.0</td>\n",
       "      <td>0.0</td>\n",
       "      <td>0.0</td>\n",
       "      <td>0.0</td>\n",
       "      <td>0.0</td>\n",
       "      <td>0.0</td>\n",
       "      <td>...</td>\n",
       "      <td>0.0</td>\n",
       "      <td>0.0</td>\n",
       "      <td>0.0</td>\n",
       "      <td>0.0</td>\n",
       "      <td>0.0</td>\n",
       "      <td>0.0</td>\n",
       "      <td>0.0</td>\n",
       "      <td>0.0</td>\n",
       "      <td>0.0</td>\n",
       "      <td>0.0</td>\n",
       "    </tr>\n",
       "    <tr>\n",
       "      <th>5</th>\n",
       "      <td>0.0</td>\n",
       "      <td>0.0</td>\n",
       "      <td>0.0</td>\n",
       "      <td>0.0</td>\n",
       "      <td>0.0</td>\n",
       "      <td>0.0</td>\n",
       "      <td>0.0</td>\n",
       "      <td>0.0</td>\n",
       "      <td>0.0</td>\n",
       "      <td>0.0</td>\n",
       "      <td>...</td>\n",
       "      <td>0.0</td>\n",
       "      <td>0.0</td>\n",
       "      <td>0.0</td>\n",
       "      <td>0.0</td>\n",
       "      <td>0.0</td>\n",
       "      <td>0.0</td>\n",
       "      <td>0.0</td>\n",
       "      <td>0.0</td>\n",
       "      <td>0.0</td>\n",
       "      <td>0.0</td>\n",
       "    </tr>\n",
       "  </tbody>\n",
       "</table>\n",
       "<p>5 rows × 8399 columns</p>\n",
       "</div>"
      ],
      "text/plain": [
       "movieId  1       2       3       4       5       6       7       8       \\\n",
       "userId                                                                    \n",
       "1           0.0     0.0     0.0     0.0     0.0     0.0     0.0     0.0   \n",
       "2           0.0     0.0     0.0     0.0     0.0     0.0     0.0     0.0   \n",
       "3           0.0     0.0     0.0     0.0     0.0     0.0     0.0     0.0   \n",
       "4           0.0     0.0     0.0     0.0     0.0     0.0     0.0     0.0   \n",
       "5           0.0     0.0     0.0     0.0     0.0     0.0     0.0     0.0   \n",
       "\n",
       "movieId  9       10      ...  160656  160718  161084  161155  161594  161830  \\\n",
       "userId                   ...                                                   \n",
       "1           0.0     0.0  ...     0.0     0.0     0.0     0.0     0.0     0.0   \n",
       "2           0.0     4.0  ...     0.0     0.0     0.0     0.0     0.0     0.0   \n",
       "3           0.0     0.0  ...     0.0     0.0     0.0     0.0     0.0     0.0   \n",
       "4           0.0     0.0  ...     0.0     0.0     0.0     0.0     0.0     0.0   \n",
       "5           0.0     0.0  ...     0.0     0.0     0.0     0.0     0.0     0.0   \n",
       "\n",
       "movieId  161918  161944  162542  163949  \n",
       "userId                                   \n",
       "1           0.0     0.0     0.0     0.0  \n",
       "2           0.0     0.0     0.0     0.0  \n",
       "3           0.0     0.0     0.0     0.0  \n",
       "4           0.0     0.0     0.0     0.0  \n",
       "5           0.0     0.0     0.0     0.0  \n",
       "\n",
       "[5 rows x 8399 columns]"
      ]
     },
     "execution_count": 9,
     "metadata": {},
     "output_type": "execute_result"
    }
   ],
   "source": [
    "# 2. set pivot\n",
    "pivot_df = train_df.pivot_table(\"rating\", index=\"userId\", columns=\"movieId\")\n",
    "pivot_df.fillna(0, inplace=True)\n",
    "pivot_df.head()"
   ]
  },
  {
   "cell_type": "code",
   "execution_count": 10,
   "id": "ff4fda59",
   "metadata": {},
   "outputs": [],
   "source": [
    "# 3. Setting Value\n",
    "Interaction = pivot_df.to_numpy()\n",
    "\n",
    "num_user, num_item = Interaction.shape\n",
    "latent_factor = 20\n",
    "learning_rate = 0.01\n",
    "reg = 0.01"
   ]
  },
  {
   "cell_type": "code",
   "execution_count": 11,
   "id": "6e7d861d",
   "metadata": {},
   "outputs": [
    {
     "name": "stdout",
     "output_type": "stream",
     "text": [
      "사용자 수 : 671 명, 사용자 잠재 변수 행렬 shape (671, 20)\n",
      "영화 수 : 8399 개, 영화 잠재 변수 행렬 shape (8399, 20)\n"
     ]
    }
   ],
   "source": [
    "# 4. Setting Latent Factor Matrix p_u(사용자), q_i(아이템)\n",
    "p_u = np.random.normal(size=(num_user, latent_factor))\n",
    "q_i = np.random.normal(size=(num_item, latent_factor))\n",
    "\n",
    "print(\"사용자 수 : {} 명, 사용자 잠재 변수 행렬 shape {}\".format(num_user, p_u.shape))\n",
    "print(\"영화 수 : {} 개, 영화 잠재 변수 행렬 shape {}\".format(num_item, q_i.shape))"
   ]
  },
  {
   "cell_type": "markdown",
   "id": "08d4e0f5",
   "metadata": {},
   "source": [
    "#### 사용자, 아이템 별로 랜덤한 잠재 변수 행렬이 각 각의 요소의 크기만큼, latent_factor 사이즈 만큼 만들어진 것을 알 수 있음"
   ]
  },
  {
   "cell_type": "code",
   "execution_count": 12,
   "id": "bb203f0b",
   "metadata": {},
   "outputs": [
    {
     "data": {
      "text/html": [
       "<div>\n",
       "<style scoped>\n",
       "    .dataframe tbody tr th:only-of-type {\n",
       "        vertical-align: middle;\n",
       "    }\n",
       "\n",
       "    .dataframe tbody tr th {\n",
       "        vertical-align: top;\n",
       "    }\n",
       "\n",
       "    .dataframe thead th {\n",
       "        text-align: right;\n",
       "    }\n",
       "</style>\n",
       "<table border=\"1\" class=\"dataframe\">\n",
       "  <thead>\n",
       "    <tr style=\"text-align: right;\">\n",
       "      <th></th>\n",
       "      <th>userId</th>\n",
       "      <th>movieId</th>\n",
       "      <th>rating</th>\n",
       "      <th>confidence</th>\n",
       "    </tr>\n",
       "  </thead>\n",
       "  <tbody>\n",
       "    <tr>\n",
       "      <th>37865</th>\n",
       "      <td>273</td>\n",
       "      <td>5816</td>\n",
       "      <td>4.5</td>\n",
       "      <td>138</td>\n",
       "    </tr>\n",
       "    <tr>\n",
       "      <th>46342</th>\n",
       "      <td>339</td>\n",
       "      <td>2028</td>\n",
       "      <td>4.5</td>\n",
       "      <td>229</td>\n",
       "    </tr>\n",
       "    <tr>\n",
       "      <th>64614</th>\n",
       "      <td>461</td>\n",
       "      <td>3895</td>\n",
       "      <td>0.5</td>\n",
       "      <td>555</td>\n",
       "    </tr>\n",
       "    <tr>\n",
       "      <th>41974</th>\n",
       "      <td>300</td>\n",
       "      <td>3578</td>\n",
       "      <td>4.5</td>\n",
       "      <td>170</td>\n",
       "    </tr>\n",
       "    <tr>\n",
       "      <th>50236</th>\n",
       "      <td>369</td>\n",
       "      <td>292</td>\n",
       "      <td>3.0</td>\n",
       "      <td>139</td>\n",
       "    </tr>\n",
       "  </tbody>\n",
       "</table>\n",
       "</div>"
      ],
      "text/plain": [
       "       userId  movieId  rating  confidence\n",
       "37865     273     5816     4.5         138\n",
       "46342     339     2028     4.5         229\n",
       "64614     461     3895     0.5         555\n",
       "41974     300     3578     4.5         170\n",
       "50236     369      292     3.0         139"
      ]
     },
     "execution_count": 12,
     "metadata": {},
     "output_type": "execute_result"
    }
   ],
   "source": [
    "# 5. Confidence ref.Inputs with varying confidence levels\n",
    "user_confidence = (pivot_df > 0).sum(axis=1)\n",
    "item_confidence = (pivot_df > 0).sum(axis=0)\n",
    "\n",
    "## 사용자의 평점 빈도 수(크기가 될 수 있음) 및 해당 사용자가 평가한 영화의 평점 발생 빈도 수(크기가 될 수 있음)을 더해\n",
    "### 평가에 대한 신뢰도 부여\n",
    "confidences = train_df.apply(lambda x: \n",
    "                   user_confidence.loc[x['userId']] + \n",
    "                   item_confidence.loc[x['movieId']], axis=1)\n",
    "train_df['confidence'] = confidences\n",
    "train_df.head()"
   ]
  },
  {
   "cell_type": "code",
   "execution_count": 13,
   "id": "7a55a5f3",
   "metadata": {},
   "outputs": [
    {
     "data": {
      "text/html": [
       "<div>\n",
       "<style scoped>\n",
       "    .dataframe tbody tr th:only-of-type {\n",
       "        vertical-align: middle;\n",
       "    }\n",
       "\n",
       "    .dataframe tbody tr th {\n",
       "        vertical-align: top;\n",
       "    }\n",
       "\n",
       "    .dataframe thead th {\n",
       "        text-align: right;\n",
       "    }\n",
       "</style>\n",
       "<table border=\"1\" class=\"dataframe\">\n",
       "  <thead>\n",
       "    <tr style=\"text-align: right;\">\n",
       "      <th>movieId</th>\n",
       "      <th>1</th>\n",
       "      <th>2</th>\n",
       "      <th>3</th>\n",
       "      <th>4</th>\n",
       "      <th>5</th>\n",
       "      <th>6</th>\n",
       "      <th>7</th>\n",
       "      <th>8</th>\n",
       "      <th>9</th>\n",
       "      <th>10</th>\n",
       "      <th>...</th>\n",
       "      <th>160656</th>\n",
       "      <th>160718</th>\n",
       "      <th>161084</th>\n",
       "      <th>161155</th>\n",
       "      <th>161594</th>\n",
       "      <th>161830</th>\n",
       "      <th>161918</th>\n",
       "      <th>161944</th>\n",
       "      <th>162542</th>\n",
       "      <th>163949</th>\n",
       "    </tr>\n",
       "    <tr>\n",
       "      <th>userId</th>\n",
       "      <th></th>\n",
       "      <th></th>\n",
       "      <th></th>\n",
       "      <th></th>\n",
       "      <th></th>\n",
       "      <th></th>\n",
       "      <th></th>\n",
       "      <th></th>\n",
       "      <th></th>\n",
       "      <th></th>\n",
       "      <th></th>\n",
       "      <th></th>\n",
       "      <th></th>\n",
       "      <th></th>\n",
       "      <th></th>\n",
       "      <th></th>\n",
       "      <th></th>\n",
       "      <th></th>\n",
       "      <th></th>\n",
       "      <th></th>\n",
       "      <th></th>\n",
       "    </tr>\n",
       "  </thead>\n",
       "  <tbody>\n",
       "    <tr>\n",
       "      <th>1</th>\n",
       "      <td>1.0</td>\n",
       "      <td>1.0</td>\n",
       "      <td>1.0</td>\n",
       "      <td>1.0</td>\n",
       "      <td>1.0</td>\n",
       "      <td>1.0</td>\n",
       "      <td>1.0</td>\n",
       "      <td>1.0</td>\n",
       "      <td>1.0</td>\n",
       "      <td>1.0</td>\n",
       "      <td>...</td>\n",
       "      <td>1.0</td>\n",
       "      <td>1.0</td>\n",
       "      <td>1.0</td>\n",
       "      <td>1.0</td>\n",
       "      <td>1.0</td>\n",
       "      <td>1.0</td>\n",
       "      <td>1.0</td>\n",
       "      <td>1.0</td>\n",
       "      <td>1.0</td>\n",
       "      <td>1.0</td>\n",
       "    </tr>\n",
       "    <tr>\n",
       "      <th>2</th>\n",
       "      <td>1.0</td>\n",
       "      <td>1.0</td>\n",
       "      <td>1.0</td>\n",
       "      <td>1.0</td>\n",
       "      <td>1.0</td>\n",
       "      <td>1.0</td>\n",
       "      <td>1.0</td>\n",
       "      <td>1.0</td>\n",
       "      <td>1.0</td>\n",
       "      <td>163.0</td>\n",
       "      <td>...</td>\n",
       "      <td>1.0</td>\n",
       "      <td>1.0</td>\n",
       "      <td>1.0</td>\n",
       "      <td>1.0</td>\n",
       "      <td>1.0</td>\n",
       "      <td>1.0</td>\n",
       "      <td>1.0</td>\n",
       "      <td>1.0</td>\n",
       "      <td>1.0</td>\n",
       "      <td>1.0</td>\n",
       "    </tr>\n",
       "    <tr>\n",
       "      <th>3</th>\n",
       "      <td>1.0</td>\n",
       "      <td>1.0</td>\n",
       "      <td>1.0</td>\n",
       "      <td>1.0</td>\n",
       "      <td>1.0</td>\n",
       "      <td>1.0</td>\n",
       "      <td>1.0</td>\n",
       "      <td>1.0</td>\n",
       "      <td>1.0</td>\n",
       "      <td>1.0</td>\n",
       "      <td>...</td>\n",
       "      <td>1.0</td>\n",
       "      <td>1.0</td>\n",
       "      <td>1.0</td>\n",
       "      <td>1.0</td>\n",
       "      <td>1.0</td>\n",
       "      <td>1.0</td>\n",
       "      <td>1.0</td>\n",
       "      <td>1.0</td>\n",
       "      <td>1.0</td>\n",
       "      <td>1.0</td>\n",
       "    </tr>\n",
       "    <tr>\n",
       "      <th>4</th>\n",
       "      <td>1.0</td>\n",
       "      <td>1.0</td>\n",
       "      <td>1.0</td>\n",
       "      <td>1.0</td>\n",
       "      <td>1.0</td>\n",
       "      <td>1.0</td>\n",
       "      <td>1.0</td>\n",
       "      <td>1.0</td>\n",
       "      <td>1.0</td>\n",
       "      <td>1.0</td>\n",
       "      <td>...</td>\n",
       "      <td>1.0</td>\n",
       "      <td>1.0</td>\n",
       "      <td>1.0</td>\n",
       "      <td>1.0</td>\n",
       "      <td>1.0</td>\n",
       "      <td>1.0</td>\n",
       "      <td>1.0</td>\n",
       "      <td>1.0</td>\n",
       "      <td>1.0</td>\n",
       "      <td>1.0</td>\n",
       "    </tr>\n",
       "    <tr>\n",
       "      <th>5</th>\n",
       "      <td>1.0</td>\n",
       "      <td>1.0</td>\n",
       "      <td>1.0</td>\n",
       "      <td>1.0</td>\n",
       "      <td>1.0</td>\n",
       "      <td>1.0</td>\n",
       "      <td>1.0</td>\n",
       "      <td>1.0</td>\n",
       "      <td>1.0</td>\n",
       "      <td>1.0</td>\n",
       "      <td>...</td>\n",
       "      <td>1.0</td>\n",
       "      <td>1.0</td>\n",
       "      <td>1.0</td>\n",
       "      <td>1.0</td>\n",
       "      <td>1.0</td>\n",
       "      <td>1.0</td>\n",
       "      <td>1.0</td>\n",
       "      <td>1.0</td>\n",
       "      <td>1.0</td>\n",
       "      <td>1.0</td>\n",
       "    </tr>\n",
       "  </tbody>\n",
       "</table>\n",
       "<p>5 rows × 8399 columns</p>\n",
       "</div>"
      ],
      "text/plain": [
       "movieId  1       2       3       4       5       6       7       8       \\\n",
       "userId                                                                    \n",
       "1           1.0     1.0     1.0     1.0     1.0     1.0     1.0     1.0   \n",
       "2           1.0     1.0     1.0     1.0     1.0     1.0     1.0     1.0   \n",
       "3           1.0     1.0     1.0     1.0     1.0     1.0     1.0     1.0   \n",
       "4           1.0     1.0     1.0     1.0     1.0     1.0     1.0     1.0   \n",
       "5           1.0     1.0     1.0     1.0     1.0     1.0     1.0     1.0   \n",
       "\n",
       "movieId  9       10      ...  160656  160718  161084  161155  161594  161830  \\\n",
       "userId                   ...                                                   \n",
       "1           1.0     1.0  ...     1.0     1.0     1.0     1.0     1.0     1.0   \n",
       "2           1.0   163.0  ...     1.0     1.0     1.0     1.0     1.0     1.0   \n",
       "3           1.0     1.0  ...     1.0     1.0     1.0     1.0     1.0     1.0   \n",
       "4           1.0     1.0  ...     1.0     1.0     1.0     1.0     1.0     1.0   \n",
       "5           1.0     1.0  ...     1.0     1.0     1.0     1.0     1.0     1.0   \n",
       "\n",
       "movieId  161918  161944  162542  163949  \n",
       "userId                                   \n",
       "1           1.0     1.0     1.0     1.0  \n",
       "2           1.0     1.0     1.0     1.0  \n",
       "3           1.0     1.0     1.0     1.0  \n",
       "4           1.0     1.0     1.0     1.0  \n",
       "5           1.0     1.0     1.0     1.0  \n",
       "\n",
       "[5 rows x 8399 columns]"
      ]
     },
     "execution_count": 13,
     "metadata": {},
     "output_type": "execute_result"
    }
   ],
   "source": [
    "# 6. Set confidence pivot\n",
    "confidence_df = train_df.pivot_table(values=\"confidence\", index=\"userId\", columns=\"movieId\")\n",
    "confidence_df.fillna(1, inplace=True)\n",
    "\n",
    "confidence_matrix = confidence_df.to_numpy()\n",
    "\n",
    "confidence_df.head()"
   ]
  },
  {
   "cell_type": "code",
   "execution_count": 14,
   "id": "fe0a493b",
   "metadata": {},
   "outputs": [
    {
     "data": {
      "text/plain": [
       "array([[1.00000000e-04, 1.00000000e-04, 1.00000000e-04, ...,\n",
       "        1.00000000e-04, 1.00000000e-04, 1.00000000e-04],\n",
       "       [1.00000000e-04, 1.00000000e-04, 1.00000000e-04, ...,\n",
       "        1.00000000e-04, 1.00000000e-04, 1.00000000e-04],\n",
       "       [1.00000000e-04, 1.00000000e-04, 1.00000000e-04, ...,\n",
       "        1.00000000e-04, 1.00000000e-04, 1.00000000e-04],\n",
       "       ...,\n",
       "       [1.00000000e-04, 1.00000000e-04, 1.00000000e-04, ...,\n",
       "        1.00000000e-04, 1.00000000e-04, 1.00000000e-04],\n",
       "       [1.00000000e-04, 1.00000000e-04, 1.00000000e-04, ...,\n",
       "        1.00000000e-04, 1.00000000e-04, 1.00000000e-04],\n",
       "       [1.38975768e-01, 1.00000000e-04, 1.00000000e-04, ...,\n",
       "        1.00000000e-04, 1.00000000e-04, 1.00000000e-04]])"
      ]
     },
     "execution_count": 14,
     "metadata": {},
     "output_type": "execute_result"
    }
   ],
   "source": [
    "# 7. scaling confidence matrix\n",
    "from sklearn.preprocessing import MinMaxScaler\n",
    "\n",
    "scaler = MinMaxScaler()\n",
    "scaled_confidence = scaler.fit_transform(confidence_matrix)\n",
    "scaled_confidence += 0.0001\n",
    "scaled_confidence"
   ]
  },
  {
   "cell_type": "code",
   "execution_count": 15,
   "id": "1e48b57b",
   "metadata": {},
   "outputs": [],
   "source": [
    "# 8. bias setting\n",
    "b_u = np.zeros(num_user)\n",
    "b_i = np.zeros(num_item)\n",
    "b = np.mean(Interaction[Interaction != 0])"
   ]
  },
  {
   "cell_type": "code",
   "execution_count": 16,
   "id": "ca70a996",
   "metadata": {},
   "outputs": [],
   "source": [
    "# 9. test data setting\n",
    "test_Interaction = test_df.pivot_table(\"rating\", index=\"userId\", columns=\"movieId\")\n",
    "test_Interaction.fillna(0, inplace=True)\n",
    "test_Interaction = test_Interaction.to_numpy()"
   ]
  },
  {
   "cell_type": "code",
   "execution_count": 17,
   "id": "6d397345",
   "metadata": {},
   "outputs": [],
   "source": [
    "# 10. func get each prediction\n",
    "def get_each_prediction(i_u, i_i):\n",
    "    return b + b_u[i_u] + b_i[i_i] + np.dot(p_u[i_u, :], q_i[i_i, :].T)"
   ]
  },
  {
   "cell_type": "code",
   "execution_count": 18,
   "id": "f334ba21",
   "metadata": {},
   "outputs": [],
   "source": [
    "# 11. func get whole prediction\n",
    "def get_whole_prediction():\n",
    "    return b + b_u[:, np.newaxis] + b_i[np.newaxis:,] + np.dot(p_u, q_i.T)"
   ]
  },
  {
   "cell_type": "code",
   "execution_count": 19,
   "id": "f7d9aa13",
   "metadata": {},
   "outputs": [],
   "source": [
    "# 12. func gradient_descent\n",
    "def gradient_descent(i_u, i_i, rating):\n",
    "    prediction = get_each_prediction(i_u, i_i)\n",
    "    \n",
    "    dbu = -2 * scaled_confidence[i_u][i_i] * (rating - b_u[i_u] - b_i[i_i] - b - prediction) + 2 * reg * b_u[i_u]\n",
    "    dbi = -2 * scaled_confidence[i_u][i_i] * (rating - b_u[i_u] - b_i[i_i] - b - prediction) + 2 * reg * b_i[i_i]\n",
    "    \n",
    "    b_u[i_u] -= learning_rate * dbu\n",
    "    b_i[i_i] -= learning_rate * dbi\n",
    "    \n",
    "    dp = -2 * scaled_confidence[i_u][i_i] * \\\n",
    "             (rating - b_u[i_u] - b_i[i_i] - b - prediction) * q_i[i_i,:] + 2 * (reg * p_u[i_u, :])\n",
    "    dq = -2 * scaled_confidence[i_u][i_i] * \\\n",
    "             (rating - b_u[i_u] - b_i[i_i] - b - prediction) * p_u[i_u,:] + 2 * (reg * q_i[i_i, :])\n",
    "    \n",
    "    p_u[i_u, :] -= learning_rate * dp\n",
    "    q_i[i_i, :] -= learning_rate * dq"
   ]
  },
  {
   "cell_type": "code",
   "execution_count": 20,
   "id": "31a5b4ab",
   "metadata": {},
   "outputs": [],
   "source": [
    "# 13. loss function\n",
    "def test_loss():\n",
    "    xi, yi = test_Interaction.nonzero()\n",
    "    predicted = get_whole_prediction()\n",
    "    test_loss = 0\n",
    "    for x, y in zip(xi, yi):\n",
    "        test_loss += np.power(test_Interaction[x, y] - predicted[x, y], 2)\n",
    "    return np.sqrt(test_loss) / len(xi)\n",
    "\n",
    "def loss():\n",
    "    xi, yi = Interaction.nonzero()\n",
    "    predicted = get_whole_prediction()\n",
    "    test_loss = 0\n",
    "    for x, y in zip(xi, yi):\n",
    "        test_loss += np.power(Interaction[x, y] - predicted[x, y], 2)\n",
    "    return np.sqrt(test_loss) / len(xi)"
   ]
  },
  {
   "cell_type": "code",
   "execution_count": 59,
   "id": "30667e06",
   "metadata": {},
   "outputs": [
    {
     "name": "stdout",
     "output_type": "stream",
     "text": [
      "Epoch: 1 ; loss = 0.009908451255751568 ; test_loss = 0.02168357467899588\n",
      "Epoch: 2 ; loss = 0.008970307881201829 ; test_loss = 0.020068995351330998\n",
      "Epoch: 3 ; loss = 0.008497712564426097 ; test_loss = 0.019237058673292427\n",
      "Epoch: 4 ; loss = 0.008205000604334852 ; test_loss = 0.018711594173581106\n",
      "Epoch: 5 ; loss = 0.008004118601132386 ; test_loss = 0.01834463046605824\n",
      "Epoch: 6 ; loss = 0.007857165956815957 ; test_loss = 0.01807168065944874\n",
      "Epoch: 7 ; loss = 0.00774482225098884 ; test_loss = 0.017859521261675188\n",
      "Epoch: 8 ; loss = 0.007656094385825095 ; test_loss = 0.017689102964764315\n",
      "Epoch: 9 ; loss = 0.007584227735799867 ; test_loss = 0.01754865306091713\n",
      "Epoch: 10 ; loss = 0.0075248281993064055 ; test_loss = 0.01743047799173809\n",
      "Epoch: 11 ; loss = 0.007474908398566876 ; test_loss = 0.017329327420218348\n",
      "Epoch: 12 ; loss = 0.007432364570437041 ; test_loss = 0.017241491974333233\n",
      "Epoch: 13 ; loss = 0.007395671842791646 ; test_loss = 0.017164275335691426\n",
      "Epoch: 14 ; loss = 0.007363697896438717 ; test_loss = 0.01709567024149348\n",
      "Epoch: 15 ; loss = 0.007335584384102268 ; test_loss = 0.01703415164393913\n",
      "Epoch: 16 ; loss = 0.007310668910022876 ; test_loss = 0.01697854022884267\n",
      "Epoch: 17 ; loss = 0.0072884322219920845 ; test_loss = 0.016927909795194138\n",
      "Epoch: 18 ; loss = 0.007268461585737181 ; test_loss = 0.01688152286155657\n",
      "Epoch: 19 ; loss = 0.007250424836437255 ; test_loss = 0.01683878494364184\n",
      "Epoch: 20 ; loss = 0.007234051646475795 ; test_loss = 0.016799211481265848\n",
      "Epoch: 21 ; loss = 0.0072191197747138725 ; test_loss = 0.016762403517166315\n",
      "Epoch: 22 ; loss = 0.007205444819938324 ; test_loss = 0.0167280295450846\n",
      "Epoch: 23 ; loss = 0.007192872481204184 ; test_loss = 0.01669581177977507\n",
      "Epoch: 24 ; loss = 0.007181272639141633 ; test_loss = 0.016665515644509007\n",
      "Epoch: 25 ; loss = 0.007170534778419085 ; test_loss = 0.016636941631845207\n",
      "Epoch: 26 ; loss = 0.007160564410561232 ; test_loss = 0.016609918936881896\n",
      "Epoch: 27 ; loss = 0.007151280251645373 ; test_loss = 0.016584300429506326\n",
      "Epoch: 28 ; loss = 0.00714261197577924 ; test_loss = 0.01655995864889021\n",
      "Epoch: 29 ; loss = 0.007134498412140982 ; test_loss = 0.01653678258607201\n",
      "Epoch: 30 ; loss = 0.007126886086891685 ; test_loss = 0.016514675079642667\n"
     ]
    }
   ],
   "source": [
    "# 14. fitting\n",
    "epoch = 30\n",
    "for _epoch in range(epoch):\n",
    "    for i_u in range(num_user):\n",
    "        for i_i in range(num_item):\n",
    "            if Interaction[i_u, i_i] > 0:\n",
    "                gradient_descent(i_u, i_i, Interaction[i_u, i_i])\n",
    "    _loss = loss()\n",
    "    _test_loss = test_loss()\n",
    "    \n",
    "    print(\"Epoch: {} ; loss = {} ; test_loss = {}\".format(_epoch + 1, _loss, _test_loss))"
   ]
  },
  {
   "cell_type": "markdown",
   "id": "c6fed103",
   "metadata": {},
   "source": [
    "## 2. Use"
   ]
  },
  {
   "cell_type": "code",
   "execution_count": 24,
   "id": "ea88d178",
   "metadata": {},
   "outputs": [
    {
     "name": "stderr",
     "output_type": "stream",
     "text": [
      "2023-01-13 16:32:32.345406: I tensorflow/core/platform/cpu_feature_guard.cc:193] This TensorFlow binary is optimized with oneAPI Deep Neural Network Library (oneDNN) to use the following CPU instructions in performance-critical operations:  AVX2 AVX512F AVX512_VNNI FMA\n",
      "To enable them in other operations, rebuild TensorFlow with the appropriate compiler flags.\n"
     ]
    }
   ],
   "source": [
    "# 1. model setting\n",
    "from model import MatrixFactorization\n",
    "\n",
    "train_df, test_df = train_test_split(datas, test_size=0.2, random_state=42)\n",
    "model = MatrixFactorization(train_df, test_df)"
   ]
  },
  {
   "cell_type": "code",
   "execution_count": 25,
   "id": "7e9e0aaa",
   "metadata": {},
   "outputs": [
    {
     "name": "stdout",
     "output_type": "stream",
     "text": [
      "Epoch: 1 ; loss = 0.009870893129677302 ; test_loss = 0.021299744548518986\n",
      "Epoch: 2 ; loss = 0.008931508237147704 ; test_loss = 0.019752931203639714\n",
      "Epoch: 3 ; loss = 0.008464394886727556 ; test_loss = 0.01896682564038062\n",
      "Epoch: 4 ; loss = 0.008177012976222793 ; test_loss = 0.018473393877917257\n",
      "Epoch: 5 ; loss = 0.007980582138283975 ; test_loss = 0.01812960000458685\n",
      "Epoch: 6 ; loss = 0.007837307265356605 ; test_loss = 0.017873943091864783\n",
      "Epoch: 7 ; loss = 0.00772804333409411 ; test_loss = 0.017675013481966744\n",
      "Epoch: 8 ; loss = 0.00764193043085112 ; test_loss = 0.017514898014536942\n",
      "Epoch: 9 ; loss = 0.007572314871694451 ; test_loss = 0.017382585731871684\n",
      "Epoch: 10 ; loss = 0.007514877580109993 ; test_loss = 0.01727091404220473\n",
      "Epoch: 11 ; loss = 0.007466687644432732 ; test_loss = 0.017175014833322517\n",
      "Epoch: 12 ; loss = 0.007425683865855257 ; test_loss = 0.017091459430971366\n",
      "Epoch: 13 ; loss = 0.0073903736575937256 ; test_loss = 0.017017760777595432\n",
      "Epoch: 14 ; loss = 0.007359649382188505 ; test_loss = 0.01695206940760709\n",
      "Epoch: 15 ; loss = 0.00733267178195254 ; test_loss = 0.01689298043947962\n",
      "Epoch: 16 ; loss = 0.007308793444394835 ; test_loss = 0.01683940689699681\n",
      "Epoch: 17 ; loss = 0.007287507081912427 ; test_loss = 0.016790494154835883\n",
      "Epoch: 18 ; loss = 0.00726840969452615 ; test_loss = 0.016745560695872352\n",
      "Epoch: 19 ; loss = 0.007251177189386654 ; test_loss = 0.016704056176220627\n",
      "Epoch: 20 ; loss = 0.00723554605648519 ; test_loss = 0.016665531156906995\n"
     ]
    }
   ],
   "source": [
    "# 2. Train\n",
    "model.fit(20)"
   ]
  },
  {
   "cell_type": "code",
   "execution_count": 26,
   "id": "5f998edd",
   "metadata": {},
   "outputs": [
    {
     "name": "stdout",
     "output_type": "stream",
     "text": [
      "    epoch  train_loss  test_loss\n",
      "0       0    0.009871   0.021300\n",
      "1       1    0.008932   0.019753\n",
      "2       2    0.008464   0.018967\n",
      "3       3    0.008177   0.018473\n",
      "4       4    0.007981   0.018130\n",
      "5       5    0.007837   0.017874\n",
      "6       6    0.007728   0.017675\n",
      "7       7    0.007642   0.017515\n",
      "8       8    0.007572   0.017383\n",
      "9       9    0.007515   0.017271\n",
      "10     10    0.007467   0.017175\n",
      "11     11    0.007426   0.017091\n",
      "12     12    0.007390   0.017018\n",
      "13     13    0.007360   0.016952\n",
      "14     14    0.007333   0.016893\n",
      "15     15    0.007309   0.016839\n",
      "16     16    0.007288   0.016790\n",
      "17     17    0.007268   0.016746\n",
      "18     18    0.007251   0.016704\n",
      "19     19    0.007236   0.016666\n"
     ]
    },
    {
     "data": {
      "image/png": "[encoded data removed]",
      "text/plain": [
       "<Figure size 640x480 with 1 Axes>"
      ]
     },
     "metadata": {},
     "output_type": "display_data"
    }
   ],
   "source": [
    "# Result\n",
    "history = model.history\n",
    "\n",
    "df = pd.DataFrame(history)\n",
    "df.columns= [\"epoch\",\"train_loss\",\"test_loss\"]\n",
    "print(df)\n",
    "df.loc[:][[\"train_loss\",\"test_loss\"]].plot()\n",
    "plt.xlabel(\"epoch\")\n",
    "plt.ylabel(\"RMSE\")\n",
    "plt.legend()\n",
    "plt.show()"
   ]
  },
  {
   "cell_type": "code",
   "execution_count": 44,
   "id": "aeeea82f",
   "metadata": {},
   "outputs": [
    {
     "name": "stdout",
     "output_type": "stream",
     "text": [
      "(671, 671)\n"
     ]
    },
    {
     "data": {
      "image/png": "[encoded data removed]",
      "text/plain": [
       "<Figure size 800x500 with 2 Axes>"
      ]
     },
     "metadata": {},
     "output_type": "display_data"
    }
   ],
   "source": [
    "# Reco Process\n",
    "corr = np.corrcoef(matrix)\n",
    "print(corr.shape)\n",
    "\n",
    "corr2 = corr[:200, :200]\n",
    "\n",
    "plt.figure(figsize=(8,5))\n",
    "sns.heatmap(corr2)\n",
    "\n",
    "plt.show()"
   ]
  },
  {
   "cell_type": "code",
   "execution_count": 95,
   "id": "ec945ed0",
   "metadata": {},
   "outputs": [],
   "source": [
    "target_user_id = 3\n",
    "target_user_idx = target_user_id - 1\n",
    "\n",
    "sorted_idx = corr[target_user_idx].argsort()[::-1]\n",
    "\n",
    "best_user_id = sorted_idx[1] + 1\n",
    "worst_user_id = sorted_idx[-1] + 1"
   ]
  },
  {
   "cell_type": "code",
   "execution_count": 96,
   "id": "ec087030",
   "metadata": {},
   "outputs": [
    {
     "data": {
      "text/html": [
       "<div>\n",
       "<style scoped>\n",
       "    .dataframe tbody tr th:only-of-type {\n",
       "        vertical-align: middle;\n",
       "    }\n",
       "\n",
       "    .dataframe tbody tr th {\n",
       "        vertical-align: top;\n",
       "    }\n",
       "\n",
       "    .dataframe thead th {\n",
       "        text-align: right;\n",
       "    }\n",
       "</style>\n",
       "<table border=\"1\" class=\"dataframe\">\n",
       "  <thead>\n",
       "    <tr style=\"text-align: right;\">\n",
       "      <th></th>\n",
       "      <th>title</th>\n",
       "      <th>genres</th>\n",
       "    </tr>\n",
       "    <tr>\n",
       "      <th>movieId</th>\n",
       "      <th></th>\n",
       "      <th></th>\n",
       "    </tr>\n",
       "  </thead>\n",
       "  <tbody>\n",
       "    <tr>\n",
       "      <th>1</th>\n",
       "      <td>Toy Story (1995)</td>\n",
       "      <td>Adventure|Animation|Children|Comedy|Fantasy</td>\n",
       "    </tr>\n",
       "    <tr>\n",
       "      <th>2</th>\n",
       "      <td>Jumanji (1995)</td>\n",
       "      <td>Adventure|Children|Fantasy</td>\n",
       "    </tr>\n",
       "    <tr>\n",
       "      <th>3</th>\n",
       "      <td>Grumpier Old Men (1995)</td>\n",
       "      <td>Comedy|Romance</td>\n",
       "    </tr>\n",
       "    <tr>\n",
       "      <th>4</th>\n",
       "      <td>Waiting to Exhale (1995)</td>\n",
       "      <td>Comedy|Drama|Romance</td>\n",
       "    </tr>\n",
       "    <tr>\n",
       "      <th>5</th>\n",
       "      <td>Father of the Bride Part II (1995)</td>\n",
       "      <td>Comedy</td>\n",
       "    </tr>\n",
       "  </tbody>\n",
       "</table>\n",
       "</div>"
      ],
      "text/plain": [
       "                                      title  \\\n",
       "movieId                                       \n",
       "1                          Toy Story (1995)   \n",
       "2                            Jumanji (1995)   \n",
       "3                   Grumpier Old Men (1995)   \n",
       "4                  Waiting to Exhale (1995)   \n",
       "5        Father of the Bride Part II (1995)   \n",
       "\n",
       "                                              genres  \n",
       "movieId                                               \n",
       "1        Adventure|Animation|Children|Comedy|Fantasy  \n",
       "2                         Adventure|Children|Fantasy  \n",
       "3                                     Comedy|Romance  \n",
       "4                               Comedy|Drama|Romance  \n",
       "5                                             Comedy  "
      ]
     },
     "execution_count": 96,
     "metadata": {},
     "output_type": "execute_result"
    }
   ],
   "source": [
    "movies_df = pd.read_csv(\"datas/movielens_small/movies.csv\")\n",
    "movies_df.set_index(\"movieId\", inplace=True)\n",
    "\n",
    "movies_df.head()"
   ]
  },
  {
   "cell_type": "code",
   "execution_count": 97,
   "id": "5bcbbedb",
   "metadata": {},
   "outputs": [],
   "source": [
    "target_movie_ids = datas[datas['userId'] == target_user_id].sort_values(\"rating\", ascending=False)['movieId'].values\n",
    "best_movie_ids = datas[datas['userId'] == best_user_id].sort_values(\"rating\", ascending=False)['movieId'].values\n",
    "worst_movie_ids = datas[datas['userId'] == worst_user_id].sort_values(\"rating\", ascending=False)['movieId'].values\n",
    "\n",
    "target_movies = movies_df.loc[target_movie_ids]['title'].values\n",
    "best_movies = movies_df.loc[best_movie_ids]['title'].values\n",
    "worst_movies = movies_df.loc[worst_movie_ids]['title'].values"
   ]
  },
  {
   "cell_type": "code",
   "execution_count": 98,
   "id": "cd80b971",
   "metadata": {},
   "outputs": [
    {
     "data": {
      "text/plain": [
       "array(['Fight Club (1999)', 'Shawshank Redemption, The (1994)',\n",
       "       'Forrest Gump (1994)', 'Requiem for a Dream (2000)',\n",
       "       'Princess Bride, The (1987)', 'Pulp Fiction (1994)',\n",
       "       'Flags of Our Fathers (2006)', 'Letters from Iwo Jima (2006)',\n",
       "       'Titanic (1997)', 'Frequency (2000)', 'Harold and Maude (1971)',\n",
       "       'American Beauty (1999)', 'Stir of Echoes (1999)',\n",
       "       'Happiness (1998)', 'Braveheart (1995)',\n",
       "       'Fear and Loathing in Las Vegas (1998)', 'Young Guns (1988)',\n",
       "       'Saving Private Ryan (1998)',\n",
       "       'White Stripes Under Great White Northern Lights, The (2009)',\n",
       "       'Trainspotting (1996)', 'V for Vendetta (2006)',\n",
       "       'Daria: Is It Fall Yet? (2000)', 'Fahrenheit 9/11 (2004)',\n",
       "       'Sixth Sense, The (1999)', 'Summer of Sam (1999)',\n",
       "       'Bowling for Columbine (2002)', 'Heavenly Creatures (1994)',\n",
       "       'Twister (1996)', 'Men in Black (a.k.a. MIB) (1997)',\n",
       "       'Major Payne (1995)', 'Spider-Man (2002)', 'Spider-Man 2 (2004)',\n",
       "       'Dark Knight, The (2008)',\n",
       "       'Eternal Sunshine of the Spotless Mind (2004)',\n",
       "       'Finding Nemo (2003)',\n",
       "       'Star Wars: Episode VI - Return of the Jedi (1983)',\n",
       "       'Encino Man (1992)', 'Fried Green Tomatoes (1991)',\n",
       "       \"Schindler's List (1993)\", 'Aladdin (1992)', 'Batman (1989)',\n",
       "       'Ghostbusters (a.k.a. Ghost Busters) (1984)', 'Big Daddy (1999)',\n",
       "       'Pet Sematary (1989)', 'Silence of the Lambs, The (1991)',\n",
       "       'Bound (1996)', 'Indian in the Cupboard, The (1995)',\n",
       "       'Flintstones, The (1994)', 'Speed (1994)',\n",
       "       'Lord of the Rings: The Return of the King, The (2003)',\n",
       "       'Beauty and the Beast (1991)'], dtype=object)"
      ]
     },
     "execution_count": 98,
     "metadata": {},
     "output_type": "execute_result"
    }
   ],
   "source": [
    "target_movies"
   ]
  },
  {
   "cell_type": "code",
   "execution_count": 99,
   "id": "bc044258",
   "metadata": {},
   "outputs": [
    {
     "data": {
      "text/plain": [
       "array([False, False,  True, False, False, False, False, False, False,\n",
       "        True,  True, False, False, False, False, False,  True, False,\n",
       "       False, False,  True, False, False, False, False, False, False,\n",
       "       False, False, False, False, False, False, False, False, False,\n",
       "       False, False, False,  True, False, False, False, False, False,\n",
       "       False,  True, False, False, False, False, False, False])"
      ]
     },
     "execution_count": 99,
     "metadata": {},
     "output_type": "execute_result"
    }
   ],
   "source": [
    "np.isin(best_movies,target_movies)"
   ]
  },
  {
   "cell_type": "code",
   "execution_count": 100,
   "id": "97ca98b3",
   "metadata": {},
   "outputs": [
    {
     "data": {
      "text/plain": [
       "array([ True,  True, False, False, False, False, False, False, False,\n",
       "        True, False,  True, False, False, False, False, False, False,\n",
       "       False, False, False, False, False, False, False, False, False,\n",
       "       False, False, False, False, False, False, False, False, False,\n",
       "       False,  True, False, False, False, False, False, False,  True,\n",
       "       False, False, False, False,  True, False])"
      ]
     },
     "execution_count": 100,
     "metadata": {},
     "output_type": "execute_result"
    }
   ],
   "source": [
    "np.isin(target_movies,best_movies)"
   ]
  },
  {
   "cell_type": "code",
   "execution_count": 101,
   "id": "452ced5c",
   "metadata": {},
   "outputs": [
    {
     "data": {
      "text/plain": [
       "array([False,  True,  True, False, False, False, False, False, False,\n",
       "       False, False, False, False, False, False, False, False,  True,\n",
       "       False, False, False, False, False, False, False, False, False,\n",
       "       False, False, False, False, False, False, False, False,  True,\n",
       "       False, False, False, False, False, False, False, False, False,\n",
       "       False, False, False, False, False, False])"
      ]
     },
     "execution_count": 101,
     "metadata": {},
     "output_type": "execute_result"
    }
   ],
   "source": [
    "np.isin(target_movies,worst_movies)"
   ]
  },
  {
   "cell_type": "code",
   "execution_count": 102,
   "id": "59d01f7e",
   "metadata": {},
   "outputs": [
    {
     "data": {
      "text/plain": [
       "array([ True, False,  True, False, False, False, False, False, False,\n",
       "       False, False, False, False, False, False, False, False, False,\n",
       "        True, False, False,  True, False, False, False, False, False,\n",
       "       False, False, False, False])"
      ]
     },
     "execution_count": 102,
     "metadata": {},
     "output_type": "execute_result"
    }
   ],
   "source": [
    "np.isin(worst_movies,target_movies)"
   ]
  }
 ],
 "metadata": {
  "kernelspec": {
   "display_name": "Python 3 (ipykernel)",
   "language": "python",
   "name": "python3"
  },
  "language_info": {
   "codemirror_mode": {
    "name": "ipython",
    "version": 3
   },
   "file_extension": ".py",
   "mimetype": "text/x-python",
   "name": "python",
   "nbconvert_exporter": "python",
   "pygments_lexer": "ipython3",
   "version": "3.8.12"
  }
 },
 "nbformat": 4,
 "nbformat_minor": 5
}

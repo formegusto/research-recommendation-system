{
 "cells": [
  {
   "cell_type": "code",
   "execution_count": 1,
   "id": "2d7c56fc",
   "metadata": {},
   "outputs": [],
   "source": [
    "%load_ext autoreload\n",
    "%autoreload 2\n",
    "%reload_ext autoreload"
   ]
  },
  {
   "cell_type": "code",
   "execution_count": 2,
   "id": "ae0e90ba",
   "metadata": {},
   "outputs": [],
   "source": [
    "from datetime import datetime as dt\n",
    "\n",
    "import tensorflow as tf\n",
    "from tensorflow import keras\n",
    "\n",
    "from module import DataLoader\n",
    "import matplotlib.pyplot as plt\n",
    "import pandas as pd"
   ]
  },
  {
   "cell_type": "markdown",
   "id": "63628715",
   "metadata": {},
   "source": [
    "# 1. Data\n",
    "- 해당의 데이터는 movielens 데이터이며, train_test_split 으로 나누어져 훈련용, 시험용 데이터로 나누어진다.\n",
    "- generate_trainset, generate_testset 으로 인해 반환되는 값은 numpy array의 형식으로 X, y 로 반환된다."
   ]
  },
  {
   "cell_type": "code",
   "execution_count": 3,
   "id": "384364c8",
   "metadata": {},
   "outputs": [
    {
     "name": "stdout",
     "output_type": "stream",
     "text": [
      "훈련 데이터 shape : (80003, 2), 훈련 라벨 갯수 : 80003\n",
      "테스트 데이터 shape : (19259, 2), 테스트 라벨 갯수 : 19259\n"
     ]
    }
   ],
   "source": [
    "loader = DataLoader()\n",
    "\n",
    "X_train, y_train = loader.generate_trainset()\n",
    "X_test, y_test = loader.generate_testset()\n",
    "\n",
    "print(\"훈련 데이터 shape : {}, 훈련 라벨 갯수 : {}\".format(X_train.shape, y_train.size))\n",
    "print(\"테스트 데이터 shape : {}, 테스트 라벨 갯수 : {}\".format(X_test.shape, y_test.size))"
   ]
  },
  {
   "cell_type": "markdown",
   "id": "8363923a",
   "metadata": {},
   "source": [
    "# 2. Multi-Layer Perceptron (MLP)"
   ]
  },
  {
   "cell_type": "markdown",
   "id": "92e2c339",
   "metadata": {},
   "source": [
    "## 1. Generate MLP Model Process"
   ]
  },
  {
   "cell_type": "code",
   "execution_count": 9,
   "id": "700213b5",
   "metadata": {},
   "outputs": [],
   "source": [
    "# 1. Setting Value \n",
    "num_users = loader.num_users\n",
    "num_items = loader.num_items\n",
    "layers = list(map(int, [64,32,16,8]))\n",
    "num_layers = len(layers)\n",
    "regs = 0"
   ]
  },
  {
   "cell_type": "code",
   "execution_count": 8,
   "id": "64dcd75d",
   "metadata": {},
   "outputs": [],
   "source": [
    "# 2. 입력 층 생성\n",
    "user_input = keras.Input(shape=(1,), dtype='int32')\n",
    "item_input = keras.Input(shape=(1,), dtype='int32')"
   ]
  },
  {
   "cell_type": "code",
   "execution_count": 10,
   "id": "eb5fdbfc",
   "metadata": {},
   "outputs": [],
   "source": [
    "# 3. embedding 층 생성\n",
    "user_embedding = keras.layers.Embedding(\n",
    "                    num_users,\n",
    "                    int(layers[0] / 2),\n",
    "                    embeddings_regularizer=keras.regularizers.l2(regs),\n",
    "                    name='user_emebedding')\n",
    "item_embedding = keras.layers.Embedding(\n",
    "                    num_items,\n",
    "                    int(layers[0] / 2),\n",
    "                    embeddings_regularizer=keras.regularizers.l2(regs),\n",
    "                    name='item_emebedding')"
   ]
  },
  {
   "cell_type": "markdown",
   "id": "6c7ebb7b",
   "metadata": {},
   "source": [
    "### 1. 중간점검\n",
    "- GMF는 행렬 분해의 사용자와 아이템 간의 선형적 관계를 나타내주는 모델이다. 이에 반해 MLP는 딥러닝의 구조에 더욱 가깝게 만들어 사용자와 아이템 간의 비선형적 관계를 정의해주는 모델로 나타난다.\n",
    "- embedding 층에서의 차이로 시작된다. GMF 에서는 output data의 크기를 latent_features로 잡아주었지만, MLP에서는 layer의 수에 따라 설정한다. 그리고 이는 선택한 layer의 /2 로 연산하여 진행된다."
   ]
  },
  {
   "cell_type": "code",
   "execution_count": 12,
   "id": "9289dd5e",
   "metadata": {},
   "outputs": [
    {
     "name": "stdout",
     "output_type": "stream",
     "text": [
      "---- 사용자 ----\n",
      "입력 값: 0\n",
      "임베딩 층 출력 값: [[ 0.02145102  0.00771738  0.04148554  0.02837544  0.0038025   0.04565295\n",
      "   0.0022187   0.0182195  -0.038604    0.02393243 -0.04549157 -0.0167102\n",
      "   0.04742993 -0.03922838  0.01749488 -0.01192331 -0.03574052 -0.00861154\n",
      "   0.01380399 -0.04590664  0.03940747  0.04992205  0.00161704  0.01464088\n",
      "   0.01369803  0.02580658  0.02148838 -0.02892662 -0.02373182 -0.03000467\n",
      "  -0.01070108 -0.00441805]]\n",
      "훈련 데이터 shape: (80003, 1, 32)\n",
      "\n",
      "---- 아이템 ----\n",
      "입력 값: 0\n",
      "임베딩 층 출력 값: [[ 0.04601807 -0.0161028   0.01793485  0.01815857 -0.04807954  0.00668582\n",
      "  -0.03089207 -0.00896778  0.02385772  0.03594344  0.0294818  -0.04321555\n",
      "   0.0080189   0.03203883 -0.02785861  0.02063647  0.03338015  0.04702636\n",
      "   0.03556764 -0.03444388 -0.03620957 -0.02443733  0.0255453  -0.02926643\n",
      "  -0.04778406  0.04643757 -0.00471929  0.00891502  0.0335073   0.03496692\n",
      "   0.01547328  0.01658198]]\n",
      "훈련 데이터 shape: (80003, 1, 32)\n"
     ]
    }
   ],
   "source": [
    "user_model = keras.Sequential()\n",
    "item_model = keras.Sequential()\n",
    "\n",
    "user_model.add(user_input)\n",
    "user_model.add(user_embedding)\n",
    "\n",
    "item_model.add(item_input)\n",
    "item_model.add(item_embedding)\n",
    "\n",
    "user_output = user_model(X_train[:, 0])\n",
    "item_output = item_model(X_train[:, 1])\n",
    "\n",
    "print(\"---- 사용자 ----\")\n",
    "print(\"입력 값: {}\".format(X_train[0, 0]))\n",
    "print(\"임베딩 층 출력 값: {}\".format(user_output[0].numpy()))\n",
    "print(\"훈련 데이터 shape: {}\\n\".format(user_output.shape))\n",
    "\n",
    "print(\"---- 아이템 ----\")\n",
    "print(\"입력 값: {}\".format(X_train[0, 1]))\n",
    "print(\"임베딩 층 출력 값: {}\".format(item_output[0].numpy()))\n",
    "print(\"훈련 데이터 shape: {}\".format(item_output.shape))"
   ]
  },
  {
   "cell_type": "code",
   "execution_count": 13,
   "id": "b2b3f8a2",
   "metadata": {},
   "outputs": [
    {
     "name": "stdout",
     "output_type": "stream",
     "text": [
      "---- 사용자 ----\n",
      "입력 값: 0\n",
      "임베딩 층 출력 값: [ 0.02145102  0.00771738  0.04148554  0.02837544  0.0038025   0.04565295\n",
      "  0.0022187   0.0182195  -0.038604    0.02393243 -0.04549157 -0.0167102\n",
      "  0.04742993 -0.03922838  0.01749488 -0.01192331 -0.03574052 -0.00861154\n",
      "  0.01380399 -0.04590664  0.03940747  0.04992205  0.00161704  0.01464088\n",
      "  0.01369803  0.02580658  0.02148838 -0.02892662 -0.02373182 -0.03000467\n",
      " -0.01070108 -0.00441805]\n",
      "훈련 데이터 shape: (80003, 32)\n",
      "\n",
      "---- 아이템 ----\n",
      "입력 값: 0\n",
      "임베딩 층 출력 값: [ 0.04601807 -0.0161028   0.01793485  0.01815857 -0.04807954  0.00668582\n",
      " -0.03089207 -0.00896778  0.02385772  0.03594344  0.0294818  -0.04321555\n",
      "  0.0080189   0.03203883 -0.02785861  0.02063647  0.03338015  0.04702636\n",
      "  0.03556764 -0.03444388 -0.03620957 -0.02443733  0.0255453  -0.02926643\n",
      " -0.04778406  0.04643757 -0.00471929  0.00891502  0.0335073   0.03496692\n",
      "  0.01547328  0.01658198]\n",
      "훈련 데이터 shape: (80003, 32)\n"
     ]
    }
   ],
   "source": [
    "# 4. Flatten 층\n",
    "user_latent = keras.layers.Flatten()\n",
    "item_latent = keras.layers.Flatten()\n",
    "\n",
    "user_model.add(user_latent)\n",
    "item_model.add(item_latent)\n",
    "\n",
    "user_output = user_model(X_train[:, 0])\n",
    "item_output = item_model(X_train[:, 1])\n",
    "\n",
    "print(\"---- 사용자 ----\")\n",
    "print(\"입력 값: {}\".format(X_train[0, 0]))\n",
    "print(\"임베딩 층 출력 값: {}\".format(user_output[0].numpy()))\n",
    "print(\"훈련 데이터 shape: {}\\n\".format(user_output.shape))\n",
    "\n",
    "print(\"---- 아이템 ----\")\n",
    "print(\"입력 값: {}\".format(X_train[0, 1]))\n",
    "print(\"임베딩 층 출력 값: {}\".format(item_output[0].numpy()))\n",
    "print(\"훈련 데이터 shape: {}\".format(item_output.shape))"
   ]
  },
  {
   "cell_type": "markdown",
   "id": "dafbbae7",
   "metadata": {},
   "source": [
    "#### GMF에서는 사용자와 아이템의 임베딩 층 출력 값을 곱해주는 Multiply 층을 거쳤지만, MLP에서는 두 벡터를 합쳐주는 concatenates 층을 활용하여 두 벡터의 특징을 합함"
   ]
  },
  {
   "cell_type": "code",
   "execution_count": 18,
   "id": "4fe32509",
   "metadata": {},
   "outputs": [
    {
     "name": "stdout",
     "output_type": "stream",
     "text": [
      "---- 사용자 X 아이템 ----\n",
      "입력 값: 0\n",
      "concatenate 층 출력 값: [ 0.02145102  0.00771738  0.04148554  0.02837544  0.0038025   0.04565295\n",
      "  0.0022187   0.0182195  -0.038604    0.02393243 -0.04549157 -0.0167102\n",
      "  0.04742993 -0.03922838  0.01749488 -0.01192331 -0.03574052 -0.00861154\n",
      "  0.01380399 -0.04590664  0.03940747  0.04992205  0.00161704  0.01464088\n",
      "  0.01369803  0.02580658  0.02148838 -0.02892662 -0.02373182 -0.03000467\n",
      " -0.01070108 -0.00441805  0.04601807 -0.0161028   0.01793485  0.01815857\n",
      " -0.04807954  0.00668582 -0.03089207 -0.00896778  0.02385772  0.03594344\n",
      "  0.0294818  -0.04321555  0.0080189   0.03203883 -0.02785861  0.02063647\n",
      "  0.03338015  0.04702636  0.03556764 -0.03444388 -0.03620957 -0.02443733\n",
      "  0.0255453  -0.02926643 -0.04778406  0.04643757 -0.00471929  0.00891502\n",
      "  0.0335073   0.03496692  0.01547328  0.01658198]\n",
      "훈련 데이터 shape: (80003, 64)\n",
      "\n"
     ]
    }
   ],
   "source": [
    "# 5. concat : layer 0, size : layer [0]\n",
    "vector = keras.layers.Concatenate()\n",
    "concatenates_output = vector([user_output, item_output])\n",
    "\n",
    "print(\"---- 사용자 X 아이템 ----\")\n",
    "print(\"입력 값: {}\".format(X_train[0, 0], X_train[0, 1]))\n",
    "print(\"concatenate 층 출력 값: {}\".format(concatenates_output[0].numpy()))\n",
    "print(\"훈련 데이터 shape: {}\\n\".format(concatenates_output.shape))"
   ]
  },
  {
   "cell_type": "code",
   "execution_count": 32,
   "id": "a8f1999a",
   "metadata": {},
   "outputs": [
    {
     "name": "stdout",
     "output_type": "stream",
     "text": [
      "---- MLP의 결과값은 사용자와 아이템 간의 비선형적 관계를 나타낸다. ----\n",
      "[[ 1.7437774e-03]\n",
      " [-1.1439871e-03]\n",
      " [-2.1923371e-03]\n",
      " ...\n",
      " [-6.4805266e-05]\n",
      " [ 2.6360380e-03]\n",
      " [ 6.8094563e-03]]\n"
     ]
    }
   ],
   "source": [
    "# 6. Hidden Layers : 1 ~ num_layer\n",
    "model = keras.Sequential()\n",
    "for index in range(num_layers):\n",
    "    hidden_layer = keras.layers.Dense(\n",
    "                    layers[index],\n",
    "                    kernel_regularizer=keras.regularizers.l2(regs),\n",
    "                    activation = keras.activations.relu,\n",
    "                    name = \"layer_{}\".format(index)\n",
    "                   )\n",
    "    model.add(hidden_layer)\n",
    "    \n",
    "# 7. Dense Layer\n",
    "output_layer = keras.layers.Dense(1,kernel_initializer=keras.initializers.lecun_uniform(),name=\"output\")\n",
    "model.add(output_layer)\n",
    "\n",
    "output = model(concatenates_output)\n",
    "print(\"---- MLP의 결과값은 사용자와 아이템 간의 비선형적 관계를 나타낸다. ----\")\n",
    "print(output.numpy())"
   ]
  },
  {
   "cell_type": "markdown",
   "id": "77e70b15",
   "metadata": {},
   "source": [
    "## 2. Use"
   ]
  },
  {
   "cell_type": "code",
   "execution_count": null,
   "id": "1f17e057",
   "metadata": {},
   "outputs": [],
   "source": []
  }
 ],
 "metadata": {
  "kernelspec": {
   "display_name": "Python 3 (ipykernel)",
   "language": "python",
   "name": "python3"
  },
  "language_info": {
   "codemirror_mode": {
    "name": "ipython",
    "version": 3
   },
   "file_extension": ".py",
   "mimetype": "text/x-python",
   "name": "python",
   "nbconvert_exporter": "python",
   "pygments_lexer": "ipython3",
   "version": "3.8.12"
  }
 },
 "nbformat": 4,
 "nbformat_minor": 5
}

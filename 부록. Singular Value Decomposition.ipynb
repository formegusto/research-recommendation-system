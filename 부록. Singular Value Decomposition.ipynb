{
 "cells": [
  {
   "cell_type": "code",
   "execution_count": 15,
   "id": "7965d8d4",
   "metadata": {},
   "outputs": [],
   "source": [
    "# https://wikidocs.net/24949\n",
    "\n",
    "import numpy as np\n",
    "from sklearn.feature_extraction.text import CountVectorizer"
   ]
  },
  {
   "cell_type": "markdown",
   "id": "02e31bd1",
   "metadata": {},
   "source": [
    "# 1. Data"
   ]
  },
  {
   "cell_type": "code",
   "execution_count": 16,
   "id": "e8e78264",
   "metadata": {},
   "outputs": [
    {
     "name": "stdout",
     "output_type": "stream",
     "text": [
      "{'this': 8, 'is': 2, 'banana': 0, 'long': 3, 'fruit': 1, 'or': 6, 'not': 5, 'love': 4, 'pineapple': 7}\n",
      "[[1 0 1 0 0 0 0 0 1]\n",
      " [1 0 1 1 0 0 0 0 0]\n",
      " [1 1 1 0 0 1 1 0 0]\n",
      " [0 0 0 0 1 0 0 1 0]]\n"
     ]
    }
   ],
   "source": [
    "corpus = [\n",
    "    \"this is banana\",\n",
    "    \"banana is long\",\n",
    "    \"Is a banana a fruit or not\",\n",
    "    \"i love pineapple\"\n",
    "]\n",
    "vec = CountVectorizer()\n",
    "vec.fit(corpus)\n",
    "\n",
    "print(vec.vocabulary_)\n",
    "print(vec.transform(corpus).toarray())"
   ]
  },
  {
   "cell_type": "code",
   "execution_count": 17,
   "id": "00996eb3",
   "metadata": {},
   "outputs": [
    {
     "name": "stdout",
     "output_type": "stream",
     "text": [
      "A (shape) : (4, 9)\n"
     ]
    }
   ],
   "source": [
    "A = vec.transform(corpus).toarray()\n",
    "print('A (shape) :', A.shape)"
   ]
  },
  {
   "cell_type": "markdown",
   "id": "315a22d6",
   "metadata": {},
   "source": [
    "# 2. Full SVD"
   ]
  },
  {
   "cell_type": "code",
   "execution_count": 18,
   "id": "ff2ed1c4",
   "metadata": {},
   "outputs": [
    {
     "name": "stdout",
     "output_type": "stream",
     "text": [
      "U (shape) : (4, 4)\n",
      "sigma (shape) : (4,)\n",
      "VT (shape) : (9, 9)\n"
     ]
    }
   ],
   "source": [
    "U, s, VT = np.linalg.svd(A, full_matrices = True)\n",
    "\n",
    "print(\"U (shape) :\", U.shape)\n",
    "print(\"sigma (shape) :\", s.shape)\n",
    "print(\"VT (shape) :\", VT.shape)"
   ]
  },
  {
   "cell_type": "code",
   "execution_count": 19,
   "id": "8e4f335b",
   "metadata": {},
   "outputs": [
    {
     "data": {
      "text/plain": [
       "array([[ 0.5 ,  0.5 ,  0.  ,  0.71],\n",
       "       [ 0.5 ,  0.5 ,  0.  , -0.71],\n",
       "       [ 0.71, -0.71,  0.  ,  0.  ],\n",
       "       [ 0.  ,  0.  ,  1.  ,  0.  ]])"
      ]
     },
     "execution_count": 19,
     "metadata": {},
     "output_type": "execute_result"
    }
   ],
   "source": [
    "# 직교행렬 U\n",
    "U.round(2)"
   ]
  },
  {
   "cell_type": "code",
   "execution_count": 20,
   "id": "81c48c01",
   "metadata": {},
   "outputs": [
    {
     "data": {
      "text/plain": [
       "array([[2.8 , 0.  , 0.  , 0.  , 0.  , 0.  , 0.  , 0.  , 0.  ],\n",
       "       [0.  , 1.47, 0.  , 0.  , 0.  , 0.  , 0.  , 0.  , 0.  ],\n",
       "       [0.  , 0.  , 1.41, 0.  , 0.  , 0.  , 0.  , 0.  , 0.  ],\n",
       "       [0.  , 0.  , 0.  , 1.  , 0.  , 0.  , 0.  , 0.  , 0.  ]])"
      ]
     },
     "execution_count": 20,
     "metadata": {},
     "output_type": "execute_result"
    }
   ],
   "source": [
    "# 시그마\n",
    "# 특잇값 벡터\n",
    "# 대각 행렬로 변환\n",
    "S = np.zeros((4, 9))\n",
    "S[:4, :4] = np.diag(s)\n",
    "\n",
    "S.round(2)"
   ]
  },
  {
   "cell_type": "code",
   "execution_count": 21,
   "id": "b619a6d3",
   "metadata": {},
   "outputs": [
    {
     "data": {
      "text/plain": [
       "array([[ 0.61,  0.25,  0.61,  0.18,  0.  ,  0.25,  0.25,  0.  ,  0.18],\n",
       "       [ 0.2 , -0.48,  0.2 ,  0.34,  0.  , -0.48, -0.48,  0.  ,  0.34],\n",
       "       [-0.  , -0.  , -0.  ,  0.  ,  0.71,  0.  ,  0.  ,  0.71,  0.  ],\n",
       "       [-0.  , -0.  , -0.  , -0.71,  0.  ,  0.  ,  0.  ,  0.  ,  0.71],\n",
       "       [-0.21, -0.01,  0.5 , -0.29,  0.5 , -0.14, -0.14, -0.5 , -0.29],\n",
       "       [-0.19, -0.52,  0.14,  0.05,  0.  ,  0.79, -0.21,  0.  ,  0.05],\n",
       "       [-0.19, -0.52,  0.14,  0.05,  0.  , -0.21,  0.79,  0.  ,  0.05],\n",
       "       [-0.21, -0.01,  0.5 , -0.29, -0.5 , -0.14, -0.14,  0.5 , -0.29],\n",
       "       [-0.65,  0.4 ,  0.23,  0.42,  0.  ,  0.01,  0.01,  0.  ,  0.42]])"
      ]
     },
     "execution_count": 21,
     "metadata": {},
     "output_type": "execute_result"
    }
   ],
   "source": [
    "# 직교 행렬\n",
    "VT.round(2)"
   ]
  },
  {
   "cell_type": "code",
   "execution_count": 22,
   "id": "a45d7698",
   "metadata": {},
   "outputs": [
    {
     "name": "stdout",
     "output_type": "stream",
     "text": [
      "원본행렬과 동일 여부 : True\n"
     ]
    },
    {
     "data": {
      "text/plain": [
       "array([[ 1., -0.,  1., -0.,  0., -0., -0.,  0.,  1.],\n",
       "       [ 1.,  0.,  1.,  1.,  0., -0., -0.,  0.,  0.],\n",
       "       [ 1.,  1.,  1.,  0.,  0.,  1.,  1.,  0., -0.],\n",
       "       [ 0.,  0.,  0.,  0.,  1.,  0.,  0.,  1.,  0.]])"
      ]
     },
     "execution_count": 22,
     "metadata": {},
     "output_type": "execute_result"
    }
   ],
   "source": [
    "# 원본 행렬 복구\n",
    "A_hat = np.dot(np.dot(U, S), VT).round(2)\n",
    "\n",
    "print(\"원본행렬과 동일 여부 :\", np.allclose(A, A_hat))\n",
    "A_hat"
   ]
  },
  {
   "cell_type": "markdown",
   "id": "01b1a4f5",
   "metadata": {},
   "source": [
    "# 3. Truncated SVD"
   ]
  },
  {
   "cell_type": "code",
   "execution_count": 23,
   "id": "44659883",
   "metadata": {},
   "outputs": [
    {
     "data": {
      "text/plain": [
       "array([[2.8 , 0.  ],\n",
       "       [0.  , 1.47]])"
      ]
     },
     "execution_count": 23,
     "metadata": {},
     "output_type": "execute_result"
    }
   ],
   "source": [
    "size = 2\n",
    "\n",
    "# 특잇값 대각 행렬인 시그마 축소\n",
    "S = S[:size, :size]\n",
    "\n",
    "S.round(2)"
   ]
  },
  {
   "cell_type": "code",
   "execution_count": 24,
   "id": "c0de7b30",
   "metadata": {},
   "outputs": [
    {
     "data": {
      "text/plain": [
       "array([[ 0.5 ,  0.5 ],\n",
       "       [ 0.5 ,  0.5 ],\n",
       "       [ 0.71, -0.71],\n",
       "       [ 0.  ,  0.  ]])"
      ]
     },
     "execution_count": 24,
     "metadata": {},
     "output_type": "execute_result"
    }
   ],
   "source": [
    "# 직교 행렬 U 축소\n",
    "U = U[:, :size]\n",
    "\n",
    "U.round(2)"
   ]
  },
  {
   "cell_type": "code",
   "execution_count": 25,
   "id": "85d7780a",
   "metadata": {},
   "outputs": [
    {
     "data": {
      "text/plain": [
       "array([[ 0.61,  0.25,  0.61,  0.18,  0.  ,  0.25,  0.25,  0.  ,  0.18],\n",
       "       [ 0.2 , -0.48,  0.2 ,  0.34,  0.  , -0.48, -0.48,  0.  ,  0.34]])"
      ]
     },
     "execution_count": 25,
     "metadata": {},
     "output_type": "execute_result"
    }
   ],
   "source": [
    "# 전치 행렬 VT 축소\n",
    "VT = VT[:size, :]\n",
    "\n",
    "VT.round(2)"
   ]
  },
  {
   "cell_type": "code",
   "execution_count": 26,
   "id": "724292c4",
   "metadata": {},
   "outputs": [
    {
     "name": "stdout",
     "output_type": "stream",
     "text": [
      "[[1 0 1 0 0 0 0 0 1]\n",
      " [1 0 1 1 0 0 0 0 0]\n",
      " [1 1 1 0 0 1 1 0 0]\n",
      " [0 0 0 0 1 0 0 1 0]]\n",
      "[[ 1.  -0.   1.   0.5  0.  -0.  -0.   0.   0.5]\n",
      " [ 1.   0.   1.   0.5  0.  -0.  -0.   0.   0.5]\n",
      " [ 1.   1.   1.   0.   0.   1.   1.   0.  -0. ]\n",
      " [ 0.   0.   0.   0.   0.   0.   0.   0.   0. ]]\n"
     ]
    }
   ],
   "source": [
    "# 복구\n",
    "A_prime = np.dot(np.dot(U, S), VT)\n",
    "print(A)\n",
    "print(A_prime.round(2))"
   ]
  },
  {
   "cell_type": "markdown",
   "id": "aab11e78",
   "metadata": {},
   "source": [
    "- 대체적으로 기존에 0인 값들은 0에 가까운 값이 나왔다.\n",
    "- 제대로 복구되지 않은 구간도 존재한다.\n",
    "- 해당 데이터는 문서의 topic count vectorize 데이터를 나타내던 행렬이다.\n",
    "    - 즉, 행렬의 크기는 문서 수 X 토픽의 수\n",
    "    - 이를 4 x 4 에서 4 x 2 로 줄여냈는데, 여기서 문서의 수는 유지되었지만, 토픽의 수는 줄어들었다.\n",
    "    - 즉, 4개의 문서를 2개의 값으로 표현을 해내야 하는데, 이를 값으로 표현하면,\n",
    "        - U (4 X 4 -> 4 X 2) : 잠재 의미를 표현하기 위한 각 각의 문서 벡터\n",
    "        - VT (9 X 9 -> 2 X 9) : 잠재 의미를 표현하기 위한 각 각의 토픽 벡터\n",
    "    -> 즉, 간단히 말하면 원래는 9개의 토픽으로 표현할 수 있던 문서 벡터를 2개의 토픽으로만 표현하여 잠재의미를 표현하는 것 이다.\n",
    "    -> 위의 원본 행렬에서 마지막 문서벡터는 다른 문서 벡터와 완전히 반대되는 토픽을 가지고 있다. \n",
    "    -> 아래의 잠재의미 행렬에서 마지막 문서벡터는 복구되지 않았다. 행렬 분해에서는 행렬에서 강한 특징을 가지고 있는 값이 살아남는다."
   ]
  }
 ],
 "metadata": {
  "kernelspec": {
   "display_name": "Python 3 (ipykernel)",
   "language": "python",
   "name": "python3"
  },
  "language_info": {
   "codemirror_mode": {
    "name": "ipython",
    "version": 3
   },
   "file_extension": ".py",
   "mimetype": "text/x-python",
   "name": "python",
   "nbconvert_exporter": "python",
   "pygments_lexer": "ipython3",
   "version": "3.8.12"
  }
 },
 "nbformat": 4,
 "nbformat_minor": 5
}

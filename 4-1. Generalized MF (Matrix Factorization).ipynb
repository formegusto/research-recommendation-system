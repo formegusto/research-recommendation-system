{
 "cells": [
  {
   "cell_type": "code",
   "execution_count": 1,
   "id": "1d1972d1",
   "metadata": {},
   "outputs": [],
   "source": [
    "%load_ext autoreload\n",
    "%autoreload 2\n",
    "%reload_ext autoreload"
   ]
  },
  {
   "cell_type": "code",
   "execution_count": 211,
   "id": "2e0827e8",
   "metadata": {},
   "outputs": [],
   "source": [
    "from datetime import datetime as dt\n",
    "\n",
    "import tensorflow as tf\n",
    "from tensorflow import keras\n",
    "\n",
    "from module import DataLoader\n",
    "import matplotlib.pyplot as plt\n",
    "import pandas as pd"
   ]
  },
  {
   "cell_type": "markdown",
   "id": "9635bcf9",
   "metadata": {},
   "source": [
    "# 1. Data\n",
    "- 해당의 데이터는 movielens 데이터이며, train_test_split 으로 나누어져 훈련용, 시험용 데이터로 나누어진다.\n",
    "- generate_trainset, generate_testset 으로 인해 반환되는 값은 numpy array의 형식으로 X, y 로 반환된다."
   ]
  },
  {
   "cell_type": "code",
   "execution_count": 212,
   "id": "e1d8594c",
   "metadata": {},
   "outputs": [
    {
     "name": "stdout",
     "output_type": "stream",
     "text": [
      "훈련 데이터 shape : (80003, 2), 훈련 라벨 갯수 : 80003\n",
      "테스트 데이터 shape : (19259, 2), 테스트 라벨 갯수 : 19259\n"
     ]
    }
   ],
   "source": [
    "loader = DataLoader()\n",
    "\n",
    "X_train, y_train = loader.generate_trainset()\n",
    "X_test, y_test = loader.generate_testset()\n",
    "\n",
    "print(\"훈련 데이터 shape : {}, 훈련 라벨 갯수 : {}\".format(X_train.shape, y_train.size))\n",
    "print(\"테스트 데이터 shape : {}, 테스트 라벨 갯수 : {}\".format(X_test.shape, y_test.size))"
   ]
  },
  {
   "cell_type": "markdown",
   "id": "35f28cd7",
   "metadata": {},
   "source": [
    "# 2. Generalized MF (Matrix Factorization)"
   ]
  },
  {
   "cell_type": "markdown",
   "id": "0cfe27c2",
   "metadata": {},
   "source": [
    "## 1. Generate GMF Model Process"
   ]
  },
  {
   "cell_type": "code",
   "execution_count": 213,
   "id": "a1ae3f5e",
   "metadata": {},
   "outputs": [],
   "source": [
    "# 1. Setting Value \n",
    "num_users = loader.num_users\n",
    "num_items = loader.num_items\n",
    "latent_features = 8 # 임베딩 층이 만들어낼 잠재변수의 갯수\n",
    "regs = 0"
   ]
  },
  {
   "cell_type": "code",
   "execution_count": 214,
   "id": "3c6ec88b",
   "metadata": {},
   "outputs": [],
   "source": [
    "# 2. 입력 층 생성\n",
    "user_input = keras.Input(shape=(1,), dtype='int32')\n",
    "item_input = keras.Input(shape=(1,), dtype='int32')"
   ]
  },
  {
   "cell_type": "code",
   "execution_count": 215,
   "id": "11404094",
   "metadata": {},
   "outputs": [],
   "source": [
    "# 3. embedding 층 생성\n",
    "user_embedding = keras.layers.Embedding(\n",
    "                    num_users,\n",
    "                    latent_features,\n",
    "                    embeddings_regularizer=keras.regularizers.l2(regs),\n",
    "                    name='user_emebedding')\n",
    "item_embedding = keras.layers.Embedding(\n",
    "                    num_items,\n",
    "                    latent_features,\n",
    "                    embeddings_regularizer=keras.regularizers.l2(regs),\n",
    "                    name='item_emebedding')"
   ]
  },
  {
   "cell_type": "markdown",
   "id": "cb1bea0c",
   "metadata": {},
   "source": [
    "### 1. 중간점검\n",
    "- embedding 층은 입력값에 대하여 어떠한 변화를 줄 때 사용된다. 주로 자연어 처리에서 one-hot encoding 을 진행할 때 사용 하는 층이다.\n",
    "- 현재의 예제에서는 유저의 인덱스를 letent_features (잠재 의미)의 갯수를 가진 잠재 벡터로 만드는 역할을 하며, 여기에 적용되는 식은 l2 정규화를 사용한다.\n",
    "    - 하지만 해당 단계 까지는 latent space라고 보아도 무방하다."
   ]
  },
  {
   "cell_type": "code",
   "execution_count": 216,
   "id": "9a0d590a",
   "metadata": {},
   "outputs": [
    {
     "name": "stdout",
     "output_type": "stream",
     "text": [
      "---- 사용자 ----\n",
      "입력 값: 0\n",
      "임베딩 층 출력 값: [[-0.02051265 -0.00845256  0.04035517 -0.02870136  0.02210058  0.020598\n",
      "  -0.01471566  0.00197081]]\n",
      "훈련 데이터 shape: (80003, 1, 8)\n",
      "\n",
      "---- 아이템 ----\n",
      "입력 값: 0\n",
      "임베딩 층 출력 값: [[ 0.00317975  0.01180904  0.04545465  0.04338073 -0.0476738  -0.00165626\n",
      "   0.01343837 -0.02879767]]\n",
      "훈련 데이터 shape: (80003, 1, 8)\n"
     ]
    }
   ],
   "source": [
    "user_model = keras.Sequential()\n",
    "item_model = keras.Sequential()\n",
    "\n",
    "user_model.add(user_input)\n",
    "user_model.add(user_embedding)\n",
    "\n",
    "item_model.add(item_input)\n",
    "item_model.add(item_embedding)\n",
    "\n",
    "user_output = user_model(X_train[:, 0])\n",
    "item_output = item_model(X_train[:, 1])\n",
    "\n",
    "print(\"---- 사용자 ----\")\n",
    "print(\"입력 값: {}\".format(X_train[0, 0]))\n",
    "print(\"임베딩 층 출력 값: {}\".format(user_output[0].numpy()))\n",
    "print(\"훈련 데이터 shape: {}\\n\".format(user_output.shape))\n",
    "\n",
    "print(\"---- 아이템 ----\")\n",
    "print(\"입력 값: {}\".format(X_train[0, 1]))\n",
    "print(\"임베딩 층 출력 값: {}\".format(item_output[0].numpy()))\n",
    "print(\"훈련 데이터 shape: {}\".format(item_output.shape))"
   ]
  },
  {
   "cell_type": "code",
   "execution_count": 217,
   "id": "5698a80e",
   "metadata": {},
   "outputs": [
    {
     "name": "stdout",
     "output_type": "stream",
     "text": [
      "---- 사용자 ----\n",
      "입력 값: 0\n",
      "임베딩 층 출력 값: [-0.02051265 -0.00845256  0.04035517 -0.02870136  0.02210058  0.020598\n",
      " -0.01471566  0.00197081]\n",
      "훈련 데이터 shape: (80003, 8)\n",
      "\n",
      "---- 아이템 ----\n",
      "입력 값: 0\n",
      "임베딩 층 출력 값: [ 0.00317975  0.01180904  0.04545465  0.04338073 -0.0476738  -0.00165626\n",
      "  0.01343837 -0.02879767]\n",
      "훈련 데이터 shape: (80003, 8)\n"
     ]
    }
   ],
   "source": [
    "# 4. Flatten 층\n",
    "user_latent = keras.layers.Flatten()\n",
    "item_latent = keras.layers.Flatten()\n",
    "\n",
    "user_model.add(user_latent)\n",
    "item_model.add(item_latent)\n",
    "\n",
    "user_output = user_model(X_train[:, 0])\n",
    "item_output = item_model(X_train[:, 1])\n",
    "\n",
    "print(\"---- 사용자 ----\")\n",
    "print(\"입력 값: {}\".format(X_train[0, 0]))\n",
    "print(\"임베딩 층 출력 값: {}\".format(user_output[0].numpy()))\n",
    "print(\"훈련 데이터 shape: {}\\n\".format(user_output.shape))\n",
    "\n",
    "print(\"---- 아이템 ----\")\n",
    "print(\"입력 값: {}\".format(X_train[0, 1]))\n",
    "print(\"임베딩 층 출력 값: {}\".format(item_output[0].numpy()))\n",
    "print(\"훈련 데이터 shape: {}\".format(item_output.shape))"
   ]
  },
  {
   "cell_type": "code",
   "execution_count": 218,
   "id": "f1e4b315",
   "metadata": {},
   "outputs": [
    {
     "name": "stdout",
     "output_type": "stream",
     "text": [
      "---- 사용자 X 아이템 ----\n",
      "입력 값: 0\n",
      "임베딩 층 출력 값: [-6.5225140e-05 -9.9816585e-05  1.8343304e-03 -1.2450861e-03\n",
      " -1.0536186e-03 -3.4115572e-05 -1.9775449e-04 -5.6754609e-05]\n",
      "훈련 데이터 shape: (80003, 8)\n",
      "\n"
     ]
    }
   ],
   "source": [
    "# 5. concat with multiply\n",
    "concat = keras.layers.Multiply()\n",
    "merge_output = concat([user_output, item_output])\n",
    "\n",
    "print(\"---- 사용자 X 아이템 ----\")\n",
    "print(\"입력 값: {}\".format(X_train[0, 0], X_train[0, 1]))\n",
    "print(\"Multiply 층 출력 값: {}\".format(merge_output[0].numpy()))\n",
    "print(\"훈련 데이터 shape: {}\\n\".format(merge_output.shape))"
   ]
  },
  {
   "cell_type": "code",
   "execution_count": 219,
   "id": "819183d0",
   "metadata": {},
   "outputs": [
    {
     "name": "stdout",
     "output_type": "stream",
     "text": [
      "---- GMF의 결과값은 사용자와 아이템 간의 선형적 관계를 나타낸다. ----\n",
      "[[-8.0654339e-05]\n",
      " [-3.6534763e-04]\n",
      " [ 6.7281967e-04]\n",
      " ...\n",
      " [ 3.5630772e-05]\n",
      " [ 2.8997893e-05]\n",
      " [-2.2314362e-04]]\n"
     ]
    }
   ],
   "source": [
    "# 6. Dense Layer\n",
    "output_layer = keras.layers.Dense(1, kernel_initializer=keras.initializers.lecun_uniform(), name='output')\n",
    "output = output_layer(merge_output)\n",
    "\n",
    "print(\"---- GMF의 결과값은 사용자와 아이템 간의 선형적 관계를 나타낸다. ----\")\n",
    "print(output.numpy())"
   ]
  },
  {
   "cell_type": "markdown",
   "id": "7e4fbb55",
   "metadata": {},
   "source": [
    "## 2. Use"
   ]
  },
  {
   "cell_type": "code",
   "execution_count": 220,
   "id": "f5b1c45b",
   "metadata": {},
   "outputs": [],
   "source": [
    "# 1. model setting\n",
    "from model import GMF\n",
    "model = GMF(loader.num_users, loader.num_items).get_model()"
   ]
  },
  {
   "cell_type": "code",
   "execution_count": 221,
   "id": "46fe4c2e",
   "metadata": {},
   "outputs": [],
   "source": [
    "# 2. Callbacks\n",
    "early_stop_cb = keras.callbacks.EarlyStopping(patience=10, restore_best_weights=True)\n",
    "# model_out_file = 'Pretrain/GMF_%s.h5' % (datetime.now().strftime('%Y-%m-%d-%h-%m-%s'))\n",
    "# model_check_cb = keras.callbacks.ModelCheckpoint(model_out_file, save_best_only=True)"
   ]
  },
  {
   "cell_type": "code",
   "execution_count": 224,
   "id": "1881df78",
   "metadata": {},
   "outputs": [],
   "source": [
    "# 3. Compile\n",
    "learner = \"adam\"\n",
    "learning_rate = 0.001\n",
    "\n",
    "if learner == \"adagrad\":\n",
    "    model.compile(optimizer=keras.optimizers.Adagrad(learning_rate=learning_rate), loss='mse')\n",
    "elif learner == \"rmsprop\":\n",
    "    model.compile(optimizer=keras.optimizers.RMSprop(learning_rate=learning_rate), loss='mse')\n",
    "elif learner == \"adam\":\n",
    "    model.compile(optimizer=keras.optimizers.Adam(learning_rate=learning_rate), loss='mse')\n",
    "else:\n",
    "    model.compile(optimizer=keras.optimizers.SGD(learning_rate=learning_rate), loss='mse')"
   ]
  },
  {
   "cell_type": "code",
   "execution_count": 225,
   "id": "dbe0fdde",
   "metadata": {},
   "outputs": [
    {
     "name": "stdout",
     "output_type": "stream",
     "text": [
      "Epoch 1/10\n",
      "2501/2501 [==============================] - 4s 2ms/step - loss: 0.5504 - val_loss: 0.8429\n",
      "Epoch 2/10\n",
      "2501/2501 [==============================] - 3s 1ms/step - loss: 0.5165 - val_loss: 0.8483\n",
      "Epoch 3/10\n",
      "2501/2501 [==============================] - 3s 1ms/step - loss: 0.4854 - val_loss: 0.8591\n",
      "Epoch 4/10\n",
      "2501/2501 [==============================] - 4s 2ms/step - loss: 0.4618 - val_loss: 0.8705\n",
      "Epoch 5/10\n",
      "2501/2501 [==============================] - 4s 1ms/step - loss: 0.4420 - val_loss: 0.8848\n",
      "Epoch 6/10\n",
      "2501/2501 [==============================] - 4s 2ms/step - loss: 0.4271 - val_loss: 0.8922\n",
      "Epoch 7/10\n",
      "2501/2501 [==============================] - 4s 1ms/step - loss: 0.4141 - val_loss: 0.9076\n",
      "Epoch 8/10\n",
      "2501/2501 [==============================] - 3s 1ms/step - loss: 0.4039 - val_loss: 0.9159\n",
      "Epoch 9/10\n",
      "2501/2501 [==============================] - 3s 1ms/step - loss: 0.3951 - val_loss: 0.9311\n",
      "Epoch 10/10\n",
      "2501/2501 [==============================] - 4s 1ms/step - loss: 0.3878 - val_loss: 0.9370\n"
     ]
    }
   ],
   "source": [
    "# 4. Train\n",
    "epochs = 10\n",
    "batch_size = 32\n",
    "\n",
    "history = model.fit(\n",
    "            [X_train[:, 0], X_train[:, 1]], y_train,\n",
    "            epochs=epochs,\n",
    "            batch_size=batch_size,\n",
    "            validation_data=([X_test[:, 0], X_test[:, 1]], y_test),\n",
    "            callbacks=[early_stop_cb]\n",
    "        )"
   ]
  },
  {
   "cell_type": "code",
   "execution_count": 226,
   "id": "78d7abbe",
   "metadata": {},
   "outputs": [
    {
     "data": {
      "image/png": "[encoded data removed]",
      "text/plain": [
       "<Figure size 576x360 with 1 Axes>"
      ]
     },
     "metadata": {
      "needs_background": "light"
     },
     "output_type": "display_data"
    },
    {
     "name": "stdout",
     "output_type": "stream",
     "text": [
      "[3.7625666 2.5908964 3.591821  3.4018238 4.5492563 4.5212317 4.2892637\n",
      " 2.09861   4.1042223 2.1768792]\n",
      "[5. 3. 4. 4. 5. 5. 5. 3. 4. 2.]\n"
     ]
    }
   ],
   "source": [
    "# 5. Result\n",
    "pd.DataFrame(history.history).plot(figsize= (8,5))\n",
    "plt.show()\n",
    "test_sample = X_test[:10]\n",
    "test_sample_label = y_test[:10]\n",
    "print(model.predict([test_sample[:, 0], test_sample[:, 1]]).flatten())\n",
    "print(test_sample_label)"
   ]
  }
 ],
 "metadata": {
  "kernelspec": {
   "display_name": "Python 3 (ipykernel)",
   "language": "python",
   "name": "python3"
  },
  "language_info": {
   "codemirror_mode": {
    "name": "ipython",
    "version": 3
   },
   "file_extension": ".py",
   "mimetype": "text/x-python",
   "name": "python",
   "nbconvert_exporter": "python",
   "pygments_lexer": "ipython3",
   "version": "3.8.12"
  }
 },
 "nbformat": 4,
 "nbformat_minor": 5
}

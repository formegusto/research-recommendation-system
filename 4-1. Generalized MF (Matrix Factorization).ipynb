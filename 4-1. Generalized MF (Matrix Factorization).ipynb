{
 "cells": [
  {
   "cell_type": "code",
   "execution_count": 1,
   "id": "a17eea84",
   "metadata": {},
   "outputs": [],
   "source": [
    "%load_ext autoreload\n",
    "%autoreload 2\n",
    "%reload_ext autoreload"
   ]
  },
  {
   "cell_type": "code",
   "execution_count": 20,
   "id": "2e0827e8",
   "metadata": {},
   "outputs": [],
   "source": [
    "from datetime import datetime as dt\n",
    "\n",
    "import tensorflow as tf\n",
    "from tensorflow import keras\n",
    "\n",
    "from module import DataLoader\n",
    "import matplotlib.pyplot as plt\n",
    "import pandas as pd"
   ]
  },
  {
   "cell_type": "markdown",
   "id": "49410751",
   "metadata": {},
   "source": [
    "# 1. Data\n",
    "- 해당의 데이터는 movielens 데이터이며, train_test_split 으로 나누어져 훈련용, 시험용 데이터로 나누어진다.\n",
    "- generate_trainset, generate_testset 으로 인해 반환되는 값은 numpy array의 형식으로 X, y 로 반환된다."
   ]
  },
  {
   "cell_type": "code",
   "execution_count": 23,
   "id": "d9198c4e",
   "metadata": {},
   "outputs": [
    {
     "name": "stdout",
     "output_type": "stream",
     "text": [
      "훈련 데이터 shape : (80003, 2), 훈련 라벨 갯수 : 80003\n",
      "테스트 데이터 shape : (19259, 2), 테스트 라벨 갯수 : 19259\n"
     ]
    }
   ],
   "source": [
    "loader = DataLoader()\n",
    "\n",
    "X_train, y_train = loader.generate_trainset()\n",
    "X_test, y_test = loader.generate_testset()\n",
    "\n",
    "print(\"훈련 데이터 shape : {}, 훈련 라벨 갯수 : {}\".format(X_train.shape, y_train.size))\n",
    "print(\"테스트 데이터 shape : {}, 테스트 라벨 갯수 : {}\".format(X_test.shape, y_test.size))"
   ]
  },
  {
   "cell_type": "markdown",
   "id": "7a8103be",
   "metadata": {},
   "source": [
    "# 2. Generalized MF (Matrix Factorization)"
   ]
  },
  {
   "cell_type": "markdown",
   "id": "4a5ec00e",
   "metadata": {},
   "source": [
    "## 1. Generate GMF Model Process"
   ]
  },
  {
   "cell_type": "code",
   "execution_count": 25,
   "id": "c8c9a963",
   "metadata": {},
   "outputs": [],
   "source": [
    "# 1. Setting Value \n",
    "num_users = loader.num_users\n",
    "num_items = loader.num_items\n",
    "latent_features = 8 # 임베딩 층이 만들어낼 잠재변수의 갯수\n",
    "regs = [0, 0]"
   ]
  },
  {
   "cell_type": "code",
   "execution_count": 86,
   "id": "ce7fc292",
   "metadata": {},
   "outputs": [],
   "source": [
    "# 2. 입력 층 생성\n",
    "user_input = keras.Input(shape=(1,), dtype='int32')\n",
    "item_input = keras.Input(shape=(1,), dtype='int32')"
   ]
  },
  {
   "cell_type": "code",
   "execution_count": 132,
   "id": "1497b127",
   "metadata": {},
   "outputs": [],
   "source": [
    "# 3. embedding 층 생성\n",
    "user_embedding = keras.layers.Embedding(\n",
    "                    num_users,\n",
    "                    latent_features,\n",
    "                    embeddings_regularizer=keras.regularizers.l2(0),\n",
    "                    name='user_emebedding')\n",
    "item_embedding = keras.layers.Embedding(\n",
    "                    num_items,\n",
    "                    latent_features,\n",
    "                    embeddings_regularizer=keras.regularizers.l2(0),\n",
    "                    name='item_emebedding')"
   ]
  },
  {
   "cell_type": "markdown",
   "id": "e4adccb7",
   "metadata": {},
   "source": [
    "### 1. 중간점검\n",
    "- embedding 층은 입력값에 대하여 어떠한 변화를 줄 때 사용된다. 주로 자연어 처리에서 one-hot encoding 을 진행할 때 사용 하는 층이다.\n",
    "- 현재의 예제에서는 유저의 인덱스를 letent_features (잠재 의미)의 갯수를 가진 잠재 벡터로 만드는 역할을 하며, 여기에 적용되는 식은 l2 정규화를 사용한다.\n",
    "    - 하지만 해당 단계 까지는 latent space라고 보아도 무방하다."
   ]
  },
  {
   "cell_type": "code",
   "execution_count": 166,
   "id": "3c96dfe3",
   "metadata": {},
   "outputs": [
    {
     "name": "stdout",
     "output_type": "stream",
     "text": [
      "---- 사용자 ----\n",
      "입력 값: 0\n",
      "임베딩 층 출력 값: [[-0.04784346  0.0219305   0.02599366  0.01803069  0.00854274  0.00518177\n",
      "   0.03042683  0.03014571]]\n",
      "훈련 데이터 shape: (80003, 1, 8)\n",
      "\n",
      "---- 아이템 ----\n",
      "입력 값: 0\n",
      "임베딩 층 출력 값: [[-0.03670434  0.00328875  0.04756906 -0.04486153 -0.04150504 -0.00676814\n",
      "   0.01595345  0.03219468]]\n",
      "훈련 데이터 shape: (80003, 1, 8)\n"
     ]
    }
   ],
   "source": [
    "user_model = keras.Sequential()\n",
    "item_model = keras.Sequential()\n",
    "\n",
    "user_model.add(user_input)\n",
    "user_model.add(user_embedding)\n",
    "\n",
    "item_model.add(item_input)\n",
    "item_model.add(item_embedding)\n",
    "\n",
    "user_output = user_model(X_train[:, 0])\n",
    "item_output = item_model(X_train[:, 1])\n",
    "\n",
    "print(\"---- 사용자 ----\")\n",
    "print(\"입력 값: {}\".format(X_train[0, 0]))\n",
    "print(\"임베딩 층 출력 값: {}\".format(user_output[0].numpy()))\n",
    "print(\"훈련 데이터 shape: {}\\n\".format(user_output.shape))\n",
    "\n",
    "print(\"---- 아이템 ----\")\n",
    "print(\"입력 값: {}\".format(X_train[0, 1]))\n",
    "print(\"임베딩 층 출력 값: {}\".format(item_output[0].numpy()))\n",
    "print(\"훈련 데이터 shape: {}\".format(item_output.shape))"
   ]
  },
  {
   "cell_type": "code",
   "execution_count": 167,
   "id": "bc78c547",
   "metadata": {},
   "outputs": [
    {
     "name": "stdout",
     "output_type": "stream",
     "text": [
      "---- 사용자 ----\n",
      "입력 값: 0\n",
      "임베딩 층 출력 값: [-0.04784346  0.0219305   0.02599366  0.01803069  0.00854274  0.00518177\n",
      "  0.03042683  0.03014571]\n",
      "훈련 데이터 shape: (80003, 8)\n",
      "\n",
      "---- 아이템 ----\n",
      "입력 값: 0\n",
      "임베딩 층 출력 값: [-0.03670434  0.00328875  0.04756906 -0.04486153 -0.04150504 -0.00676814\n",
      "  0.01595345  0.03219468]\n",
      "훈련 데이터 shape: (80003, 8)\n"
     ]
    }
   ],
   "source": [
    "# 4. Flatten 층\n",
    "user_latent = keras.layers.Flatten()\n",
    "item_latent = keras.layers.Flatten()\n",
    "\n",
    "user_model.add(user_latent)\n",
    "item_model.add(item_latent)\n",
    "\n",
    "user_output = user_model(X_train[:, 0])\n",
    "item_output = item_model(X_train[:, 1])\n",
    "\n",
    "print(\"---- 사용자 ----\")\n",
    "print(\"입력 값: {}\".format(X_train[0, 0]))\n",
    "print(\"임베딩 층 출력 값: {}\".format(user_output[0].numpy()))\n",
    "print(\"훈련 데이터 shape: {}\\n\".format(user_output.shape))\n",
    "\n",
    "print(\"---- 아이템 ----\")\n",
    "print(\"입력 값: {}\".format(X_train[0, 1]))\n",
    "print(\"임베딩 층 출력 값: {}\".format(item_output[0].numpy()))\n",
    "print(\"훈련 데이터 shape: {}\".format(item_output.shape))"
   ]
  },
  {
   "cell_type": "code",
   "execution_count": 169,
   "id": "29366da4",
   "metadata": {},
   "outputs": [
    {
     "name": "stdout",
     "output_type": "stream",
     "text": [
      "---- 사용자 X 아이템 ----\n",
      "입력 값: 0\n",
      "임베딩 층 출력 값: [ 1.7560625e-03  7.2123854e-05  1.2364938e-03 -8.0888445e-04\n",
      " -3.5456670e-04 -3.5070949e-05  4.8541278e-04  9.7053137e-04]\n",
      "훈련 데이터 shape: (80003, 8)\n",
      "\n"
     ]
    }
   ],
   "source": [
    "# 5. concat with multiply\n",
    "concat = keras.layers.Multiply()\n",
    "merge_output = concat([user_output, item_output])\n",
    "\n",
    "print(\"---- 사용자 X 아이템 ----\")\n",
    "print(\"입력 값: {}\".format(X_train[0, 0], X_train[0, 1]))\n",
    "print(\"임베딩 층 출력 값: {}\".format(merge_output[0].numpy()))\n",
    "print(\"훈련 데이터 shape: {}\\n\".format(merge_output.shape))"
   ]
  },
  {
   "cell_type": "code",
   "execution_count": 175,
   "id": "151eb4dc",
   "metadata": {},
   "outputs": [
    {
     "name": "stdout",
     "output_type": "stream",
     "text": [
      "---- GMF의 결과값은 사용자와 아이템 간의 선형적 관계를 나타낸다. ----\n",
      "[[-0.00051359]\n",
      " [-0.000428  ]\n",
      " [ 0.00065777]\n",
      " ...\n",
      " [ 0.00037375]\n",
      " [ 0.00054181]\n",
      " [ 0.00133845]]\n"
     ]
    }
   ],
   "source": [
    "# 6. Dense Layer\n",
    "output_layer = keras.layers.Dense(1, kernel_initializer=keras.initializers.lecun_uniform(), name='output')\n",
    "output = output_layer(merge_output)\n",
    "\n",
    "print(\"---- GMF의 결과값은 사용자와 아이템 간의 선형적 관계를 나타낸다. ----\")\n",
    "print(output.numpy())"
   ]
  },
  {
   "cell_type": "code",
   "execution_count": null,
   "id": "972a57cf",
   "metadata": {},
   "outputs": [],
   "source": []
  }
 ],
 "metadata": {
  "kernelspec": {
   "display_name": "Python 3 (ipykernel)",
   "language": "python",
   "name": "python3"
  },
  "language_info": {
   "codemirror_mode": {
    "name": "ipython",
    "version": 3
   },
   "file_extension": ".py",
   "mimetype": "text/x-python",
   "name": "python",
   "nbconvert_exporter": "python",
   "pygments_lexer": "ipython3",
   "version": "3.8.12"
  }
 },
 "nbformat": 4,
 "nbformat_minor": 5
}
